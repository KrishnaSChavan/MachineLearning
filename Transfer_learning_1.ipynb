{
  "nbformat": 4,
  "nbformat_minor": 0,
  "metadata": {
    "colab": {
      "provenance": [],
      "authorship_tag": "ABX9TyN5oUbmqX+XTA1SaADaeYKm",
      "include_colab_link": true
    },
    "kernelspec": {
      "name": "python3",
      "display_name": "Python 3"
    },
    "language_info": {
      "name": "python"
    },
    "accelerator": "GPU",
    "gpuClass": "standard"
  },
  "cells": [
    {
      "cell_type": "markdown",
      "metadata": {
        "id": "view-in-github",
        "colab_type": "text"
      },
      "source": [
        "<a href=\"https://colab.research.google.com/github/KrishnaSChavan/MachineLearning/blob/main/Transfer_learning_1.ipynb\" target=\"_parent\"><img src=\"https://colab.research.google.com/assets/colab-badge.svg\" alt=\"Open In Colab\"/></a>"
      ]
    },
    {
      "cell_type": "markdown",
      "source": [
        "# Classifiying multiple images with transfer learning"
      ],
      "metadata": {
        "id": "FVztHT6f0SII"
      }
    },
    {
      "cell_type": "code",
      "execution_count": 1,
      "metadata": {
        "colab": {
          "base_uri": "https://localhost:8080/"
        },
        "id": "1ZGkY8Cojrr6",
        "outputId": "9733685f-f100-4d3f-9113-2cfdfa7cccc6"
      },
      "outputs": [
        {
          "output_type": "stream",
          "name": "stdout",
          "text": [
            "--2023-05-23 18:04:27--  https://storage.googleapis.com/ztm_tf_course/food_vision/10_food_classes_10_percent.zip\n",
            "Resolving storage.googleapis.com (storage.googleapis.com)... 74.125.24.128, 142.250.4.128, 142.251.10.128, ...\n",
            "Connecting to storage.googleapis.com (storage.googleapis.com)|74.125.24.128|:443... connected.\n",
            "HTTP request sent, awaiting response... 200 OK\n",
            "Length: 168546183 (161M) [application/zip]\n",
            "Saving to: ‘10_food_classes_10_percent.zip’\n",
            "\n",
            "10_food_classes_10_ 100%[===================>] 160.74M  22.3MB/s    in 8.2s    \n",
            "\n",
            "2023-05-23 18:04:36 (19.5 MB/s) - ‘10_food_classes_10_percent.zip’ saved [168546183/168546183]\n",
            "\n"
          ]
        }
      ],
      "source": [
        "import zipfile\n",
        "\n",
        "!wget https://storage.googleapis.com/ztm_tf_course/food_vision/10_food_classes_10_percent.zip\n",
        "\n",
        "zip_r = zipfile.ZipFile('10_food_classes_10_percent.zip')\n",
        "zip_r.extractall()\n",
        "zip_r.close()"
      ]
    },
    {
      "cell_type": "code",
      "source": [
        "import tensorflow as tf\n",
        "import pandas as pd\n",
        "import tensorflow_hub as hub\n",
        "import numpy as np\n",
        "import matplotlib.pyplot as plt\n",
        "import matplotlib.image as mpimg\n",
        "import random\n",
        "import os\n",
        "from tensorflow.keras.preprocessing.image import ImageDataGenerator\n",
        "from tensorflow.keras.layers import Dense,Flatten,Conv2D,MaxPool2D,Activation\n",
        "from tensorflow.keras.optimizers import Adam\n",
        "from tensorflow.keras import Sequential\n",
        "import pathlib\n"
      ],
      "metadata": {
        "id": "aaz0Ef3k2BE1"
      },
      "execution_count": 2,
      "outputs": []
    },
    {
      "cell_type": "code",
      "source": [
        "import os\n",
        "for dirpath, dirnames, filenames in os.walk(\"10_food_classes_10_percent\"): \n",
        "  print(f\"There are {dirnames} directories and {len(filenames)} images in '{dirpath}'.\")"
      ],
      "metadata": {
        "colab": {
          "base_uri": "https://localhost:8080/"
        },
        "id": "QzNV33zz1NAc",
        "outputId": "be40b11a-4179-4600-faa6-380268960988"
      },
      "execution_count": 3,
      "outputs": [
        {
          "output_type": "stream",
          "name": "stdout",
          "text": [
            "There are ['test', 'train'] directories and 0 images in '10_food_classes_10_percent'.\n",
            "There are ['hamburger', 'ice_cream', 'steak', 'pizza', 'fried_rice', 'grilled_salmon', 'ramen', 'chicken_wings', 'sushi', 'chicken_curry'] directories and 0 images in '10_food_classes_10_percent/test'.\n",
            "There are [] directories and 250 images in '10_food_classes_10_percent/test/hamburger'.\n",
            "There are [] directories and 250 images in '10_food_classes_10_percent/test/ice_cream'.\n",
            "There are [] directories and 250 images in '10_food_classes_10_percent/test/steak'.\n",
            "There are [] directories and 250 images in '10_food_classes_10_percent/test/pizza'.\n",
            "There are [] directories and 250 images in '10_food_classes_10_percent/test/fried_rice'.\n",
            "There are [] directories and 250 images in '10_food_classes_10_percent/test/grilled_salmon'.\n",
            "There are [] directories and 250 images in '10_food_classes_10_percent/test/ramen'.\n",
            "There are [] directories and 250 images in '10_food_classes_10_percent/test/chicken_wings'.\n",
            "There are [] directories and 250 images in '10_food_classes_10_percent/test/sushi'.\n",
            "There are [] directories and 250 images in '10_food_classes_10_percent/test/chicken_curry'.\n",
            "There are ['hamburger', 'ice_cream', 'steak', 'pizza', 'fried_rice', 'grilled_salmon', 'ramen', 'chicken_wings', 'sushi', 'chicken_curry'] directories and 0 images in '10_food_classes_10_percent/train'.\n",
            "There are [] directories and 75 images in '10_food_classes_10_percent/train/hamburger'.\n",
            "There are [] directories and 75 images in '10_food_classes_10_percent/train/ice_cream'.\n",
            "There are [] directories and 75 images in '10_food_classes_10_percent/train/steak'.\n",
            "There are [] directories and 75 images in '10_food_classes_10_percent/train/pizza'.\n",
            "There are [] directories and 75 images in '10_food_classes_10_percent/train/fried_rice'.\n",
            "There are [] directories and 75 images in '10_food_classes_10_percent/train/grilled_salmon'.\n",
            "There are [] directories and 75 images in '10_food_classes_10_percent/train/ramen'.\n",
            "There are [] directories and 75 images in '10_food_classes_10_percent/train/chicken_wings'.\n",
            "There are [] directories and 75 images in '10_food_classes_10_percent/train/sushi'.\n",
            "There are [] directories and 75 images in '10_food_classes_10_percent/train/chicken_curry'.\n"
          ]
        }
      ]
    },
    {
      "cell_type": "code",
      "source": [
        "IMAGE_SHAPE = (224,224)\n",
        "BATCH_SIZE = 32\n",
        "\n",
        "train_dir = '/content/10_food_classes_10_percent/train'\n",
        "test_dir = '/content/10_food_classes_10_percent/test'\n",
        "\n",
        "\n",
        "train_datagen = ImageDataGenerator(rescale=(1/255.))\n",
        "test_datagen = ImageDataGenerator(rescale=(1/255.))\n",
        "\n",
        "train_data = train_datagen.flow_from_directory(\n",
        "    train_dir,\n",
        "    target_size = IMAGE_SHAPE,\n",
        "    batch_size = BATCH_SIZE,\n",
        "    class_mode = 'categorical'\n",
        ")\n",
        "test_data = train_datagen.flow_from_directory(\n",
        "    test_dir,\n",
        "    target_size = IMAGE_SHAPE,\n",
        "    batch_size = BATCH_SIZE,\n",
        "    class_mode = 'categorical'\n",
        ")"
      ],
      "metadata": {
        "colab": {
          "base_uri": "https://localhost:8080/"
        },
        "id": "mKIjrjE81kUM",
        "outputId": "f7ad9d34-ebb7-412d-f18c-2e61b34cf60b"
      },
      "execution_count": 4,
      "outputs": [
        {
          "output_type": "stream",
          "name": "stdout",
          "text": [
            "Found 750 images belonging to 10 classes.\n",
            "Found 2500 images belonging to 10 classes.\n"
          ]
        }
      ]
    },
    {
      "cell_type": "markdown",
      "source": [
        "CALLBACKS\n",
        "\n",
        "tensorboard callback\n",
        "\n",
        "\n"
      ],
      "metadata": {
        "id": "z_3UWCRw4SMz"
      }
    },
    {
      "cell_type": "code",
      "source": [
        "import datetime\n",
        "def create_tensorboard_callback(dir_name,experiment_name):\n",
        "    log_dir = dir_name+\"/\"+experiment_name+\"/\"+datetime.datetime.now().strftime(\"%Y%m%d-%H%M%S\")\n",
        "    tb_callback = tf.keras.callbacks.TensorBoard(log_dir=log_dir)\n",
        "    print(f'path = {log_dir}')\n",
        "    return tb_callback"
      ],
      "metadata": {
        "id": "zUWgyz2ivCIS"
      },
      "execution_count": 5,
      "outputs": []
    },
    {
      "cell_type": "code",
      "source": [
        "import datetime\n",
        "\n",
        "def create_tensorboard_callback(dir_name,experiment_name):\n",
        "    log_dir = dir_name+'/'+experiment_name+datetime.datetime.now().strftime(\"%Y%m%d-%H%M%S\")\n",
        "    tensorboard_callback = tf.keras.callbacks.TensorBoard(log_dir=log_dir)\n",
        "    print(f\"saving tensorboard file to {log_dir}\")\n",
        "    return tensorboard_callback"
      ],
      "metadata": {
        "id": "IW-gTGW438mG"
      },
      "execution_count": 6,
      "outputs": []
    },
    {
      "cell_type": "markdown",
      "source": [
        "https://tfhub.dev/tensorflow/efficientnet/b0/feature-vector/1"
      ],
      "metadata": {
        "id": "ARPXnVqzqNq3"
      }
    },
    {
      "cell_type": "code",
      "source": [
        "effnet_url = 'https://tfhub.dev/tensorflow/efficientnet/b0/feature-vector/1'\n",
        "resnet_url = 'https://tfhub.dev/google/imagenet/resnet_v2_50/feature_vector/5'"
      ],
      "metadata": {
        "id": "YDIB0N42xG71"
      },
      "execution_count": 7,
      "outputs": []
    },
    {
      "cell_type": "code",
      "source": [
        "# def create_model(model_url,num_classes=10):\n",
        "\n",
        "#     # download model\n",
        "#     feature_extraction_layer = hub.KerasLayer(model_url,trainable=False,name=\"feature_extraction\",input_shape=IMAGE_SHAPE+(3,))\n",
        "\n",
        "#     # create our own model\n",
        "#     model = Sequential({\n",
        "#         feature_extraction_layer,\n",
        "#         Dense(num_classes,activation='softmax',name='output')\n",
        "#     })\n",
        "\n",
        "#     return model\n",
        "\n",
        "####\n",
        "\n",
        "#Use models.add \n",
        "\n",
        "\n",
        "####\n"
      ],
      "metadata": {
        "id": "rP3h3BWUxxkL"
      },
      "execution_count": 8,
      "outputs": []
    },
    {
      "cell_type": "code",
      "source": [
        "def create_model(model_url, num_classes=10):\n",
        "    # download model\n",
        "    feature_extraction_layer = hub.KerasLayer(model_url, trainable=False, name=\"feature_extraction\", input_shape=IMAGE_SHAPE+(3,))\n",
        "    \n",
        "    # create our own model\n",
        "    model = Sequential()\n",
        "    model.add(feature_extraction_layer)\n",
        "    model.add(Dense(num_classes, activation='softmax', name='output'))\n",
        "    \n",
        "    return model\n"
      ],
      "metadata": {
        "id": "zFismRsOy_mL"
      },
      "execution_count": 10,
      "outputs": []
    },
    {
      "cell_type": "code",
      "source": [
        "# create Resnet model from tf_hub \n",
        "\n",
        "resnet_model = create_model(resnet_url)"
      ],
      "metadata": {
        "id": "RgM6CkCOyXYP"
      },
      "execution_count": 11,
      "outputs": []
    },
    {
      "cell_type": "code",
      "source": [],
      "metadata": {
        "id": "lNfub7D-zGIu"
      },
      "execution_count": null,
      "outputs": []
    }
  ]
}