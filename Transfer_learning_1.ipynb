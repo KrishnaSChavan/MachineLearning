{
  "nbformat": 4,
  "nbformat_minor": 0,
  "metadata": {
    "colab": {
      "provenance": [],
      "authorship_tag": "ABX9TyNrIPrRO2lox/ic5ZWo2Pc0",
      "include_colab_link": true
    },
    "kernelspec": {
      "name": "python3",
      "display_name": "Python 3"
    },
    "language_info": {
      "name": "python"
    },
    "accelerator": "GPU",
    "gpuClass": "standard"
  },
  "cells": [
    {
      "cell_type": "markdown",
      "metadata": {
        "id": "view-in-github",
        "colab_type": "text"
      },
      "source": [
        "<a href=\"https://colab.research.google.com/github/KrishnaSChavan/MachineLearning/blob/main/Transfer_learning_1.ipynb\" target=\"_parent\"><img src=\"https://colab.research.google.com/assets/colab-badge.svg\" alt=\"Open In Colab\"/></a>"
      ]
    },
    {
      "cell_type": "markdown",
      "source": [
        "# Classifiying multiple images with transfer learning"
      ],
      "metadata": {
        "id": "FVztHT6f0SII"
      }
    },
    {
      "cell_type": "code",
      "execution_count": 1,
      "metadata": {
        "colab": {
          "base_uri": "https://localhost:8080/"
        },
        "id": "1ZGkY8Cojrr6",
        "outputId": "8214577c-d52d-4346-a5c8-465ad050b7e7"
      },
      "outputs": [
        {
          "output_type": "stream",
          "name": "stdout",
          "text": [
            "--2023-04-09 10:45:37--  https://storage.googleapis.com/ztm_tf_course/food_vision/10_food_classes_10_percent.zip\n",
            "Resolving storage.googleapis.com (storage.googleapis.com)... 108.177.119.128, 108.177.126.128, 172.217.218.128, ...\n",
            "Connecting to storage.googleapis.com (storage.googleapis.com)|108.177.119.128|:443... connected.\n",
            "HTTP request sent, awaiting response... 200 OK\n",
            "Length: 168546183 (161M) [application/zip]\n",
            "Saving to: ‘10_food_classes_10_percent.zip’\n",
            "\n",
            "10_food_classes_10_ 100%[===================>] 160.74M  42.0MB/s    in 4.7s    \n",
            "\n",
            "2023-04-09 10:45:41 (34.3 MB/s) - ‘10_food_classes_10_percent.zip’ saved [168546183/168546183]\n",
            "\n"
          ]
        }
      ],
      "source": [
        "import zipfile\n",
        "\n",
        "!wget https://storage.googleapis.com/ztm_tf_course/food_vision/10_food_classes_10_percent.zip\n",
        "\n",
        "zip_r = zipfile.ZipFile('10_food_classes_10_percent.zip')\n",
        "zip_r.extractall()\n",
        "zip_r.close()"
      ]
    },
    {
      "cell_type": "code",
      "source": [
        "import tensorflow as tf\n",
        "import pandas as pd\n",
        "import tensorflow_hub as hub\n",
        "import numpy as np\n",
        "import matplotlib.pyplot as plt\n",
        "import matplotlib.image as mpimg\n",
        "import random\n",
        "import os\n",
        "from tensorflow.keras.preprocessing.image import ImageDataGenerator\n",
        "from tensorflow.keras.layers import Dense,Flatten,Conv2D,MaxPool2D,Activation\n",
        "from tensorflow.keras.optimizers import Adam\n",
        "from tensorflow.keras import Sequential\n",
        "import pathlib\n"
      ],
      "metadata": {
        "id": "aaz0Ef3k2BE1"
      },
      "execution_count": 9,
      "outputs": []
    },
    {
      "cell_type": "code",
      "source": [
        "import os\n",
        "for dirpath, dirnames, filenames in os.walk(\"10_food_classes_10_percent\"): \n",
        "  print(f\"There are {dirnames} directories and {len(filenames)} images in '{dirpath}'.\")"
      ],
      "metadata": {
        "colab": {
          "base_uri": "https://localhost:8080/"
        },
        "id": "QzNV33zz1NAc",
        "outputId": "c03099d8-ef55-4b9b-9cf3-84836caeda61"
      },
      "execution_count": 5,
      "outputs": [
        {
          "output_type": "stream",
          "name": "stdout",
          "text": [
            "There are ['train', 'test'] directories and 0 images in '10_food_classes_10_percent'.\n",
            "There are ['pizza', 'steak', 'chicken_wings', 'chicken_curry', 'sushi', 'hamburger', 'grilled_salmon', 'fried_rice', 'ramen', 'ice_cream'] directories and 0 images in '10_food_classes_10_percent/train'.\n",
            "There are [] directories and 75 images in '10_food_classes_10_percent/train/pizza'.\n",
            "There are [] directories and 75 images in '10_food_classes_10_percent/train/steak'.\n",
            "There are [] directories and 75 images in '10_food_classes_10_percent/train/chicken_wings'.\n",
            "There are [] directories and 75 images in '10_food_classes_10_percent/train/chicken_curry'.\n",
            "There are [] directories and 75 images in '10_food_classes_10_percent/train/sushi'.\n",
            "There are [] directories and 75 images in '10_food_classes_10_percent/train/hamburger'.\n",
            "There are [] directories and 75 images in '10_food_classes_10_percent/train/grilled_salmon'.\n",
            "There are [] directories and 75 images in '10_food_classes_10_percent/train/fried_rice'.\n",
            "There are [] directories and 75 images in '10_food_classes_10_percent/train/ramen'.\n",
            "There are [] directories and 75 images in '10_food_classes_10_percent/train/ice_cream'.\n",
            "There are ['pizza', 'steak', 'chicken_wings', 'chicken_curry', 'sushi', 'hamburger', 'grilled_salmon', 'fried_rice', 'ramen', 'ice_cream'] directories and 0 images in '10_food_classes_10_percent/test'.\n",
            "There are [] directories and 250 images in '10_food_classes_10_percent/test/pizza'.\n",
            "There are [] directories and 250 images in '10_food_classes_10_percent/test/steak'.\n",
            "There are [] directories and 250 images in '10_food_classes_10_percent/test/chicken_wings'.\n",
            "There are [] directories and 250 images in '10_food_classes_10_percent/test/chicken_curry'.\n",
            "There are [] directories and 250 images in '10_food_classes_10_percent/test/sushi'.\n",
            "There are [] directories and 250 images in '10_food_classes_10_percent/test/hamburger'.\n",
            "There are [] directories and 250 images in '10_food_classes_10_percent/test/grilled_salmon'.\n",
            "There are [] directories and 250 images in '10_food_classes_10_percent/test/fried_rice'.\n",
            "There are [] directories and 250 images in '10_food_classes_10_percent/test/ramen'.\n",
            "There are [] directories and 250 images in '10_food_classes_10_percent/test/ice_cream'.\n"
          ]
        }
      ]
    },
    {
      "cell_type": "code",
      "source": [
        "IMAGE_SHAPE = (224,224)\n",
        "BATCH_SIZE = 32\n",
        "\n",
        "train_dir = '/content/10_food_classes_10_percent/train'\n",
        "test_dir = '/content/10_food_classes_10_percent/test'\n",
        "\n",
        "\n",
        "train_datagen = ImageDataGenerator(rescale=(1/255.))\n",
        "test_datagen = ImageDataGenerator(rescale=(1/255.))\n",
        "\n",
        "train_data = train_datagen.flow_from_directory(\n",
        "    train_dir,\n",
        "    target_size = IMAGE_SHAPE,\n",
        "    batch_size = BATCH_SIZE,\n",
        "    class_mode = 'categorical'\n",
        ")\n",
        "test_data = train_datagen.flow_from_directory(\n",
        "    test_dir,\n",
        "    target_size = IMAGE_SHAPE,\n",
        "    batch_size = BATCH_SIZE,\n",
        "    class_mode = 'categorical'\n",
        ")"
      ],
      "metadata": {
        "colab": {
          "base_uri": "https://localhost:8080/"
        },
        "id": "mKIjrjE81kUM",
        "outputId": "a3bce5c2-0061-4d18-82ef-4a83dd8c5237"
      },
      "execution_count": 6,
      "outputs": [
        {
          "output_type": "stream",
          "name": "stdout",
          "text": [
            "Found 750 images belonging to 10 classes.\n",
            "Found 2500 images belonging to 10 classes.\n"
          ]
        }
      ]
    },
    {
      "cell_type": "markdown",
      "source": [
        "CALLBACKS\n",
        "\n",
        "tensorboard callback\n",
        "\n",
        "\n"
      ],
      "metadata": {
        "id": "z_3UWCRw4SMz"
      }
    },
    {
      "cell_type": "code",
      "source": [
        "import datetime\n",
        "\n",
        "def create_tensorboard_callback(dir_name,experiment_name):\n",
        "    log_dir = dir_name+'/'+experiment_name+datetime.datetime.now().strftime(\"%Y%m%d-%H%M%S\")\n",
        "    tensorboard_callback = tf.keras.callbacks.TensorBoard(log_dir=log_dir)\n",
        "    print(f\"saving tensorboard file to {log_dir}\")\n",
        "    return tensorboard_callback"
      ],
      "metadata": {
        "id": "IW-gTGW438mG"
      },
      "execution_count": 8,
      "outputs": []
    },
    {
      "cell_type": "markdown",
      "source": [
        "https://tfhub.dev/tensorflow/efficientnet/b0/feature-vector/1"
      ],
      "metadata": {
        "id": "ARPXnVqzqNq3"
      }
    },
    {
      "cell_type": "code",
      "source": [
        "effnet_url = 'https://tfhub.dev/tensorflow/efficientnet/b0/feature-vector/1'\n",
        "resnet_url = 'https://tfhub.dev/google/imagenet/resnet_v2_50/feature_vector/5'"
      ],
      "metadata": {
        "id": "YDIB0N42xG71"
      },
      "execution_count": 11,
      "outputs": []
    },
    {
      "cell_type": "code",
      "source": [
        "def create_model(model_url,num_classes=10):\n",
        "\n",
        "    # download model\n",
        "    feature_extraction_layer = hub.KerasLayer(model_url,trainable=False,name=\"feature_extraction\",input_shape=IMAGE_SHAPE+(3,))\n",
        "\n",
        "    # create our own model\n",
        "    model = Sequential({\n",
        "        feature_extraction_layer,\n",
        "        Dense(num_classes,activation='softmax',name='output')\n",
        "    })\n",
        "\n",
        "    return model\n"
      ],
      "metadata": {
        "id": "rP3h3BWUxxkL"
      },
      "execution_count": 15,
      "outputs": []
    },
    {
      "cell_type": "code",
      "source": [
        "# create Resnet model from tf_hub \n",
        "\n",
        "resnet_model = create_model(resnet_url)"
      ],
      "metadata": {
        "id": "RgM6CkCOyXYP"
      },
      "execution_count": null,
      "outputs": []
    }
  ]
}