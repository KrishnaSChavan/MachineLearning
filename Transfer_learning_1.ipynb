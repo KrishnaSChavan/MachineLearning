{
  "nbformat": 4,
  "nbformat_minor": 0,
  "metadata": {
    "colab": {
      "provenance": [],
      "authorship_tag": "ABX9TyPueYCixkVtfXkCH+CRp14a",
      "include_colab_link": true
    },
    "kernelspec": {
      "name": "python3",
      "display_name": "Python 3"
    },
    "language_info": {
      "name": "python"
    },
    "accelerator": "GPU",
    "gpuClass": "standard"
  },
  "cells": [
    {
      "cell_type": "markdown",
      "metadata": {
        "id": "view-in-github",
        "colab_type": "text"
      },
      "source": [
        "<a href=\"https://colab.research.google.com/github/KrishnaSChavan/MachineLearning/blob/main/Transfer_learning_1.ipynb\" target=\"_parent\"><img src=\"https://colab.research.google.com/assets/colab-badge.svg\" alt=\"Open In Colab\"/></a>"
      ]
    },
    {
      "cell_type": "markdown",
      "source": [
        "# Classifiying multiple images with transfer learning"
      ],
      "metadata": {
        "id": "FVztHT6f0SII"
      }
    },
    {
      "cell_type": "code",
      "execution_count": 24,
      "metadata": {
        "colab": {
          "base_uri": "https://localhost:8080/"
        },
        "id": "1ZGkY8Cojrr6",
        "outputId": "b72cdaaf-b083-43e8-9e6e-46f5b6b34179"
      },
      "outputs": [
        {
          "output_type": "stream",
          "name": "stdout",
          "text": [
            "--2023-06-02 18:03:20--  https://storage.googleapis.com/ztm_tf_course/food_vision/10_food_classes_10_percent.zip\n",
            "Resolving storage.googleapis.com (storage.googleapis.com)... 142.250.97.128, 74.125.196.128, 142.251.162.128, ...\n",
            "Connecting to storage.googleapis.com (storage.googleapis.com)|142.250.97.128|:443... connected.\n",
            "HTTP request sent, awaiting response... 200 OK\n",
            "Length: 168546183 (161M) [application/zip]\n",
            "Saving to: ‘10_food_classes_10_percent.zip.2’\n",
            "\n",
            "10_food_classes_10_ 100%[===================>] 160.74M   160MB/s    in 1.0s    \n",
            "\n",
            "2023-06-02 18:03:21 (160 MB/s) - ‘10_food_classes_10_percent.zip.2’ saved [168546183/168546183]\n",
            "\n"
          ]
        }
      ],
      "source": [
        "import zipfile\n",
        "\n",
        "!wget https://storage.googleapis.com/ztm_tf_course/food_vision/10_food_classes_10_percent.zip\n",
        "\n",
        "zip_r = zipfile.ZipFile('10_food_classes_10_percent.zip')\n",
        "zip_r.extractall()\n",
        "zip_r.close()"
      ]
    },
    {
      "cell_type": "code",
      "source": [
        "import tensorflow as tf\n",
        "import pandas as pd\n",
        "import tensorflow_hub as hub\n",
        "import numpy as np\n",
        "import matplotlib.pyplot as plt\n",
        "import matplotlib.image as mpimg\n",
        "import random\n",
        "import os\n",
        "from tensorflow.keras.preprocessing.image import ImageDataGenerator\n",
        "from tensorflow.keras.layers import Dense,Flatten,Conv2D,MaxPool2D,Activation\n",
        "from tensorflow.keras.optimizers import Adam\n",
        "from tensorflow.keras import Sequential,layers\n",
        "import pathlib\n"
      ],
      "metadata": {
        "id": "aaz0Ef3k2BE1"
      },
      "execution_count": 25,
      "outputs": []
    },
    {
      "cell_type": "code",
      "source": [
        "import os\n",
        "for dirpath, dirnames, filenames in os.walk(\"10_food_classes_10_percent\"): \n",
        "  print(f\"There are {dirnames} directories and {len(filenames)} images in '{dirpath}'.\")"
      ],
      "metadata": {
        "colab": {
          "base_uri": "https://localhost:8080/"
        },
        "id": "QzNV33zz1NAc",
        "outputId": "6f1d385d-bd32-4d5b-8c51-fa4442845957"
      },
      "execution_count": 26,
      "outputs": [
        {
          "output_type": "stream",
          "name": "stdout",
          "text": [
            "There are ['train', 'test'] directories and 0 images in '10_food_classes_10_percent'.\n",
            "There are ['chicken_wings', 'steak', 'ramen', 'grilled_salmon', 'pizza', 'fried_rice', 'chicken_curry', 'hamburger', 'ice_cream', 'sushi'] directories and 0 images in '10_food_classes_10_percent/train'.\n",
            "There are [] directories and 75 images in '10_food_classes_10_percent/train/chicken_wings'.\n",
            "There are [] directories and 75 images in '10_food_classes_10_percent/train/steak'.\n",
            "There are [] directories and 75 images in '10_food_classes_10_percent/train/ramen'.\n",
            "There are [] directories and 75 images in '10_food_classes_10_percent/train/grilled_salmon'.\n",
            "There are [] directories and 75 images in '10_food_classes_10_percent/train/pizza'.\n",
            "There are [] directories and 75 images in '10_food_classes_10_percent/train/fried_rice'.\n",
            "There are [] directories and 75 images in '10_food_classes_10_percent/train/chicken_curry'.\n",
            "There are [] directories and 75 images in '10_food_classes_10_percent/train/hamburger'.\n",
            "There are [] directories and 75 images in '10_food_classes_10_percent/train/ice_cream'.\n",
            "There are [] directories and 75 images in '10_food_classes_10_percent/train/sushi'.\n",
            "There are ['chicken_wings', 'steak', 'ramen', 'grilled_salmon', 'pizza', 'fried_rice', 'chicken_curry', 'hamburger', 'ice_cream', 'sushi'] directories and 0 images in '10_food_classes_10_percent/test'.\n",
            "There are [] directories and 250 images in '10_food_classes_10_percent/test/chicken_wings'.\n",
            "There are [] directories and 250 images in '10_food_classes_10_percent/test/steak'.\n",
            "There are [] directories and 250 images in '10_food_classes_10_percent/test/ramen'.\n",
            "There are [] directories and 250 images in '10_food_classes_10_percent/test/grilled_salmon'.\n",
            "There are [] directories and 250 images in '10_food_classes_10_percent/test/pizza'.\n",
            "There are [] directories and 250 images in '10_food_classes_10_percent/test/fried_rice'.\n",
            "There are [] directories and 250 images in '10_food_classes_10_percent/test/chicken_curry'.\n",
            "There are [] directories and 250 images in '10_food_classes_10_percent/test/hamburger'.\n",
            "There are [] directories and 250 images in '10_food_classes_10_percent/test/ice_cream'.\n",
            "There are [] directories and 250 images in '10_food_classes_10_percent/test/sushi'.\n"
          ]
        }
      ]
    },
    {
      "cell_type": "code",
      "source": [
        "IMAGE_SHAPE = (224,224)\n",
        "BATCH_SIZE = 32\n",
        "\n",
        "train_dir = '/content/10_food_classes_10_percent/train'\n",
        "test_dir = '/content/10_food_classes_10_percent/test'\n",
        "\n",
        "\n",
        "train_datagen = ImageDataGenerator(rescale=(1/255.))\n",
        "test_datagen = ImageDataGenerator(rescale=(1/255.))\n",
        "\n",
        "train_data = train_datagen.flow_from_directory(\n",
        "    train_dir,\n",
        "    target_size = IMAGE_SHAPE,\n",
        "    batch_size = BATCH_SIZE,\n",
        "    class_mode = 'categorical'\n",
        ")\n",
        "test_data = train_datagen.flow_from_directory(\n",
        "    test_dir,\n",
        "    target_size = IMAGE_SHAPE,\n",
        "    batch_size = BATCH_SIZE,\n",
        "    class_mode = 'categorical'\n",
        ")"
      ],
      "metadata": {
        "colab": {
          "base_uri": "https://localhost:8080/"
        },
        "id": "mKIjrjE81kUM",
        "outputId": "43ecdddc-2526-4270-9f14-2f3dd0fd5247"
      },
      "execution_count": 27,
      "outputs": [
        {
          "output_type": "stream",
          "name": "stdout",
          "text": [
            "Found 750 images belonging to 10 classes.\n",
            "Found 2500 images belonging to 10 classes.\n"
          ]
        }
      ]
    },
    {
      "cell_type": "markdown",
      "source": [
        "CALLBACKS\n",
        "\n",
        "tensorboard callback\n",
        "\n",
        "\n"
      ],
      "metadata": {
        "id": "z_3UWCRw4SMz"
      }
    },
    {
      "cell_type": "code",
      "source": [
        "import datetime\n",
        "def create_tensorboard_callback(dir_name,experiment_name):\n",
        "    log_dir = dir_name+\"/\"+experiment_name+\"/\"+datetime.datetime.now().strftime(\"%Y%m%d-%H%M%S\")\n",
        "    tb_callback = tf.keras.callbacks.TensorBoard(log_dir=log_dir)\n",
        "    print(f'path = {log_dir}')\n",
        "    return tb_callback"
      ],
      "metadata": {
        "id": "zUWgyz2ivCIS"
      },
      "execution_count": 28,
      "outputs": []
    },
    {
      "cell_type": "code",
      "source": [
        "import datetime\n",
        "\n",
        "def create_tensorboard_callback(dir_name,experiment_name):\n",
        "    log_dir = dir_name+'/'+experiment_name+datetime.datetime.now().strftime(\"%Y%m%d-%H%M%S\")\n",
        "    tensorboard_callback = tf.keras.callbacks.TensorBoard(log_dir=log_dir)\n",
        "    print(f\"saving tensorboard file to {log_dir}\")\n",
        "    return tensorboard_callback"
      ],
      "metadata": {
        "id": "IW-gTGW438mG"
      },
      "execution_count": 29,
      "outputs": []
    },
    {
      "cell_type": "markdown",
      "source": [
        "https://tfhub.dev/tensorflow/efficientnet/b0/feature-vector/1"
      ],
      "metadata": {
        "id": "ARPXnVqzqNq3"
      }
    },
    {
      "cell_type": "code",
      "source": [
        "effnet_url = 'https://tfhub.dev/tensorflow/efficientnet/b0/feature-vector/1'\n",
        "resnet_url = 'https://tfhub.dev/google/imagenet/resnet_v2_50/feature_vector/5'\n",
        "\n"
      ],
      "metadata": {
        "id": "YDIB0N42xG71"
      },
      "execution_count": 30,
      "outputs": []
    },
    {
      "cell_type": "code",
      "source": [
        "# def create_model(model_url,num_classes=10):\n",
        "\n",
        "#     # download model\n",
        "#     feature_extraction_layer = hub.KerasLayer(model_url,trainable=False,name=\"feature_extraction\",input_shape=IMAGE_SHAPE+(3,))\n",
        "\n",
        "#     # create our own model\n",
        "#     model = Sequential({\n",
        "#         feature_extraction_layer,\n",
        "#         Dense(num_classes,activation='softmax',name='output')\n",
        "#     })\n",
        "\n",
        "#     return model\n",
        "\n",
        "####\n",
        "\n",
        "#Use models.add \n",
        "\n",
        "\n",
        "####\n"
      ],
      "metadata": {
        "id": "rP3h3BWUxxkL"
      },
      "execution_count": 31,
      "outputs": []
    },
    {
      "cell_type": "code",
      "source": [
        "def create_model(model_url, num_classes=10):\n",
        "    # download model\n",
        "    feature_extraction_layer = hub.KerasLayer(model_url, trainable=False, name=\"feature_extraction\", input_shape=IMAGE_SHAPE+(3,))\n",
        "    \n",
        "    # create our own model\n",
        "    model = Sequential()\n",
        "    model.add(feature_extraction_layer)\n",
        "    model.add(Dense(num_classes, activation='softmax', name='output'))\n",
        "    \n",
        "    return model\n"
      ],
      "metadata": {
        "id": "zFismRsOy_mL"
      },
      "execution_count": 32,
      "outputs": []
    },
    {
      "cell_type": "code",
      "source": [
        "# create Resnet model from tf_hub \n",
        "\n",
        "resnet_model = create_model(resnet_url)"
      ],
      "metadata": {
        "id": "RgM6CkCOyXYP"
      },
      "execution_count": 33,
      "outputs": []
    },
    {
      "cell_type": "code",
      "source": [
        "def c(model_url,n_c=10):\n",
        "\n",
        "    feature_extraction = hub.KerasLayer(model_url,trainable=False,name=\"feature\",input_shape=IMAGE_SHAPE+(3,))\n",
        "\n",
        "    model = Sequential([\n",
        "        feature_extraction,\n",
        "        Dense(n_c,activation='softmax',name='output_layer')\n",
        "    ])\n",
        "\n",
        "    return model"
      ],
      "metadata": {
        "id": "32FaxAF5MlIo"
      },
      "execution_count": 34,
      "outputs": []
    },
    {
      "cell_type": "code",
      "source": [
        "effnet_model = c(effnet_url)"
      ],
      "metadata": {
        "id": "c5yqhYY8OUTU"
      },
      "execution_count": 35,
      "outputs": []
    },
    {
      "cell_type": "code",
      "source": [
        "effnet_model.summary()"
      ],
      "metadata": {
        "colab": {
          "base_uri": "https://localhost:8080/"
        },
        "id": "9ClDi3Y1S2rE",
        "outputId": "ec78c0b5-674e-4ad4-b799-f10f316c1378"
      },
      "execution_count": 39,
      "outputs": [
        {
          "output_type": "stream",
          "name": "stdout",
          "text": [
            "Model: \"sequential_3\"\n",
            "_________________________________________________________________\n",
            " Layer (type)                Output Shape              Param #   \n",
            "=================================================================\n",
            " feature (KerasLayer)        (None, 1280)              4049564   \n",
            "                                                                 \n",
            " output_layer (Dense)        (None, 10)                12810     \n",
            "                                                                 \n",
            "=================================================================\n",
            "Total params: 4,062,374\n",
            "Trainable params: 12,810\n",
            "Non-trainable params: 4,049,564\n",
            "_________________________________________________________________\n"
          ]
        }
      ]
    },
    {
      "cell_type": "code",
      "source": [
        "resnet_model.summary()"
      ],
      "metadata": {
        "colab": {
          "base_uri": "https://localhost:8080/"
        },
        "id": "ldSBNUNRS4-r",
        "outputId": "1ee4da24-73cc-4bf5-f90a-5853b40bedc1"
      },
      "execution_count": 40,
      "outputs": [
        {
          "output_type": "stream",
          "name": "stdout",
          "text": [
            "Model: \"sequential_2\"\n",
            "_________________________________________________________________\n",
            " Layer (type)                Output Shape              Param #   \n",
            "=================================================================\n",
            " feature_extraction (KerasLa  (None, 2048)             23564800  \n",
            " yer)                                                            \n",
            "                                                                 \n",
            " output (Dense)              (None, 10)                20490     \n",
            "                                                                 \n",
            "=================================================================\n",
            "Total params: 23,585,290\n",
            "Trainable params: 20,490\n",
            "Non-trainable params: 23,564,800\n",
            "_________________________________________________________________\n"
          ]
        }
      ]
    },
    {
      "cell_type": "code",
      "source": [
        "# compile model\n",
        "\n",
        "resnet_model.compile(\n",
        "    loss = \"categorical_crossentropy\",\n",
        "    optimizer = Adam(),\n",
        "    metrics=['accuracy']\n",
        ")"
      ],
      "metadata": {
        "id": "0ciFxEhJS-dS"
      },
      "execution_count": 49,
      "outputs": []
    },
    {
      "cell_type": "code",
      "source": [
        "history=resnet_model.fit(\n",
        "            train_data,\n",
        "            epochs = 5,\n",
        "            steps_per_epoch =len(train_data),\n",
        "            validation_data=test_data,\n",
        "            validation_steps=len(test_data)\n",
        "        )"
      ],
      "metadata": {
        "colab": {
          "base_uri": "https://localhost:8080/"
        },
        "id": "XNBL_vmbUJg6",
        "outputId": "10430dac-ff45-4f8c-d1a9-8b8b4cba4553"
      },
      "execution_count": 42,
      "outputs": [
        {
          "output_type": "stream",
          "name": "stdout",
          "text": [
            "Epoch 1/5\n",
            "24/24 [==============================] - 35s 834ms/step - loss: 1.9130 - accuracy: 0.3973 - val_loss: 1.1534 - val_accuracy: 0.6344\n",
            "Epoch 2/5\n",
            "24/24 [==============================] - 25s 1s/step - loss: 0.8811 - accuracy: 0.7613 - val_loss: 0.8322 - val_accuracy: 0.7316\n",
            "Epoch 3/5\n",
            "24/24 [==============================] - 24s 1s/step - loss: 0.6119 - accuracy: 0.8293 - val_loss: 0.7352 - val_accuracy: 0.7584\n",
            "Epoch 4/5\n",
            "24/24 [==============================] - 24s 1s/step - loss: 0.4769 - accuracy: 0.8733 - val_loss: 0.6900 - val_accuracy: 0.7760\n",
            "Epoch 5/5\n",
            "24/24 [==============================] - 24s 1s/step - loss: 0.3743 - accuracy: 0.9120 - val_loss: 0.6676 - val_accuracy: 0.7828\n"
          ]
        }
      ]
    },
    {
      "cell_type": "code",
      "source": [
        "pd.DataFrame(history.history).plot()"
      ],
      "metadata": {
        "id": "5ZMMxvfSU_Vy"
      },
      "execution_count": null,
      "outputs": []
    },
    {
      "cell_type": "code",
      "source": [
        "effnet_model.compile(\n",
        "    loss = \"categorical_crossentropy\",\n",
        "    optimizer = Adam(),\n",
        "    metrics = ['accuracy']\n",
        ")"
      ],
      "metadata": {
        "id": "P0mFfJu6WfLN"
      },
      "execution_count": 44,
      "outputs": []
    },
    {
      "cell_type": "code",
      "source": [
        "effnet_history = effnet_model.fit(\n",
        "    train_data,\n",
        "    epochs = 5,\n",
        "    steps_per_epoch=len(train_data),\n",
        "    validation_data = test_data,\n",
        "    validation_steps=len(test_data)\n",
        ")"
      ],
      "metadata": {
        "colab": {
          "base_uri": "https://localhost:8080/"
        },
        "id": "sPu1GTXjXCXm",
        "outputId": "7631dce8-2f8e-4114-f00a-5bd3b88d5f9d"
      },
      "execution_count": 45,
      "outputs": [
        {
          "output_type": "stream",
          "name": "stdout",
          "text": [
            "Epoch 1/5\n",
            "24/24 [==============================] - 35s 1s/step - loss: 1.7882 - accuracy: 0.5093 - val_loss: 1.2456 - val_accuracy: 0.7616\n",
            "Epoch 2/5\n",
            "24/24 [==============================] - 20s 860ms/step - loss: 1.0298 - accuracy: 0.7893 - val_loss: 0.8356 - val_accuracy: 0.8248\n",
            "Epoch 3/5\n",
            "24/24 [==============================] - 17s 714ms/step - loss: 0.7393 - accuracy: 0.8400 - val_loss: 0.6805 - val_accuracy: 0.8444\n",
            "Epoch 4/5\n",
            "24/24 [==============================] - 17s 744ms/step - loss: 0.5977 - accuracy: 0.8640 - val_loss: 0.6015 - val_accuracy: 0.8536\n",
            "Epoch 5/5\n",
            "24/24 [==============================] - 17s 708ms/step - loss: 0.5051 - accuracy: 0.9013 - val_loss: 0.5509 - val_accuracy: 0.8640\n"
          ]
        }
      ]
    },
    {
      "cell_type": "code",
      "source": [
        "pd.DataFrame(effnet_history.history).plot()"
      ],
      "metadata": {
        "colab": {
          "base_uri": "https://localhost:8080/",
          "height": 448
        },
        "id": "XQxKR2iOXgA6",
        "outputId": "79234118-ffce-4fc3-94ed-2c9f8618557b"
      },
      "execution_count": 47,
      "outputs": [
        {
          "output_type": "execute_result",
          "data": {
            "text/plain": [
              "<Axes: >"
            ]
          },
          "metadata": {},
          "execution_count": 47
        },
        {
          "output_type": "display_data",
          "data": {
            "text/plain": [
              "<Figure size 640x480 with 1 Axes>"
            ],
            "image/png": "[encoded data removed]"
          },
          "metadata": {}
        }
      ]
    },
    {
      "cell_type": "code",
      "source": [
        "pd.DataFrame(history.history).plot()"
      ],
      "metadata": {
        "colab": {
          "base_uri": "https://localhost:8080/",
          "height": 448
        },
        "id": "lrpAeyzpYBjd",
        "outputId": "6dbcdab0-e683-41a4-b16d-e5383314b929"
      },
      "execution_count": 48,
      "outputs": [
        {
          "output_type": "execute_result",
          "data": {
            "text/plain": [
              "<Axes: >"
            ]
          },
          "metadata": {},
          "execution_count": 48
        },
        {
          "output_type": "display_data",
          "data": {
            "text/plain": [
              "<Figure size 640x480 with 1 Axes>"
            ],
            "image/png": "[encoded data removed]"
          },
          "metadata": {}
        }
      ]
    },
    {
      "cell_type": "code",
      "source": [
        "resnet_history = resnet_model.fit(\n",
        "    train_data,\n",
        "    epochs = 5,\n",
        "    steps_per_epoch=len(train_data),\n",
        "    validation_data = test_data,\n",
        "    validation_steps=len(test_data),\n",
        "    callbacks=[\n",
        "        create_tensorboard_callback(dir_name='tensorflow_hub',\n",
        "                                    experiment_name='resnet50 v2')\n",
        "    ]\n",
        "    \n",
        ")"
      ],
      "metadata": {
        "colab": {
          "base_uri": "https://localhost:8080/"
        },
        "id": "rCFhmjdkYHyq",
        "outputId": "e06e8efe-d927-4f2b-d3e7-3997a34100be"
      },
      "execution_count": 50,
      "outputs": [
        {
          "output_type": "stream",
          "name": "stdout",
          "text": [
            "saving tensorboard file to tensorflow_hub/resnet50 v220230602-183522\n",
            "Epoch 1/5\n",
            "24/24 [==============================] - 21s 821ms/step - loss: 0.3375 - accuracy: 0.9173 - val_loss: 0.6375 - val_accuracy: 0.7880\n",
            "Epoch 2/5\n",
            "24/24 [==============================] - 18s 756ms/step - loss: 0.2355 - accuracy: 0.9547 - val_loss: 0.6366 - val_accuracy: 0.7824\n",
            "Epoch 3/5\n",
            "24/24 [==============================] - 18s 782ms/step - loss: 0.1851 - accuracy: 0.9693 - val_loss: 0.6503 - val_accuracy: 0.7756\n",
            "Epoch 4/5\n",
            "24/24 [==============================] - 18s 755ms/step - loss: 0.1415 - accuracy: 0.9853 - val_loss: 0.6132 - val_accuracy: 0.7924\n",
            "Epoch 5/5\n",
            "24/24 [==============================] - 20s 856ms/step - loss: 0.1146 - accuracy: 0.9907 - val_loss: 0.6070 - val_accuracy: 0.7940\n"
          ]
        }
      ]
    },
    {
      "cell_type": "code",
      "source": [
        "pd.DataFrame(resnet_history.history).plot()"
      ],
      "metadata": {
        "colab": {
          "base_uri": "https://localhost:8080/",
          "height": 448
        },
        "id": "tIXt7bOBZI2P",
        "outputId": "3c319508-647d-4cd1-b7ee-8dbd27765856"
      },
      "execution_count": 51,
      "outputs": [
        {
          "output_type": "execute_result",
          "data": {
            "text/plain": [
              "<Axes: >"
            ]
          },
          "metadata": {},
          "execution_count": 51
        },
        {
          "output_type": "display_data",
          "data": {
            "text/plain": [
              "<Figure size 640x480 with 1 Axes>"
            ],
            "image/png": "[encoded data removed]"
          },
          "metadata": {}
        }
      ]
    },
    {
      "cell_type": "code",
      "source": [],
      "metadata": {
        "id": "FAYYXndJZecY"
      },
      "execution_count": null,
      "outputs": []
    }
  ]
}