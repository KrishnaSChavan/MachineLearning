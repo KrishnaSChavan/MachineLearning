{
  "nbformat": 4,
  "nbformat_minor": 0,
  "metadata": {
    "colab": {
      "provenance": [],
      "gpuType": "T4",
      "authorship_tag": "ABX9TyOVVG3YXyoq0Gcd2nyp86Vt",
      "include_colab_link": true
    },
    "kernelspec": {
      "name": "python3",
      "display_name": "Python 3"
    },
    "language_info": {
      "name": "python"
    },
    "accelerator": "GPU"
  },
  "cells": [
    {
      "cell_type": "markdown",
      "metadata": {
        "id": "view-in-github",
        "colab_type": "text"
      },
      "source": [
        "<a href=\"https://colab.research.google.com/github/KrishnaSChavan/MachineLearning/blob/main/feature_extraction1.ipynb\" target=\"_parent\"><img src=\"https://colab.research.google.com/assets/colab-badge.svg\" alt=\"Open In Colab\"/></a>"
      ]
    },
    {
      "cell_type": "code",
      "execution_count": 1,
      "metadata": {
        "colab": {
          "base_uri": "https://localhost:8080/"
        },
        "id": "zSLps2wqP_eP",
        "outputId": "e2f54f6a-60a5-47ff-e38d-87ba846cab1c"
      },
      "outputs": [
        {
          "output_type": "stream",
          "name": "stdout",
          "text": [
            "--2023-06-21 13:59:53--  https://raw.githubusercontent.com/KrishnaSChavan/MachineLearning/main/functions.py\n",
            "Resolving raw.githubusercontent.com (raw.githubusercontent.com)... 185.199.108.133, 185.199.109.133, 185.199.110.133, ...\n",
            "Connecting to raw.githubusercontent.com (raw.githubusercontent.com)|185.199.108.133|:443... connected.\n",
            "HTTP request sent, awaiting response... 200 OK\n",
            "Length: 10246 (10K) [text/plain]\n",
            "Saving to: ‘functions.py’\n",
            "\n",
            "\rfunctions.py          0%[                    ]       0  --.-KB/s               \rfunctions.py        100%[===================>]  10.01K  --.-KB/s    in 0s      \n",
            "\n",
            "2023-06-21 13:59:53 (73.3 MB/s) - ‘functions.py’ saved [10246/10246]\n",
            "\n"
          ]
        }
      ],
      "source": [
        "!wget https://raw.githubusercontent.com/KrishnaSChavan/MachineLearning/main/functions.py"
      ]
    },
    {
      "cell_type": "code",
      "source": [
        "from functions import create_tensorboard_callback,plot_loss_curves,unzip_data,walk_through_dir"
      ],
      "metadata": {
        "id": "yYlJMVryQRvl"
      },
      "execution_count": 4,
      "outputs": []
    },
    {
      "cell_type": "code",
      "source": [
        "import matplotlib.pyplot as plt\n",
        "import numpy as np\n",
        "from sklearn.model_selection import train_test_split\n",
        "import os, cv2\n",
        "import tensorflow as tf\n",
        "from tensorflow.keras.models import Sequential\n",
        "from tensorflow.keras import layers\n",
        "import time\n",
        "import pandas as pd\n",
        "from tqdm import tqdm\n",
        "from tensorflow.keras import layers"
      ],
      "metadata": {
        "id": "KqmsKafHWRnY"
      },
      "execution_count": 9,
      "outputs": []
    },
    {
      "cell_type": "code",
      "source": [
        "!wget https://storage.googleapis.com/ztm_tf_course/food_vision/10_food_classes_10_percent.zip"
      ],
      "metadata": {
        "colab": {
          "base_uri": "https://localhost:8080/"
        },
        "id": "oUf08WqFQUbC",
        "outputId": "25986e28-93c4-44ad-a50d-e1cbf7cd9a1f"
      },
      "execution_count": 5,
      "outputs": [
        {
          "output_type": "stream",
          "name": "stdout",
          "text": [
            "--2023-06-21 14:15:57--  https://storage.googleapis.com/ztm_tf_course/food_vision/10_food_classes_10_percent.zip\n",
            "Resolving storage.googleapis.com (storage.googleapis.com)... 142.250.103.128, 108.177.121.128, 108.177.120.128, ...\n",
            "Connecting to storage.googleapis.com (storage.googleapis.com)|142.250.103.128|:443... connected.\n",
            "HTTP request sent, awaiting response... 200 OK\n",
            "Length: 168546183 (161M) [application/zip]\n",
            "Saving to: ‘10_food_classes_10_percent.zip’\n",
            "\n",
            "10_food_classes_10_ 100%[===================>] 160.74M   176MB/s    in 0.9s    \n",
            "\n",
            "2023-06-21 14:15:58 (176 MB/s) - ‘10_food_classes_10_percent.zip’ saved [168546183/168546183]\n",
            "\n"
          ]
        }
      ]
    },
    {
      "cell_type": "code",
      "source": [
        "unzip_data('/content/10_food_classes_10_percent.zip')"
      ],
      "metadata": {
        "id": "Nx-vsSh7T-A9"
      },
      "execution_count": 6,
      "outputs": []
    },
    {
      "cell_type": "code",
      "source": [
        "walk_through_dir('10_food_classes_10_percent')"
      ],
      "metadata": {
        "colab": {
          "base_uri": "https://localhost:8080/"
        },
        "id": "eltS2ZpaUOES",
        "outputId": "5aec6945-d116-4e5e-a826-1419d1b5c5db"
      },
      "execution_count": 8,
      "outputs": [
        {
          "output_type": "stream",
          "name": "stdout",
          "text": [
            "There are 2 directories and 0 images in '10_food_classes_10_percent'.\n",
            "There are 10 directories and 0 images in '10_food_classes_10_percent/train'.\n",
            "There are 0 directories and 75 images in '10_food_classes_10_percent/train/sushi'.\n",
            "There are 0 directories and 75 images in '10_food_classes_10_percent/train/chicken_wings'.\n",
            "There are 0 directories and 75 images in '10_food_classes_10_percent/train/hamburger'.\n",
            "There are 0 directories and 75 images in '10_food_classes_10_percent/train/grilled_salmon'.\n",
            "There are 0 directories and 75 images in '10_food_classes_10_percent/train/fried_rice'.\n",
            "There are 0 directories and 75 images in '10_food_classes_10_percent/train/pizza'.\n",
            "There are 0 directories and 75 images in '10_food_classes_10_percent/train/chicken_curry'.\n",
            "There are 0 directories and 75 images in '10_food_classes_10_percent/train/ramen'.\n",
            "There are 0 directories and 75 images in '10_food_classes_10_percent/train/steak'.\n",
            "There are 0 directories and 75 images in '10_food_classes_10_percent/train/ice_cream'.\n",
            "There are 10 directories and 0 images in '10_food_classes_10_percent/test'.\n",
            "There are 0 directories and 250 images in '10_food_classes_10_percent/test/sushi'.\n",
            "There are 0 directories and 250 images in '10_food_classes_10_percent/test/chicken_wings'.\n",
            "There are 0 directories and 250 images in '10_food_classes_10_percent/test/hamburger'.\n",
            "There are 0 directories and 250 images in '10_food_classes_10_percent/test/grilled_salmon'.\n",
            "There are 0 directories and 250 images in '10_food_classes_10_percent/test/fried_rice'.\n",
            "There are 0 directories and 250 images in '10_food_classes_10_percent/test/pizza'.\n",
            "There are 0 directories and 250 images in '10_food_classes_10_percent/test/chicken_curry'.\n",
            "There are 0 directories and 250 images in '10_food_classes_10_percent/test/ramen'.\n",
            "There are 0 directories and 250 images in '10_food_classes_10_percent/test/steak'.\n",
            "There are 0 directories and 250 images in '10_food_classes_10_percent/test/ice_cream'.\n"
          ]
        }
      ]
    },
    {
      "cell_type": "markdown",
      "source": [
        "# Model 1"
      ],
      "metadata": {
        "id": "sjzPjHinbzaL"
      }
    },
    {
      "cell_type": "code",
      "source": [
        "train_dir = '/content/10_food_classes_10_percent/train'\n",
        "test_dir = '/content/10_food_classes_10_percent/test'"
      ],
      "metadata": {
        "id": "1eZcg_hPWvlk"
      },
      "execution_count": 16,
      "outputs": []
    },
    {
      "cell_type": "code",
      "source": [
        "IMAGE_SHAPE = (224,224)\n",
        "BATCH_SIZE = 32\n",
        "train_data = tf.keras.preprocessing.image_dataset_from_directory(\n",
        "    directory = train_dir,\n",
        "    image_size=IMAGE_SHAPE,\n",
        "    label_mode = 'categorical',\n",
        "    batch_size=BATCH_SIZE\n",
        ")\n",
        "\n",
        "test_data = tf.keras.preprocessing.image_dataset_from_directory(\n",
        "    directory = test_dir,\n",
        "    image_size=IMAGE_SHAPE,\n",
        "    label_mode= 'categorical',\n",
        "    batch_size=BATCH_SIZE\n",
        ")"
      ],
      "metadata": {
        "colab": {
          "base_uri": "https://localhost:8080/"
        },
        "id": "DPKfw3d_USLO",
        "outputId": "ebe5800f-762d-429b-eafb-fd0a2278d6de"
      },
      "execution_count": 17,
      "outputs": [
        {
          "output_type": "stream",
          "name": "stdout",
          "text": [
            "Found 750 files belonging to 10 classes.\n",
            "Found 2500 files belonging to 10 classes.\n"
          ]
        }
      ]
    },
    {
      "cell_type": "code",
      "source": [
        "train_data.class_names"
      ],
      "metadata": {
        "colab": {
          "base_uri": "https://localhost:8080/"
        },
        "id": "pr3qPQA1ZXd9",
        "outputId": "9542b73e-9938-490a-adaa-a782805e0917"
      },
      "execution_count": 19,
      "outputs": [
        {
          "output_type": "execute_result",
          "data": {
            "text/plain": [
              "['chicken_curry',\n",
              " 'chicken_wings',\n",
              " 'fried_rice',\n",
              " 'grilled_salmon',\n",
              " 'hamburger',\n",
              " 'ice_cream',\n",
              " 'pizza',\n",
              " 'ramen',\n",
              " 'steak',\n",
              " 'sushi']"
            ]
          },
          "metadata": {},
          "execution_count": 19
        }
      ]
    },
    {
      "cell_type": "code",
      "source": [
        "np.unique(train_data.class_names)"
      ],
      "metadata": {
        "colab": {
          "base_uri": "https://localhost:8080/"
        },
        "id": "biA5V9pDXUOi",
        "outputId": "5f131e9b-07d7-48b7-dd38-f75917195135"
      },
      "execution_count": 21,
      "outputs": [
        {
          "output_type": "execute_result",
          "data": {
            "text/plain": [
              "array(['chicken_curry', 'chicken_wings', 'fried_rice', 'grilled_salmon',\n",
              "       'hamburger', 'ice_cream', 'pizza', 'ramen', 'steak', 'sushi'],\n",
              "      dtype='<U14')"
            ]
          },
          "metadata": {},
          "execution_count": 21
        }
      ]
    },
    {
      "cell_type": "code",
      "source": [
        "base_model = tf.keras.applications.EfficientNetB0(include_top=False)\n",
        "\n",
        "base_model.trainable = False\n",
        "\n",
        "input = tf.keras.Input(shape=(224,224,3))\n",
        "\n",
        "x = base_model(input)\n",
        "\n",
        "x = tf.keras.layers.GlobalAveragePooling2D()(x)\n",
        "\n",
        "output = tf.keras.layers.Dense(10,activation='softmax')(x)\n",
        "\n",
        "model = tf.keras.Model(inputs = input,outputs = output)\n"
      ],
      "metadata": {
        "id": "tOMBba_GXkfi"
      },
      "execution_count": 23,
      "outputs": []
    },
    {
      "cell_type": "code",
      "source": [
        "count = 0\n",
        "for x in base_model.layers:\n",
        "    print(x.name)\n",
        "    count +=1\n",
        "print(count)"
      ],
      "metadata": {
        "colab": {
          "base_uri": "https://localhost:8080/"
        },
        "id": "8LyUM6DsdgNa",
        "outputId": "83c39370-6ddb-474e-f360-e40a39daa6cd"
      },
      "execution_count": 39,
      "outputs": [
        {
          "output_type": "stream",
          "name": "stdout",
          "text": [
            "input_3\n",
            "rescaling_2\n",
            "normalization_1\n",
            "rescaling_3\n",
            "stem_conv_pad\n",
            "stem_conv\n",
            "stem_bn\n",
            "stem_activation\n",
            "block1a_dwconv\n",
            "block1a_bn\n",
            "block1a_activation\n",
            "block1a_se_squeeze\n",
            "block1a_se_reshape\n",
            "block1a_se_reduce\n",
            "block1a_se_expand\n",
            "block1a_se_excite\n",
            "block1a_project_conv\n",
            "block1a_project_bn\n",
            "block2a_expand_conv\n",
            "block2a_expand_bn\n",
            "block2a_expand_activation\n",
            "block2a_dwconv_pad\n",
            "block2a_dwconv\n",
            "block2a_bn\n",
            "block2a_activation\n",
            "block2a_se_squeeze\n",
            "block2a_se_reshape\n",
            "block2a_se_reduce\n",
            "block2a_se_expand\n",
            "block2a_se_excite\n",
            "block2a_project_conv\n",
            "block2a_project_bn\n",
            "block2b_expand_conv\n",
            "block2b_expand_bn\n",
            "block2b_expand_activation\n",
            "block2b_dwconv\n",
            "block2b_bn\n",
            "block2b_activation\n",
            "block2b_se_squeeze\n",
            "block2b_se_reshape\n",
            "block2b_se_reduce\n",
            "block2b_se_expand\n",
            "block2b_se_excite\n",
            "block2b_project_conv\n",
            "block2b_project_bn\n",
            "block2b_drop\n",
            "block2b_add\n",
            "block3a_expand_conv\n",
            "block3a_expand_bn\n",
            "block3a_expand_activation\n",
            "block3a_dwconv_pad\n",
            "block3a_dwconv\n",
            "block3a_bn\n",
            "block3a_activation\n",
            "block3a_se_squeeze\n",
            "block3a_se_reshape\n",
            "block3a_se_reduce\n",
            "block3a_se_expand\n",
            "block3a_se_excite\n",
            "block3a_project_conv\n",
            "block3a_project_bn\n",
            "block3b_expand_conv\n",
            "block3b_expand_bn\n",
            "block3b_expand_activation\n",
            "block3b_dwconv\n",
            "block3b_bn\n",
            "block3b_activation\n",
            "block3b_se_squeeze\n",
            "block3b_se_reshape\n",
            "block3b_se_reduce\n",
            "block3b_se_expand\n",
            "block3b_se_excite\n",
            "block3b_project_conv\n",
            "block3b_project_bn\n",
            "block3b_drop\n",
            "block3b_add\n",
            "block4a_expand_conv\n",
            "block4a_expand_bn\n",
            "block4a_expand_activation\n",
            "block4a_dwconv_pad\n",
            "block4a_dwconv\n",
            "block4a_bn\n",
            "block4a_activation\n",
            "block4a_se_squeeze\n",
            "block4a_se_reshape\n",
            "block4a_se_reduce\n",
            "block4a_se_expand\n",
            "block4a_se_excite\n",
            "block4a_project_conv\n",
            "block4a_project_bn\n",
            "block4b_expand_conv\n",
            "block4b_expand_bn\n",
            "block4b_expand_activation\n",
            "block4b_dwconv\n",
            "block4b_bn\n",
            "block4b_activation\n",
            "block4b_se_squeeze\n",
            "block4b_se_reshape\n",
            "block4b_se_reduce\n",
            "block4b_se_expand\n",
            "block4b_se_excite\n",
            "block4b_project_conv\n",
            "block4b_project_bn\n",
            "block4b_drop\n",
            "block4b_add\n",
            "block4c_expand_conv\n",
            "block4c_expand_bn\n",
            "block4c_expand_activation\n",
            "block4c_dwconv\n",
            "block4c_bn\n",
            "block4c_activation\n",
            "block4c_se_squeeze\n",
            "block4c_se_reshape\n",
            "block4c_se_reduce\n",
            "block4c_se_expand\n",
            "block4c_se_excite\n",
            "block4c_project_conv\n",
            "block4c_project_bn\n",
            "block4c_drop\n",
            "block4c_add\n",
            "block5a_expand_conv\n",
            "block5a_expand_bn\n",
            "block5a_expand_activation\n",
            "block5a_dwconv\n",
            "block5a_bn\n",
            "block5a_activation\n",
            "block5a_se_squeeze\n",
            "block5a_se_reshape\n",
            "block5a_se_reduce\n",
            "block5a_se_expand\n",
            "block5a_se_excite\n",
            "block5a_project_conv\n",
            "block5a_project_bn\n",
            "block5b_expand_conv\n",
            "block5b_expand_bn\n",
            "block5b_expand_activation\n",
            "block5b_dwconv\n",
            "block5b_bn\n",
            "block5b_activation\n",
            "block5b_se_squeeze\n",
            "block5b_se_reshape\n",
            "block5b_se_reduce\n",
            "block5b_se_expand\n",
            "block5b_se_excite\n",
            "block5b_project_conv\n",
            "block5b_project_bn\n",
            "block5b_drop\n",
            "block5b_add\n",
            "block5c_expand_conv\n",
            "block5c_expand_bn\n",
            "block5c_expand_activation\n",
            "block5c_dwconv\n",
            "block5c_bn\n",
            "block5c_activation\n",
            "block5c_se_squeeze\n",
            "block5c_se_reshape\n",
            "block5c_se_reduce\n",
            "block5c_se_expand\n",
            "block5c_se_excite\n",
            "block5c_project_conv\n",
            "block5c_project_bn\n",
            "block5c_drop\n",
            "block5c_add\n",
            "block6a_expand_conv\n",
            "block6a_expand_bn\n",
            "block6a_expand_activation\n",
            "block6a_dwconv_pad\n",
            "block6a_dwconv\n",
            "block6a_bn\n",
            "block6a_activation\n",
            "block6a_se_squeeze\n",
            "block6a_se_reshape\n",
            "block6a_se_reduce\n",
            "block6a_se_expand\n",
            "block6a_se_excite\n",
            "block6a_project_conv\n",
            "block6a_project_bn\n",
            "block6b_expand_conv\n",
            "block6b_expand_bn\n",
            "block6b_expand_activation\n",
            "block6b_dwconv\n",
            "block6b_bn\n",
            "block6b_activation\n",
            "block6b_se_squeeze\n",
            "block6b_se_reshape\n",
            "block6b_se_reduce\n",
            "block6b_se_expand\n",
            "block6b_se_excite\n",
            "block6b_project_conv\n",
            "block6b_project_bn\n",
            "block6b_drop\n",
            "block6b_add\n",
            "block6c_expand_conv\n",
            "block6c_expand_bn\n",
            "block6c_expand_activation\n",
            "block6c_dwconv\n",
            "block6c_bn\n",
            "block6c_activation\n",
            "block6c_se_squeeze\n",
            "block6c_se_reshape\n",
            "block6c_se_reduce\n",
            "block6c_se_expand\n",
            "block6c_se_excite\n",
            "block6c_project_conv\n",
            "block6c_project_bn\n",
            "block6c_drop\n",
            "block6c_add\n",
            "block6d_expand_conv\n",
            "block6d_expand_bn\n",
            "block6d_expand_activation\n",
            "block6d_dwconv\n",
            "block6d_bn\n",
            "block6d_activation\n",
            "block6d_se_squeeze\n",
            "block6d_se_reshape\n",
            "block6d_se_reduce\n",
            "block6d_se_expand\n",
            "block6d_se_excite\n",
            "block6d_project_conv\n",
            "block6d_project_bn\n",
            "block6d_drop\n",
            "block6d_add\n",
            "block7a_expand_conv\n",
            "block7a_expand_bn\n",
            "block7a_expand_activation\n",
            "block7a_dwconv\n",
            "block7a_bn\n",
            "block7a_activation\n",
            "block7a_se_squeeze\n",
            "block7a_se_reshape\n",
            "block7a_se_reduce\n",
            "block7a_se_expand\n",
            "block7a_se_excite\n",
            "block7a_project_conv\n",
            "block7a_project_bn\n",
            "top_conv\n",
            "top_bn\n",
            "top_activation\n",
            "238\n"
          ]
        }
      ]
    },
    {
      "cell_type": "code",
      "source": [
        "model.summary()"
      ],
      "metadata": {
        "colab": {
          "base_uri": "https://localhost:8080/"
        },
        "id": "jY0wsXd0bClt",
        "outputId": "dfc99931-41a1-47b0-f99e-d6392c859426"
      },
      "execution_count": 24,
      "outputs": [
        {
          "output_type": "stream",
          "name": "stdout",
          "text": [
            "Model: \"model_1\"\n",
            "_________________________________________________________________\n",
            " Layer (type)                Output Shape              Param #   \n",
            "=================================================================\n",
            " input_4 (InputLayer)        [(None, 224, 224, 3)]     0         \n",
            "                                                                 \n",
            " efficientnetb0 (Functional)  (None, None, None, 1280)  4049571  \n",
            "                                                                 \n",
            " global_average_pooling2d_1   (None, 1280)             0         \n",
            " (GlobalAveragePooling2D)                                        \n",
            "                                                                 \n",
            " dense_1 (Dense)             (None, 10)                12810     \n",
            "                                                                 \n",
            "=================================================================\n",
            "Total params: 4,062,381\n",
            "Trainable params: 12,810\n",
            "Non-trainable params: 4,049,571\n",
            "_________________________________________________________________\n"
          ]
        }
      ]
    },
    {
      "cell_type": "code",
      "source": [
        "model.compile(\n",
        "    loss = 'categorical_crossentropy',\n",
        "    optimizer = tf.keras.optimizers.Adam(),\n",
        "    metrics = ['accuracy']\n",
        ")"
      ],
      "metadata": {
        "id": "GjYFsOeLbDrh"
      },
      "execution_count": 31,
      "outputs": []
    },
    {
      "cell_type": "code",
      "source": [
        "history_1 = model.fit(\n",
        "    train_data,\n",
        "    epochs = 5,\n",
        "    steps_per_epoch=len(train_data),\n",
        "    validation_data=test_data,\n",
        "    validation_steps=int(0.25*len(test_data)),\n",
        "    callbacks=[create_tensorboard_callback(\"tf\",\"10_per\")]\n",
        "\n",
        ")"
      ],
      "metadata": {
        "colab": {
          "base_uri": "https://localhost:8080/"
        },
        "id": "YhH6ibp4bsV-",
        "outputId": "3a8dbf51-8c2d-4237-fb7d-809f5f37096c"
      },
      "execution_count": 32,
      "outputs": [
        {
          "output_type": "stream",
          "name": "stderr",
          "text": [
            "WARNING:tensorflow:Model failed to serialize as JSON. Ignoring... Unable to serialize [2.0896919 2.1128857 2.1081853] to JSON. Unrecognized type <class 'tensorflow.python.framework.ops.EagerTensor'>.\n"
          ]
        },
        {
          "output_type": "stream",
          "name": "stdout",
          "text": [
            "Saving TensorBoard log files to: tf/10_per/20230621-145612\n",
            "Epoch 1/5\n",
            "24/24 [==============================] - 14s 240ms/step - loss: 0.7973 - accuracy: 0.8027 - val_loss: 0.6134 - val_accuracy: 0.8651\n",
            "Epoch 2/5\n",
            "24/24 [==============================] - 4s 154ms/step - loss: 0.6058 - accuracy: 0.8533 - val_loss: 0.4852 - val_accuracy: 0.9030\n",
            "Epoch 3/5\n",
            "24/24 [==============================] - 5s 182ms/step - loss: 0.4967 - accuracy: 0.8880 - val_loss: 0.4087 - val_accuracy: 0.9178\n",
            "Epoch 4/5\n",
            "24/24 [==============================] - 5s 181ms/step - loss: 0.4187 - accuracy: 0.9080 - val_loss: 0.3596 - val_accuracy: 0.9227\n",
            "Epoch 5/5\n",
            "24/24 [==============================] - 5s 201ms/step - loss: 0.3766 - accuracy: 0.9293 - val_loss: 0.3116 - val_accuracy: 0.9424\n"
          ]
        }
      ]
    },
    {
      "cell_type": "code",
      "source": [
        "plot_loss_curves(history_1)"
      ],
      "metadata": {
        "colab": {
          "base_uri": "https://localhost:8080/",
          "height": 926
        },
        "id": "3xIq6QLccrv_",
        "outputId": "d21787cf-c1f7-4ea3-ac71-a7a06d5ca464"
      },
      "execution_count": 40,
      "outputs": [
        {
          "output_type": "display_data",
          "data": {
            "text/plain": [
              "<Figure size 640x480 with 1 Axes>"
            ],
            "image/png": "[encoded data removed]"
          },
          "metadata": {}
        },
        {
          "output_type": "display_data",
          "data": {
            "text/plain": [
              "<Figure size 640x480 with 1 Axes>"
            ],
            "image/png": "[encoded data removed]"
          },
          "metadata": {}
        }
      ]
    },
    {
      "cell_type": "code",
      "source": [],
      "metadata": {
        "id": "PS7WoM07cy4J"
      },
      "execution_count": null,
      "outputs": []
    }
  ]
}