{
  "nbformat": 4,
  "nbformat_minor": 0,
  "metadata": {
    "colab": {
      "provenance": [],
      "gpuType": "T4",
      "authorship_tag": "ABX9TyMP6PB2eEij9j220EN1/Uph",
      "include_colab_link": true
    },
    "kernelspec": {
      "name": "python3",
      "display_name": "Python 3"
    },
    "language_info": {
      "name": "python"
    },
    "accelerator": "GPU"
  },
  "cells": [
    {
      "cell_type": "markdown",
      "metadata": {
        "id": "view-in-github",
        "colab_type": "text"
      },
      "source": [
        "<a href=\"https://colab.research.google.com/github/KrishnaSChavan/MachineLearning/blob/main/GAN.ipynb\" target=\"_parent\"><img src=\"https://colab.research.google.com/assets/colab-badge.svg\" alt=\"Open In Colab\"/></a>"
      ]
    },
    {
      "cell_type": "code",
      "source": [
        "import os\n",
        "import time\n",
        "import numpy as np\n",
        "import tensorflow as tf\n",
        "import matplotlib.pyplot as plt\n",
        "\n",
        "from tqdm import tqdm\n",
        "from tensorflow.keras import layers"
      ],
      "metadata": {
        "id": "G4jHlrOEeh2x"
      },
      "execution_count": 1,
      "outputs": []
    },
    {
      "cell_type": "code",
      "source": [
        "(train_images, _), (_, _) = tf.keras. datasets.fashion_mnist.load_data()\n",
        "train_images.shape"
      ],
      "metadata": {
        "colab": {
          "base_uri": "https://localhost:8080/"
        },
        "id": "r7mN8n7biAnB",
        "outputId": "250a1db3-158f-4f0d-a13d-1e2c0ef111c2"
      },
      "execution_count": 2,
      "outputs": [
        {
          "output_type": "stream",
          "name": "stdout",
          "text": [
            "Downloading data from https://storage.googleapis.com/tensorflow/tf-keras-datasets/train-labels-idx1-ubyte.gz\n",
            "29515/29515 [==============================] - 0s 0us/step\n",
            "Downloading data from https://storage.googleapis.com/tensorflow/tf-keras-datasets/train-images-idx3-ubyte.gz\n",
            "26421880/26421880 [==============================] - 1s 0us/step\n",
            "Downloading data from https://storage.googleapis.com/tensorflow/tf-keras-datasets/t10k-labels-idx1-ubyte.gz\n",
            "5148/5148 [==============================] - 0s 0us/step\n",
            "Downloading data from https://storage.googleapis.com/tensorflow/tf-keras-datasets/t10k-images-idx3-ubyte.gz\n",
            "4422102/4422102 [==============================] - 1s 0us/step\n"
          ]
        },
        {
          "output_type": "execute_result",
          "data": {
            "text/plain": [
              "(60000, 28, 28)"
            ]
          },
          "metadata": {},
          "execution_count": 2
        }
      ]
    },
    {
      "cell_type": "code",
      "source": [
        "train_images = train_images.reshape(train_images.shape [0], 28, 28, 1).astype('float32')\n",
        "\n",
        "train_images.shape"
      ],
      "metadata": {
        "colab": {
          "base_uri": "https://localhost:8080/"
        },
        "id": "C7xPv7B0iNpD",
        "outputId": "dd3f5d77-af37-44aa-b3f0-716e590aff57"
      },
      "execution_count": 3,
      "outputs": [
        {
          "output_type": "execute_result",
          "data": {
            "text/plain": [
              "(60000, 28, 28, 1)"
            ]
          },
          "metadata": {},
          "execution_count": 3
        }
      ]
    },
    {
      "cell_type": "code",
      "source": [
        "train_images[53111]"
      ],
      "metadata": {
        "id": "3GqfWI3nig0H"
      },
      "execution_count": null,
      "outputs": []
    },
    {
      "cell_type": "code",
      "source": [
        "train_images = (train_images-127.5)/ 127.5"
      ],
      "metadata": {
        "id": "d0YBH9mciy6R"
      },
      "execution_count": 5,
      "outputs": []
    },
    {
      "cell_type": "code",
      "source": [
        "train_images[231]"
      ],
      "metadata": {
        "id": "Wg6Xx4RvjDF0"
      },
      "execution_count": null,
      "outputs": []
    },
    {
      "cell_type": "code",
      "source": [
        "buffer_size = 60000\n",
        "\n",
        "Batch_size = 32"
      ],
      "metadata": {
        "id": "-Qpd_rvhjFRv"
      },
      "execution_count": 7,
      "outputs": []
    },
    {
      "cell_type": "code",
      "source": [
        "train_dataset = tf.data.Dataset.from_tensor_slices(train_images).shuffle(buffer_size).batch(Batch_size)"
      ],
      "metadata": {
        "id": "bwAdZ0wB60HW"
      },
      "execution_count": 11,
      "outputs": []
    },
    {
      "cell_type": "code",
      "source": [
        "def generator_model ():\n",
        "    model = tf.keras.Sequential ()\n",
        "    model.add(layers. Dense (64, input_dim = 100))\n",
        "    model.add(layers.ReLU ( ))\n",
        "    model.add(layers.Dense (128))\n",
        "    model.add(layers.ReLU())\n",
        "    model.add(layers.Dense(256))\n",
        "    model.add(layers. ReLU ( ) )\n",
        "    model.add(layers. Dense (784, activation = 'relu'))\n",
        "    model. add (layers. Reshape ( (28, 28, 1)))\n",
        "    return model"
      ],
      "metadata": {
        "id": "9EhgpP6p7Rg1"
      },
      "execution_count": 14,
      "outputs": []
    },
    {
      "cell_type": "code",
      "source": [
        "generator = generator_model()\n",
        "\n",
        "generator.summary()"
      ],
      "metadata": {
        "colab": {
          "base_uri": "https://localhost:8080/"
        },
        "id": "bTaDrhqB9tb7",
        "outputId": "1fdd133b-781e-485a-92bf-02acc3579c1b"
      },
      "execution_count": 15,
      "outputs": [
        {
          "output_type": "stream",
          "name": "stdout",
          "text": [
            "Model: \"sequential\"\n",
            "_________________________________________________________________\n",
            " Layer (type)                Output Shape              Param #   \n",
            "=================================================================\n",
            " dense (Dense)               (None, 64)                6464      \n",
            "                                                                 \n",
            " re_lu (ReLU)                (None, 64)                0         \n",
            "                                                                 \n",
            " dense_1 (Dense)             (None, 128)               8320      \n",
            "                                                                 \n",
            " re_lu_1 (ReLU)              (None, 128)               0         \n",
            "                                                                 \n",
            " dense_2 (Dense)             (None, 256)               33024     \n",
            "                                                                 \n",
            " re_lu_2 (ReLU)              (None, 256)               0         \n",
            "                                                                 \n",
            " dense_3 (Dense)             (None, 784)               201488    \n",
            "                                                                 \n",
            " reshape (Reshape)           (None, 28, 28, 1)         0         \n",
            "                                                                 \n",
            "=================================================================\n",
            "Total params: 249,296\n",
            "Trainable params: 249,296\n",
            "Non-trainable params: 0\n",
            "_________________________________________________________________\n"
          ]
        }
      ]
    },
    {
      "cell_type": "code",
      "source": [
        "noise = tf.random.normal([1,100])\n",
        "generated_image = generator (noise, training = False)\n",
        "\n",
        "\n",
        "generated_image.shape"
      ],
      "metadata": {
        "colab": {
          "base_uri": "https://localhost:8080/"
        },
        "id": "Bf44Blqxou6l",
        "outputId": "bb2e6b06-9480-4291-f563-f10db5a43bf7"
      },
      "execution_count": 20,
      "outputs": [
        {
          "output_type": "execute_result",
          "data": {
            "text/plain": [
              "TensorShape([1, 28, 28, 1])"
            ]
          },
          "metadata": {},
          "execution_count": 20
        }
      ]
    },
    {
      "cell_type": "code",
      "source": [
        "plt.imshow(generated_image[0,:, :, 0], cmap = 'gray')"
      ],
      "metadata": {
        "colab": {
          "base_uri": "https://localhost:8080/",
          "height": 447
        },
        "id": "eE_1Qj1UpMu3",
        "outputId": "31238237-34a0-4d89-d97d-6981f819e870"
      },
      "execution_count": 21,
      "outputs": [
        {
          "output_type": "execute_result",
          "data": {
            "text/plain": [
              "<matplotlib.image.AxesImage at 0x7fdf1eb57b50>"
            ]
          },
          "metadata": {},
          "execution_count": 21
        },
        {
          "output_type": "display_data",
          "data": {
            "text/plain": [
              "<Figure size 640x480 with 1 Axes>"
            ],
            "image/png": "[encoded data removed]"
          },
          "metadata": {}
        }
      ]
    },
    {
      "cell_type": "code",
      "source": [
        "def discriminator_model ():\n",
        "    model = tf.keras. Sequential ()\n",
        "    model. add (layers. Input (shape = (28, 28, 1)))\n",
        "    model.add(layers.Flatten ( ))\n",
        "    model. add (layers. Dense (256))\n",
        "    model. add (layers. LeakyReLU(0.2))\n",
        "    model.add(layers. Dropout (0.5) )\n",
        "    model.add (layers. Dense (128))\n",
        "    model. add (layers. LeakyReLU(0.2))\n",
        "    model.add (layers. Dropout (0.3) )\n",
        "    model. add (layers. Dense (64) )\n",
        "    model. add (layers. LeakyReLU(0.2))\n",
        "    model.add (layers. Dropout (0.2) )\n",
        "    model. add (layers. Dense (1, activation ='sigmoid'))\n",
        "    return model"
      ],
      "metadata": {
        "id": "KYHEmaQdpWNE"
      },
      "execution_count": 22,
      "outputs": []
    },
    {
      "cell_type": "code",
      "source": [
        "discriminator = discriminator_model ()\n",
        "\n",
        "discriminator.summary ( )"
      ],
      "metadata": {
        "colab": {
          "base_uri": "https://localhost:8080/"
        },
        "id": "QT60OYs3qWVZ",
        "outputId": "fb478304-4565-4f39-a307-fa57b961aa28"
      },
      "execution_count": 23,
      "outputs": [
        {
          "output_type": "stream",
          "name": "stdout",
          "text": [
            "Model: \"sequential_1\"\n",
            "_________________________________________________________________\n",
            " Layer (type)                Output Shape              Param #   \n",
            "=================================================================\n",
            " flatten (Flatten)           (None, 784)               0         \n",
            "                                                                 \n",
            " dense_4 (Dense)             (None, 256)               200960    \n",
            "                                                                 \n",
            " leaky_re_lu (LeakyReLU)     (None, 256)               0         \n",
            "                                                                 \n",
            " dropout (Dropout)           (None, 256)               0         \n",
            "                                                                 \n",
            " dense_5 (Dense)             (None, 128)               32896     \n",
            "                                                                 \n",
            " leaky_re_lu_1 (LeakyReLU)   (None, 128)               0         \n",
            "                                                                 \n",
            " dropout_1 (Dropout)         (None, 128)               0         \n",
            "                                                                 \n",
            " dense_6 (Dense)             (None, 64)                8256      \n",
            "                                                                 \n",
            " leaky_re_lu_2 (LeakyReLU)   (None, 64)                0         \n",
            "                                                                 \n",
            " dropout_2 (Dropout)         (None, 64)                0         \n",
            "                                                                 \n",
            " dense_7 (Dense)             (None, 1)                 65        \n",
            "                                                                 \n",
            "=================================================================\n",
            "Total params: 242,177\n",
            "Trainable params: 242,177\n",
            "Non-trainable params: 0\n",
            "_________________________________________________________________\n"
          ]
        }
      ]
    },
    {
      "cell_type": "code",
      "source": [
        "discriminator = discriminator_model ()\n",
        "output = discriminator (generated_image)\n",
        "print (output)"
      ],
      "metadata": {
        "colab": {
          "base_uri": "https://localhost:8080/"
        },
        "id": "rl_rU6o5xCUD",
        "outputId": "0cbc8f00-6cc8-4a84-9dd3-f3479aa72f07"
      },
      "execution_count": 27,
      "outputs": [
        {
          "output_type": "stream",
          "name": "stdout",
          "text": [
            "tf.Tensor([[0.5086524]], shape=(1, 1), dtype=float32)\n"
          ]
        }
      ]
    },
    {
      "cell_type": "code",
      "source": [
        "be = tf.keras. losses. BinaryCrossentropy ( )"
      ],
      "metadata": {
        "id": "kUIZHsxqxevU"
      },
      "execution_count": 28,
      "outputs": []
    },
    {
      "cell_type": "code",
      "source": [
        "be"
      ],
      "metadata": {
        "colab": {
          "base_uri": "https://localhost:8080/"
        },
        "id": "G7RMAbfaxnvK",
        "outputId": "50e0a0f7-dd6a-4452-9bfe-a4e1bd1b0006"
      },
      "execution_count": 29,
      "outputs": [
        {
          "output_type": "execute_result",
          "data": {
            "text/plain": [
              "<keras.losses.BinaryCrossentropy at 0x7fdf1e97e3b0>"
            ]
          },
          "metadata": {},
          "execution_count": 29
        }
      ]
    },
    {
      "cell_type": "code",
      "source": [
        "def descriminator_loss(real,fake):\n",
        "    real_loss = be(tf.ones_like(real),real)\n",
        "    fake_loss = be(tf.zeros_like(fake),fake)\n",
        "    total_loss = real_loss + fake_loss\n",
        "\n",
        "    return total_loss"
      ],
      "metadata": {
        "id": "lOByF6WQxo9D"
      },
      "execution_count": 30,
      "outputs": []
    },
    {
      "cell_type": "code",
      "source": [
        "def generator_loss(fake):\n",
        "    gen_loss = be(tf.ones_like(fake),fake)\n",
        "    return gen_loss"
      ],
      "metadata": {
        "id": "xOcsjI0Oyc0S"
      },
      "execution_count": 31,
      "outputs": []
    },
    {
      "cell_type": "code",
      "source": [
        "tensor = tf.constant([[1, .2, 3], [.4, 5, .6]])\n",
        "print(tf.zeros_like(tensor))"
      ],
      "metadata": {
        "colab": {
          "base_uri": "https://localhost:8080/"
        },
        "id": "gcseZfeAzdev",
        "outputId": "b2808692-d1eb-45da-d23f-7d2e3963f5f2"
      },
      "execution_count": 36,
      "outputs": [
        {
          "output_type": "stream",
          "name": "stdout",
          "text": [
            "tf.Tensor(\n",
            "[[0. 0. 0.]\n",
            " [0. 0. 0.]], shape=(2, 3), dtype=float32)\n"
          ]
        }
      ]
    },
    {
      "cell_type": "code",
      "source": [
        "generator_optimizer = tf.keras.optimizers.Adam(learning_rate = 0.001 )\n",
        "discriminator_optimizer = tf.keras.optimizers.Adam(learning_rate = 0.001 )"
      ],
      "metadata": {
        "id": "mgSY-HWw1hE3"
      },
      "execution_count": 37,
      "outputs": []
    },
    {
      "cell_type": "code",
      "source": [
        "checkpoint_dir = './training_checkpoints'\n",
        "checkpoint_prefix = os.path. join(checkpoint_dir, \"ckpt\")\n",
        "checkpoint = tf. train.Checkpoint (generator_optimizer = generator_optimizer,\n",
        "                                    discriminator_optimizer = discriminator_optimizer,\n",
        "                                    generator = generator,\n",
        "                                    discriminator = discriminator)"
      ],
      "metadata": {
        "id": "dCiW3Qmc0nZx"
      },
      "execution_count": 38,
      "outputs": []
    },
    {
      "cell_type": "code",
      "source": [
        "epochs = 50\n",
        "noise_dim = 100\n",
        "num_examples_to_generate = 16\n",
        "seed = tf. random. normal ( [num_examples_to_generate, noise_dim])"
      ],
      "metadata": {
        "id": "7VqnhGTZ1sr5"
      },
      "execution_count": 39,
      "outputs": []
    },
    {
      "cell_type": "code",
      "source": [
        "@tf.function\n",
        "def train_step(images):\n",
        "    noise = tf.random.normal([Batch_size,noise_dim])\n",
        "    with tf.GradientTape() as gen_tape , tf.GradientTape() as disc_tape:\n",
        "        generated_image = generator(noise,training=True)\n",
        "\n",
        "        real_output = discriminator(images, training = True)\n",
        "        fake_output = discriminator(generated_image, training = True)\n",
        "\n",
        "        disc_loss = descriminator_loss (real_output, fake_output)\n",
        "        gen_loss = generator_loss (fake_output )\n",
        "\n",
        "    gradients_of_generator = gen_tape.gradient (gen_loss, generator.trainable_variables)\n",
        "    gradients_of_discriminator = disc_tape.gradient (disc_loss, discriminator.trainable_variables)\n",
        "\n",
        "    generator_optimizer.apply_gradients(zip(gradients_of_generator, generator.trainable_variables) )\n",
        "    discriminator_optimizer.apply_gradients (zip(gradients_of_discriminator, discriminator.trainable_variables))\n",
        "\n",
        "    return (gen_loss, disc_loss, tf. reduce_mean (real_output), tf. reduce_mean (fake_output))"
      ],
      "metadata": {
        "id": "y8zDivOD2VhD"
      },
      "execution_count": 48,
      "outputs": []
    },
    {
      "cell_type": "code",
      "source": [
        "def generate_and_plot_images (model, epoch, test_input):\n",
        "\n",
        "    predictions = model (test_input, training = False)\n",
        "    fig = plt.figure(figsize = (8, 4))\n",
        "    for i in range (predictions.shape [0]):\n",
        "        plt.subplot (4, 4, i+1)\n",
        "        pred = (predictions[i, :, :, 0] + 1) * 127.5\n",
        "        pred = np.array (pred)\n",
        "        plt. imshow (pred.astype (np.uint8), cmap = 'gray')\n",
        "        plt.axis ('off')\n",
        "    plt.savefig('image_at_epoch_{:04d)-png'.format(epoch))\n",
        "    plt.show ( )"
      ],
      "metadata": {
        "id": "bkbXGiib9aQw"
      },
      "execution_count": 49,
      "outputs": []
    },
    {
      "cell_type": "code",
      "source": [],
      "metadata": {
        "id": "-Vs1r3j_-kNw"
      },
      "execution_count": null,
      "outputs": []
    }
  ]
}