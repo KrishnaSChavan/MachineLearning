{
 "cells": [
  {
   "cell_type": "code",
   "execution_count": 1,
   "id": "c7d8d22b",
   "metadata": {},
   "outputs": [],
   "source": [
    "import numpy as np\n",
    "import pandas as pd\n",
    "import matplotlib.pyplot as plt"
   ]
  },
  {
   "cell_type": "code",
   "execution_count": 2,
   "id": "57e4e39f",
   "metadata": {},
   "outputs": [],
   "source": [
    "dataset = pd.read_csv(\"gt_2015.csv\")"
   ]
  },
  {
   "cell_type": "code",
   "execution_count": 3,
   "id": "e67aa8e1",
   "metadata": {},
   "outputs": [
    {
     "data": {
      "text/html": [
       "<div>\n",
       "<style scoped>\n",
       "    .dataframe tbody tr th:only-of-type {\n",
       "        vertical-align: middle;\n",
       "    }\n",
       "\n",
       "    .dataframe tbody tr th {\n",
       "        vertical-align: top;\n",
       "    }\n",
       "\n",
       "    .dataframe thead th {\n",
       "        text-align: right;\n",
       "    }\n",
       "</style>\n",
       "<table border=\"1\" class=\"dataframe\">\n",
       "  <thead>\n",
       "    <tr style=\"text-align: right;\">\n",
       "      <th></th>\n",
       "      <th>AT</th>\n",
       "      <th>AP</th>\n",
       "      <th>AH</th>\n",
       "      <th>AFDP</th>\n",
       "      <th>GTEP</th>\n",
       "      <th>TIT</th>\n",
       "      <th>TAT</th>\n",
       "      <th>TEY</th>\n",
       "      <th>CDP</th>\n",
       "      <th>CO</th>\n",
       "      <th>NOX</th>\n",
       "    </tr>\n",
       "  </thead>\n",
       "  <tbody>\n",
       "    <tr>\n",
       "      <th>0</th>\n",
       "      <td>1.95320</td>\n",
       "      <td>1020.1</td>\n",
       "      <td>84.985</td>\n",
       "      <td>2.5304</td>\n",
       "      <td>20.116</td>\n",
       "      <td>1048.7</td>\n",
       "      <td>544.92</td>\n",
       "      <td>116.27</td>\n",
       "      <td>10.799</td>\n",
       "      <td>7.4491</td>\n",
       "      <td>113.250</td>\n",
       "    </tr>\n",
       "    <tr>\n",
       "      <th>1</th>\n",
       "      <td>1.21910</td>\n",
       "      <td>1020.1</td>\n",
       "      <td>87.523</td>\n",
       "      <td>2.3937</td>\n",
       "      <td>18.584</td>\n",
       "      <td>1045.5</td>\n",
       "      <td>548.50</td>\n",
       "      <td>109.18</td>\n",
       "      <td>10.347</td>\n",
       "      <td>6.4684</td>\n",
       "      <td>112.020</td>\n",
       "    </tr>\n",
       "    <tr>\n",
       "      <th>2</th>\n",
       "      <td>0.94915</td>\n",
       "      <td>1022.2</td>\n",
       "      <td>78.335</td>\n",
       "      <td>2.7789</td>\n",
       "      <td>22.264</td>\n",
       "      <td>1068.8</td>\n",
       "      <td>549.95</td>\n",
       "      <td>125.88</td>\n",
       "      <td>11.256</td>\n",
       "      <td>3.6335</td>\n",
       "      <td>88.147</td>\n",
       "    </tr>\n",
       "    <tr>\n",
       "      <th>3</th>\n",
       "      <td>1.00750</td>\n",
       "      <td>1021.7</td>\n",
       "      <td>76.942</td>\n",
       "      <td>2.8170</td>\n",
       "      <td>23.358</td>\n",
       "      <td>1075.2</td>\n",
       "      <td>549.63</td>\n",
       "      <td>132.21</td>\n",
       "      <td>11.702</td>\n",
       "      <td>3.1972</td>\n",
       "      <td>87.078</td>\n",
       "    </tr>\n",
       "    <tr>\n",
       "      <th>4</th>\n",
       "      <td>1.28580</td>\n",
       "      <td>1021.6</td>\n",
       "      <td>76.732</td>\n",
       "      <td>2.8377</td>\n",
       "      <td>23.483</td>\n",
       "      <td>1076.2</td>\n",
       "      <td>549.68</td>\n",
       "      <td>133.58</td>\n",
       "      <td>11.737</td>\n",
       "      <td>2.3833</td>\n",
       "      <td>82.515</td>\n",
       "    </tr>\n",
       "    <tr>\n",
       "      <th>...</th>\n",
       "      <td>...</td>\n",
       "      <td>...</td>\n",
       "      <td>...</td>\n",
       "      <td>...</td>\n",
       "      <td>...</td>\n",
       "      <td>...</td>\n",
       "      <td>...</td>\n",
       "      <td>...</td>\n",
       "      <td>...</td>\n",
       "      <td>...</td>\n",
       "      <td>...</td>\n",
       "    </tr>\n",
       "    <tr>\n",
       "      <th>7379</th>\n",
       "      <td>3.62680</td>\n",
       "      <td>1028.5</td>\n",
       "      <td>93.200</td>\n",
       "      <td>3.1661</td>\n",
       "      <td>19.087</td>\n",
       "      <td>1037.0</td>\n",
       "      <td>541.59</td>\n",
       "      <td>109.08</td>\n",
       "      <td>10.411</td>\n",
       "      <td>10.9930</td>\n",
       "      <td>89.172</td>\n",
       "    </tr>\n",
       "    <tr>\n",
       "      <th>7380</th>\n",
       "      <td>4.16740</td>\n",
       "      <td>1028.6</td>\n",
       "      <td>94.036</td>\n",
       "      <td>3.1923</td>\n",
       "      <td>19.016</td>\n",
       "      <td>1037.6</td>\n",
       "      <td>542.28</td>\n",
       "      <td>108.79</td>\n",
       "      <td>10.344</td>\n",
       "      <td>11.1440</td>\n",
       "      <td>88.849</td>\n",
       "    </tr>\n",
       "    <tr>\n",
       "      <th>7381</th>\n",
       "      <td>5.48200</td>\n",
       "      <td>1028.5</td>\n",
       "      <td>95.219</td>\n",
       "      <td>3.3128</td>\n",
       "      <td>18.857</td>\n",
       "      <td>1038.0</td>\n",
       "      <td>543.48</td>\n",
       "      <td>107.81</td>\n",
       "      <td>10.462</td>\n",
       "      <td>11.4140</td>\n",
       "      <td>96.147</td>\n",
       "    </tr>\n",
       "    <tr>\n",
       "      <th>7382</th>\n",
       "      <td>5.88370</td>\n",
       "      <td>1028.7</td>\n",
       "      <td>94.200</td>\n",
       "      <td>3.9831</td>\n",
       "      <td>23.563</td>\n",
       "      <td>1076.9</td>\n",
       "      <td>550.11</td>\n",
       "      <td>131.41</td>\n",
       "      <td>11.771</td>\n",
       "      <td>3.3134</td>\n",
       "      <td>64.738</td>\n",
       "    </tr>\n",
       "    <tr>\n",
       "      <th>7383</th>\n",
       "      <td>6.03920</td>\n",
       "      <td>1028.8</td>\n",
       "      <td>94.547</td>\n",
       "      <td>3.8752</td>\n",
       "      <td>22.524</td>\n",
       "      <td>1067.9</td>\n",
       "      <td>548.23</td>\n",
       "      <td>125.41</td>\n",
       "      <td>11.462</td>\n",
       "      <td>11.9810</td>\n",
       "      <td>109.240</td>\n",
       "    </tr>\n",
       "  </tbody>\n",
       "</table>\n",
       "<p>7384 rows × 11 columns</p>\n",
       "</div>"
      ],
      "text/plain": [
       "           AT      AP      AH    AFDP    GTEP     TIT     TAT     TEY     CDP  \\\n",
       "0     1.95320  1020.1  84.985  2.5304  20.116  1048.7  544.92  116.27  10.799   \n",
       "1     1.21910  1020.1  87.523  2.3937  18.584  1045.5  548.50  109.18  10.347   \n",
       "2     0.94915  1022.2  78.335  2.7789  22.264  1068.8  549.95  125.88  11.256   \n",
       "3     1.00750  1021.7  76.942  2.8170  23.358  1075.2  549.63  132.21  11.702   \n",
       "4     1.28580  1021.6  76.732  2.8377  23.483  1076.2  549.68  133.58  11.737   \n",
       "...       ...     ...     ...     ...     ...     ...     ...     ...     ...   \n",
       "7379  3.62680  1028.5  93.200  3.1661  19.087  1037.0  541.59  109.08  10.411   \n",
       "7380  4.16740  1028.6  94.036  3.1923  19.016  1037.6  542.28  108.79  10.344   \n",
       "7381  5.48200  1028.5  95.219  3.3128  18.857  1038.0  543.48  107.81  10.462   \n",
       "7382  5.88370  1028.7  94.200  3.9831  23.563  1076.9  550.11  131.41  11.771   \n",
       "7383  6.03920  1028.8  94.547  3.8752  22.524  1067.9  548.23  125.41  11.462   \n",
       "\n",
       "           CO      NOX  \n",
       "0      7.4491  113.250  \n",
       "1      6.4684  112.020  \n",
       "2      3.6335   88.147  \n",
       "3      3.1972   87.078  \n",
       "4      2.3833   82.515  \n",
       "...       ...      ...  \n",
       "7379  10.9930   89.172  \n",
       "7380  11.1440   88.849  \n",
       "7381  11.4140   96.147  \n",
       "7382   3.3134   64.738  \n",
       "7383  11.9810  109.240  \n",
       "\n",
       "[7384 rows x 11 columns]"
      ]
     },
     "execution_count": 3,
     "metadata": {},
     "output_type": "execute_result"
    }
   ],
   "source": [
    "dataset"
   ]
  },
  {
   "cell_type": "code",
   "execution_count": 4,
   "id": "5c8c98fb",
   "metadata": {},
   "outputs": [],
   "source": [
    "x = dataset.iloc[:,:-1].values\n",
    "y = dataset.iloc[:,-1].values"
   ]
  },
  {
   "cell_type": "code",
   "execution_count": 5,
   "id": "55607bdb",
   "metadata": {},
   "outputs": [],
   "source": [
    "y = dataset.iloc[:,-1].values"
   ]
  },
  {
   "cell_type": "code",
   "execution_count": 6,
   "id": "ec68029a",
   "metadata": {},
   "outputs": [
    {
     "data": {
      "text/plain": [
       "array([[1.9532e+00, 1.0201e+03, 8.4985e+01, ..., 1.1627e+02, 1.0799e+01,\n",
       "        7.4491e+00],\n",
       "       [1.2191e+00, 1.0201e+03, 8.7523e+01, ..., 1.0918e+02, 1.0347e+01,\n",
       "        6.4684e+00],\n",
       "       [9.4915e-01, 1.0222e+03, 7.8335e+01, ..., 1.2588e+02, 1.1256e+01,\n",
       "        3.6335e+00],\n",
       "       ...,\n",
       "       [5.4820e+00, 1.0285e+03, 9.5219e+01, ..., 1.0781e+02, 1.0462e+01,\n",
       "        1.1414e+01],\n",
       "       [5.8837e+00, 1.0287e+03, 9.4200e+01, ..., 1.3141e+02, 1.1771e+01,\n",
       "        3.3134e+00],\n",
       "       [6.0392e+00, 1.0288e+03, 9.4547e+01, ..., 1.2541e+02, 1.1462e+01,\n",
       "        1.1981e+01]])"
      ]
     },
     "execution_count": 6,
     "metadata": {},
     "output_type": "execute_result"
    }
   ],
   "source": [
    "x"
   ]
  },
  {
   "cell_type": "code",
   "execution_count": 7,
   "id": "64226bee",
   "metadata": {},
   "outputs": [
    {
     "data": {
      "text/plain": [
       "array([113.25 , 112.02 ,  88.147, ...,  96.147,  64.738, 109.24 ])"
      ]
     },
     "execution_count": 7,
     "metadata": {},
     "output_type": "execute_result"
    }
   ],
   "source": [
    "y"
   ]
  },
  {
   "cell_type": "code",
   "execution_count": 8,
   "id": "6f67c67c",
   "metadata": {},
   "outputs": [],
   "source": [
    "from sklearn.model_selection import train_test_split\n",
    "x_train,x_test,y_train,y_test = train_test_split(x,y,test_size=.2,random_state=0)"
   ]
  },
  {
   "cell_type": "code",
   "execution_count": 9,
   "id": "0aef3c71",
   "metadata": {},
   "outputs": [
    {
     "data": {
      "text/plain": [
       "DecisionTreeRegressor(max_depth=5, random_state=0)"
      ]
     },
     "execution_count": 9,
     "metadata": {},
     "output_type": "execute_result"
    }
   ],
   "source": [
    "from sklearn.tree import DecisionTreeRegressor\n",
    "r = DecisionTreeRegressor(random_state= 0,max_depth = 5)\n",
    "r.fit(x,y)"
   ]
  },
  {
   "cell_type": "code",
   "execution_count": 10,
   "id": "b66965f7",
   "metadata": {},
   "outputs": [],
   "source": [
    "y_pred = r.predict(x)"
   ]
  },
  {
   "cell_type": "code",
   "execution_count": 11,
   "id": "e4d05de7",
   "metadata": {},
   "outputs": [
    {
     "data": {
      "text/plain": [
       "array([99.86718182, 99.86718182, 82.82947982, ..., 88.23663636,\n",
       "       68.6209097 , 68.6209097 ])"
      ]
     },
     "execution_count": 11,
     "metadata": {},
     "output_type": "execute_result"
    }
   ],
   "source": [
    "y_pred"
   ]
  },
  {
   "cell_type": "code",
   "execution_count": 12,
   "id": "6787faa0",
   "metadata": {
    "scrolled": true
   },
   "outputs": [
    {
     "name": "stdout",
     "output_type": "stream",
     "text": [
      "0.8169124949838047\n"
     ]
    }
   ],
   "source": [
    "from sklearn.metrics import r2_score\n",
    "r_squared = r2_score(y, y_pred)\n",
    "print(r_squared)"
   ]
  },
  {
   "cell_type": "code",
   "execution_count": 13,
   "id": "1410b7fd",
   "metadata": {},
   "outputs": [],
   "source": [
    "X = dataset.iloc[:,[0,9,10]].values\n",
    "x = dataset.iloc[:,:].values"
   ]
  },
  {
   "cell_type": "code",
   "execution_count": 14,
   "id": "145d8bc6",
   "metadata": {},
   "outputs": [
    {
     "data": {
      "text/plain": [
       "<function matplotlib.pyplot.show(close=None, block=None)>"
      ]
     },
     "execution_count": 14,
     "metadata": {},
     "output_type": "execute_result"
    },
    {
     "data": {
      "image/png": "[encoded data removed]",
      "text/plain": [
       "<Figure size 432x288 with 1 Axes>"
      ]
     },
     "metadata": {
      "needs_background": "light"
     },
     "output_type": "display_data"
    }
   ],
   "source": [
    "from sklearn.cluster import KMeans\n",
    "wcss =[]\n",
    "for i in range(1,10):\n",
    "    km = KMeans(n_clusters=i,init='k-means++',random_state=0).fit(x)\n",
    "    wcss.append(km.inertia_)\n",
    "plt.plot(range(1,10),wcss,color = 'red')\n",
    "\n",
    "plt.title(\"Elbow Method\")\n",
    "plt.show"
   ]
  },
  {
   "cell_type": "code",
   "execution_count": 15,
   "id": "b1428c16",
   "metadata": {},
   "outputs": [],
   "source": [
    "from sklearn.cluster import KMeans\n",
    "km = KMeans(n_clusters=3,init=\"k-means++\",random_state=0)\n",
    "y1 = km.fit_predict(X)"
   ]
  },
  {
   "cell_type": "code",
   "execution_count": 16,
   "id": "224118ec",
   "metadata": {},
   "outputs": [
    {
     "data": {
      "text/plain": [
       "array([2, 2, 2, ..., 2, 1, 2], dtype=int32)"
      ]
     },
     "execution_count": 16,
     "metadata": {},
     "output_type": "execute_result"
    }
   ],
   "source": [
    "y1"
   ]
  },
  {
   "cell_type": "markdown",
   "id": "65656bd2",
   "metadata": {},
   "source": [
    "# Plot is 10d "
   ]
  },
  {
   "cell_type": "code",
   "execution_count": 17,
   "id": "6ab35116",
   "metadata": {},
   "outputs": [
    {
     "data": {
      "image/png": "[encoded data removed]",
      "text/plain": [
       "<Figure size 432x288 with 1 Axes>"
      ]
     },
     "metadata": {
      "needs_background": "light"
     },
     "output_type": "display_data"
    }
   ],
   "source": [
    "plt.scatter(x[y1 == 0, 0], x[y1 == 0, 4], label = 'Cluster 1')\n",
    "plt.scatter(x[y1 == 1, 0], x[y1 == 1, 4],  label = 'Cluster 2')\n",
    "plt.scatter(x[y1 == 2, 0], x[y1 == 2, 4], label = 'Cluster 3')\n",
    "plt.scatter(km.cluster_centers_[:, 0], km.cluster_centers_[:, 1], s = 100, c = 'black', label = 'Centroids')\n",
    "plt.title('Clusters of vehicles')\n",
    "plt.xlabel('Ambient temperature ')\n",
    "plt.ylabel('Gas turbine exhaust pressure')\n",
    "plt.legend()\n",
    "plt.show()"
   ]
  },
  {
   "cell_type": "code",
   "execution_count": 18,
   "id": "fa0a78c9",
   "metadata": {},
   "outputs": [
    {
     "data": {
      "text/plain": [
       "array([[22.60977783,  2.21682057, 53.14461672],\n",
       "       [10.68817212,  3.62800097, 64.79186174],\n",
       "       [ 6.59565086,  7.45634286, 86.79906076]])"
      ]
     },
     "execution_count": 18,
     "metadata": {},
     "output_type": "execute_result"
    }
   ],
   "source": [
    "km.cluster_centers_"
   ]
  },
  {
   "cell_type": "markdown",
   "id": "f2c1f2d1",
   "metadata": {},
   "source": [
    "# 3 colums for plot visualizaation with hierarchical cluster"
   ]
  },
  {
   "cell_type": "code",
   "execution_count": 19,
   "id": "6f76a9c0",
   "metadata": {},
   "outputs": [
    {
     "data": {
      "image/png": "[encoded data removed]",
      "text/plain": [
       "<Figure size 432x288 with 1 Axes>"
      ]
     },
     "metadata": {
      "needs_background": "light"
     },
     "output_type": "display_data"
    }
   ],
   "source": [
    "import scipy.cluster.hierarchy as sch\n",
    "dendrogram = sch.dendrogram(sch.linkage(X,method='ward'))"
   ]
  },
  {
   "cell_type": "code",
   "execution_count": 20,
   "id": "fe05c3fb",
   "metadata": {},
   "outputs": [],
   "source": [
    "from sklearn.cluster import AgglomerativeClustering\n",
    "k1 = AgglomerativeClustering(n_clusters=2,affinity='euclidean',linkage='ward')\n",
    "h = k1.fit_predict(x)"
   ]
  },
  {
   "cell_type": "code",
   "execution_count": 21,
   "id": "682cbf67",
   "metadata": {},
   "outputs": [
    {
     "data": {
      "text/plain": [
       "<mpl_toolkits.mplot3d.art3d.Path3DCollection at 0x7f912842b9a0>"
      ]
     },
     "execution_count": 21,
     "metadata": {},
     "output_type": "execute_result"
    },
    {
     "data": {
      "image/png": "[encoded data removed]",
      "text/plain": [
       "<Figure size 432x288 with 1 Axes>"
      ]
     },
     "metadata": {
      "needs_background": "light"
     },
     "output_type": "display_data"
    }
   ],
   "source": [
    "ax = plt.axes(projection='3d')\n",
    "ax.scatter3D(X[h == 0,0], X[h == 0, 1],X[h == 0,2])\n",
    "ax.scatter3D(X[h == 1,0], X[h == 1, 1],X[h == 1,2])"
   ]
  },
  {
   "cell_type": "code",
   "execution_count": null,
   "id": "87edea9c",
   "metadata": {},
   "outputs": [],
   "source": []
  }
 ],
 "metadata": {
  "kernelspec": {
   "display_name": "Python 3 (ipykernel)",
   "language": "python",
   "name": "python3"
  },
  "language_info": {
   "codemirror_mode": {
    "name": "ipython",
    "version": 3
   },
   "file_extension": ".py",
   "mimetype": "text/x-python",
   "name": "python",
   "nbconvert_exporter": "python",
   "pygments_lexer": "ipython3",
   "version": "3.9.12"
  }
 },
 "nbformat": 4,
 "nbformat_minor": 5
}
