{
  "nbformat": 4,
  "nbformat_minor": 0,
  "metadata": {
    "colab": {
      "provenance": [],
      "gpuType": "T4",
      "authorship_tag": "ABX9TyP1OQggFqeAYSWv7acLtHDV",
      "include_colab_link": true
    },
    "kernelspec": {
      "name": "python3",
      "display_name": "Python 3"
    },
    "language_info": {
      "name": "python"
    },
    "accelerator": "GPU"
  },
  "cells": [
    {
      "cell_type": "markdown",
      "metadata": {
        "id": "view-in-github",
        "colab_type": "text"
      },
      "source": [
        "<a href=\"https://colab.research.google.com/github/KrishnaSChavan/MachineLearning/blob/main/truck_and_car_transfer_learning.ipynb\" target=\"_parent\"><img src=\"https://colab.research.google.com/assets/colab-badge.svg\" alt=\"Open In Colab\"/></a>"
      ]
    },
    {
      "cell_type": "code",
      "source": [
        "from google. colab import files\n",
        "files.upload()"
      ],
      "metadata": {
        "colab": {
          "base_uri": "https://localhost:8080/",
          "height": 84
        },
        "id": "B3eyqd0L-I-k",
        "outputId": "ddc670c2-ee4e-41bd-b4a4-f136c7d6038b"
      },
      "execution_count": 7,
      "outputs": [
        {
          "output_type": "display_data",
          "data": {
            "text/plain": [
              "<IPython.core.display.HTML object>"
            ],
            "text/html": [
              "\n",
              "     <input type=\"file\" id=\"files-bd879405-aa46-40ad-b9fe-92440a0ca7fa\" name=\"files[]\" multiple disabled\n",
              "        style=\"border:none\" />\n",
              "     <output id=\"result-bd879405-aa46-40ad-b9fe-92440a0ca7fa\">\n",
              "      Upload widget is only available when the cell has been executed in the\n",
              "      current browser session. Please rerun this cell to enable.\n",
              "      </output>\n",
              "      <script>// Copyright 2017 Google LLC\n",
              "//\n",
              "// Licensed under the Apache License, Version 2.0 (the \"License\");\n",
              "// you may not use this file except in compliance with the License.\n",
              "// You may obtain a copy of the License at\n",
              "//\n",
              "//      http://www.apache.org/licenses/LICENSE-2.0\n",
              "//\n",
              "// Unless required by applicable law or agreed to in writing, software\n",
              "// distributed under the License is distributed on an \"AS IS\" BASIS,\n",
              "// WITHOUT WARRANTIES OR CONDITIONS OF ANY KIND, either express or implied.\n",
              "// See the License for the specific language governing permissions and\n",
              "// limitations under the License.\n",
              "\n",
              "/**\n",
              " * @fileoverview Helpers for google.colab Python module.\n",
              " */\n",
              "(function(scope) {\n",
              "function span(text, styleAttributes = {}) {\n",
              "  const element = document.createElement('span');\n",
              "  element.textContent = text;\n",
              "  for (const key of Object.keys(styleAttributes)) {\n",
              "    element.style[key] = styleAttributes[key];\n",
              "  }\n",
              "  return element;\n",
              "}\n",
              "\n",
              "// Max number of bytes which will be uploaded at a time.\n",
              "const MAX_PAYLOAD_SIZE = 100 * 1024;\n",
              "\n",
              "function _uploadFiles(inputId, outputId) {\n",
              "  const steps = uploadFilesStep(inputId, outputId);\n",
              "  const outputElement = document.getElementById(outputId);\n",
              "  // Cache steps on the outputElement to make it available for the next call\n",
              "  // to uploadFilesContinue from Python.\n",
              "  outputElement.steps = steps;\n",
              "\n",
              "  return _uploadFilesContinue(outputId);\n",
              "}\n",
              "\n",
              "// This is roughly an async generator (not supported in the browser yet),\n",
              "// where there are multiple asynchronous steps and the Python side is going\n",
              "// to poll for completion of each step.\n",
              "// This uses a Promise to block the python side on completion of each step,\n",
              "// then passes the result of the previous step as the input to the next step.\n",
              "function _uploadFilesContinue(outputId) {\n",
              "  const outputElement = document.getElementById(outputId);\n",
              "  const steps = outputElement.steps;\n",
              "\n",
              "  const next = steps.next(outputElement.lastPromiseValue);\n",
              "  return Promise.resolve(next.value.promise).then((value) => {\n",
              "    // Cache the last promise value to make it available to the next\n",
              "    // step of the generator.\n",
              "    outputElement.lastPromiseValue = value;\n",
              "    return next.value.response;\n",
              "  });\n",
              "}\n",
              "\n",
              "/**\n",
              " * Generator function which is called between each async step of the upload\n",
              " * process.\n",
              " * @param {string} inputId Element ID of the input file picker element.\n",
              " * @param {string} outputId Element ID of the output display.\n",
              " * @return {!Iterable<!Object>} Iterable of next steps.\n",
              " */\n",
              "function* uploadFilesStep(inputId, outputId) {\n",
              "  const inputElement = document.getElementById(inputId);\n",
              "  inputElement.disabled = false;\n",
              "\n",
              "  const outputElement = document.getElementById(outputId);\n",
              "  outputElement.innerHTML = '';\n",
              "\n",
              "  const pickedPromise = new Promise((resolve) => {\n",
              "    inputElement.addEventListener('change', (e) => {\n",
              "      resolve(e.target.files);\n",
              "    });\n",
              "  });\n",
              "\n",
              "  const cancel = document.createElement('button');\n",
              "  inputElement.parentElement.appendChild(cancel);\n",
              "  cancel.textContent = 'Cancel upload';\n",
              "  const cancelPromise = new Promise((resolve) => {\n",
              "    cancel.onclick = () => {\n",
              "      resolve(null);\n",
              "    };\n",
              "  });\n",
              "\n",
              "  // Wait for the user to pick the files.\n",
              "  const files = yield {\n",
              "    promise: Promise.race([pickedPromise, cancelPromise]),\n",
              "    response: {\n",
              "      action: 'starting',\n",
              "    }\n",
              "  };\n",
              "\n",
              "  cancel.remove();\n",
              "\n",
              "  // Disable the input element since further picks are not allowed.\n",
              "  inputElement.disabled = true;\n",
              "\n",
              "  if (!files) {\n",
              "    return {\n",
              "      response: {\n",
              "        action: 'complete',\n",
              "      }\n",
              "    };\n",
              "  }\n",
              "\n",
              "  for (const file of files) {\n",
              "    const li = document.createElement('li');\n",
              "    li.append(span(file.name, {fontWeight: 'bold'}));\n",
              "    li.append(span(\n",
              "        `(${file.type || 'n/a'}) - ${file.size} bytes, ` +\n",
              "        `last modified: ${\n",
              "            file.lastModifiedDate ? file.lastModifiedDate.toLocaleDateString() :\n",
              "                                    'n/a'} - `));\n",
              "    const percent = span('0% done');\n",
              "    li.appendChild(percent);\n",
              "\n",
              "    outputElement.appendChild(li);\n",
              "\n",
              "    const fileDataPromise = new Promise((resolve) => {\n",
              "      const reader = new FileReader();\n",
              "      reader.onload = (e) => {\n",
              "        resolve(e.target.result);\n",
              "      };\n",
              "      reader.readAsArrayBuffer(file);\n",
              "    });\n",
              "    // Wait for the data to be ready.\n",
              "    let fileData = yield {\n",
              "      promise: fileDataPromise,\n",
              "      response: {\n",
              "        action: 'continue',\n",
              "      }\n",
              "    };\n",
              "\n",
              "    // Use a chunked sending to avoid message size limits. See b/62115660.\n",
              "    let position = 0;\n",
              "    do {\n",
              "      const length = Math.min(fileData.byteLength - position, MAX_PAYLOAD_SIZE);\n",
              "      const chunk = new Uint8Array(fileData, position, length);\n",
              "      position += length;\n",
              "\n",
              "      const base64 = btoa(String.fromCharCode.apply(null, chunk));\n",
              "      yield {\n",
              "        response: {\n",
              "          action: 'append',\n",
              "          file: file.name,\n",
              "          data: base64,\n",
              "        },\n",
              "      };\n",
              "\n",
              "      let percentDone = fileData.byteLength === 0 ?\n",
              "          100 :\n",
              "          Math.round((position / fileData.byteLength) * 100);\n",
              "      percent.textContent = `${percentDone}% done`;\n",
              "\n",
              "    } while (position < fileData.byteLength);\n",
              "  }\n",
              "\n",
              "  // All done.\n",
              "  yield {\n",
              "    response: {\n",
              "      action: 'complete',\n",
              "    }\n",
              "  };\n",
              "}\n",
              "\n",
              "scope.google = scope.google || {};\n",
              "scope.google.colab = scope.google.colab || {};\n",
              "scope.google.colab._files = {\n",
              "  _uploadFiles,\n",
              "  _uploadFilesContinue,\n",
              "};\n",
              "})(self);\n",
              "</script> "
            ]
          },
          "metadata": {}
        },
        {
          "output_type": "stream",
          "name": "stdout",
          "text": [
            "Saving kaggle.json to kaggle.json\n"
          ]
        },
        {
          "output_type": "execute_result",
          "data": {
            "text/plain": [
              "{'kaggle.json': b'{\"username\":\"krishnaschavan\",\"key\":\"6f1c6fc054fb8d6259f3b6411ea6191e\"}'}"
            ]
          },
          "metadata": {},
          "execution_count": 7
        }
      ]
    },
    {
      "cell_type": "code",
      "source": [
        "!mkdir ~/.kaggle"
      ],
      "metadata": {
        "colab": {
          "base_uri": "https://localhost:8080/"
        },
        "id": "-ZGgjcLA-mcc",
        "outputId": "71233e7a-e9bd-4ee8-d1e9-2ac9209f661d"
      },
      "execution_count": 8,
      "outputs": [
        {
          "output_type": "stream",
          "name": "stdout",
          "text": [
            "mkdir: cannot create directory ‘/root/.kaggle’: File exists\n"
          ]
        }
      ]
    },
    {
      "cell_type": "code",
      "source": [
        "!cp kaggle.json ~/.kaggle/"
      ],
      "metadata": {
        "id": "5evBY_us-1NK"
      },
      "execution_count": 9,
      "outputs": []
    },
    {
      "cell_type": "code",
      "source": [
        "!chmod 600 ~/.kaggle/kaggle.json"
      ],
      "metadata": {
        "id": "veL0PcU7-_RB"
      },
      "execution_count": 10,
      "outputs": []
    },
    {
      "cell_type": "code",
      "source": [
        "!kaggle datasets download -d ryanholbrook/car-or-truck"
      ],
      "metadata": {
        "colab": {
          "base_uri": "https://localhost:8080/"
        },
        "id": "U_9YVNfm_JNV",
        "outputId": "e8ae4ef5-e7a7-440e-d5a8-1609559c468d"
      },
      "execution_count": 11,
      "outputs": [
        {
          "output_type": "stream",
          "name": "stdout",
          "text": [
            "Downloading car-or-truck.zip to /content\n",
            " 84% 65.0M/77.7M [00:01<00:00, 80.1MB/s]\n",
            "100% 77.7M/77.7M [00:01<00:00, 67.4MB/s]\n"
          ]
        }
      ]
    },
    {
      "cell_type": "code",
      "source": [
        "import zipfile\n",
        "zip_r = zipfile.ZipFile('car-or-truck.zip')\n",
        "zip_r.extractall()\n",
        "zip_r.close()"
      ],
      "metadata": {
        "id": "6089cMQU_snU"
      },
      "execution_count": 12,
      "outputs": []
    },
    {
      "cell_type": "code",
      "source": [
        "import tensorflow as tf\n",
        "import pandas as pd\n",
        "import tensorflow_hub as hub\n",
        "import numpy as np\n",
        "import matplotlib.pyplot as plt\n",
        "import matplotlib.image as mpimg\n",
        "import random\n",
        "import os\n",
        "from tensorflow.keras.preprocessing.image import ImageDataGenerator\n",
        "from tensorflow.keras.layers import Dense,Flatten,Conv2D,MaxPool2D,Activation\n",
        "from tensorflow.keras.optimizers import Adam\n",
        "from tensorflow.keras import Sequential,layers\n",
        "import pathlib\n",
        "import datetime"
      ],
      "metadata": {
        "id": "ewUkFJ9TABqd"
      },
      "execution_count": 17,
      "outputs": []
    },
    {
      "cell_type": "code",
      "source": [
        "for dirpath,dirname,filename in os.walk('car_truck'):\n",
        "  print(f\"There are {dirname} directories and {len(filename)} images in '{dirpath}'.\")"
      ],
      "metadata": {
        "colab": {
          "base_uri": "https://localhost:8080/"
        },
        "id": "Ve2p6V61Ag0Y",
        "outputId": "ebd63056-4c42-424e-d498-291f64966b3c"
      },
      "execution_count": 15,
      "outputs": [
        {
          "output_type": "stream",
          "name": "stdout",
          "text": [
            "There are ['valid', 'train'] directories and 0 images in 'car_truck'.\n",
            "There are ['Car', 'Truck'] directories and 0 images in 'car_truck/valid'.\n",
            "There are [] directories and 2922 images in 'car_truck/valid/Car'.\n",
            "There are [] directories and 2129 images in 'car_truck/valid/Truck'.\n",
            "There are ['Car', 'Truck'] directories and 0 images in 'car_truck/train'.\n",
            "There are [] directories and 2961 images in 'car_truck/train/Car'.\n",
            "There are [] directories and 2156 images in 'car_truck/train/Truck'.\n"
          ]
        }
      ]
    },
    {
      "cell_type": "code",
      "source": [
        "IMAGE_SHAPE = (224,224)\n",
        "BATCH_SIZE = 32\n",
        "\n",
        "train_dir = \"/content/car_truck/train\"\n",
        "test_dir = \"/content/car_truck/valid\"\n",
        "\n",
        "train_datagen = ImageDataGenerator(rescale=(1/255.))\n",
        "test_datagen = ImageDataGenerator(rescale=(1/255.))\n",
        "\n",
        "train_data = train_datagen.flow_from_directory(\n",
        "    train_dir,\n",
        "    target_size = IMAGE_SHAPE,\n",
        "    batch_size = BATCH_SIZE,\n",
        "    class_mode = 'categorical'\n",
        ")\n",
        "\n",
        "test_data = test_datagen.flow_from_directory(\n",
        "    test_dir,\n",
        "    target_size = IMAGE_SHAPE,\n",
        "    batch_size = BATCH_SIZE,\n",
        "    class_mode = 'categorical'\n",
        ")"
      ],
      "metadata": {
        "colab": {
          "base_uri": "https://localhost:8080/"
        },
        "id": "dhR_qOuRAzya",
        "outputId": "330d3a47-d54e-4d3e-f63f-1ed4ea32e67e"
      },
      "execution_count": 51,
      "outputs": [
        {
          "output_type": "stream",
          "name": "stdout",
          "text": [
            "Found 5117 images belonging to 2 classes.\n",
            "Found 5051 images belonging to 2 classes.\n"
          ]
        }
      ]
    },
    {
      "cell_type": "code",
      "source": [
        "def callback_tb(dir_name,exp_name):\n",
        "    log_dir = dir_name+'/'+exp_name+datetime.datetime.now().strftime(\"%Y%m%d-%H%M%S\")\n",
        "    tb_callback = tf.keras.callbacks.TensorBoard(log_dir=log_dir)\n",
        "    return tb_callback"
      ],
      "metadata": {
        "id": "Zq6KwnS1B__v"
      },
      "execution_count": 19,
      "outputs": []
    },
    {
      "cell_type": "code",
      "source": [
        "effnet_url = 'https://tfhub.dev/tensorflow/efficientnet/b0/feature-vector/1'\n",
        "resnet_url = 'https://tfhub.dev/google/imagenet/resnet_v2_50/feature_vector/5'\n",
        "\n",
        "inception_v3 = \"https://tfhub.dev/google/tf2-preview/inception_v3/classification/4\""
      ],
      "metadata": {
        "id": "zgH7Q2YiC2c_"
      },
      "execution_count": 24,
      "outputs": []
    },
    {
      "cell_type": "code",
      "source": [
        "def create_model(model_url,cla=2):\n",
        "    feature_extraction = hub.KerasLayer(model_url, trainable=False, name=\"feature_extraction\", input_shape=IMAGE_SHAPE+(3,))\n",
        "\n",
        "    model = Sequential([\n",
        "        feature_extraction,\n",
        "        Dense(cla,activation = \"softmax\",name='op')\n",
        "    ])\n",
        "    \n",
        "    return model"
      ],
      "metadata": {
        "id": "7luWB--EF44m"
      },
      "execution_count": 53,
      "outputs": []
    },
    {
      "cell_type": "code",
      "source": [
        "effnet_model = create_model(effnet_url)\n",
        "resnet_model = create_model(resnet_url)\n",
        "\n",
        "inception_model = create_model(inception_v3)"
      ],
      "metadata": {
        "id": "rZ9eRFQyGsGY"
      },
      "execution_count": 23,
      "outputs": []
    },
    {
      "cell_type": "code",
      "source": [
        "inception_model.compile(\n",
        "    loss = \"binary_crossentropy\",\n",
        "    optimizer = Adam(),\n",
        "    metrics = ['accuracy']\n",
        ")\n",
        "\n",
        "resnet_model.compile(\n",
        "    loss = \"binary_crossentropy\",\n",
        "    optimizer = Adam(),\n",
        "    metrics = ['accuracy']\n",
        ")\n",
        "effnet_model.compile(\n",
        "    loss = \"binary_crossentropy\",\n",
        "    optimizer = Adam(),\n",
        "    metrics = ['accuracy']\n",
        ")"
      ],
      "metadata": {
        "id": "Uea_GrhHHER6"
      },
      "execution_count": 54,
      "outputs": []
    },
    {
      "cell_type": "code",
      "source": [
        "resnet_history = resnet_model.fit(\n",
        "    train_data,\n",
        "    epochs = 6,\n",
        "    steps_per_epoch= len(train_data),\n",
        "    validation_data=test_data,\n",
        "    validation_steps = len(test_data),\n",
        "    callbacks=[callback_tb(dir_name='tensorflow_hub',exp_name='resnet')]\n",
        ")"
      ],
      "metadata": {
        "colab": {
          "base_uri": "https://localhost:8080/"
        },
        "id": "lC4Av90xIRuF",
        "outputId": "a0126641-8d95-47d3-d356-a6c09fbed9d8"
      },
      "execution_count": 55,
      "outputs": [
        {
          "output_type": "stream",
          "name": "stdout",
          "text": [
            "Epoch 1/6\n",
            "160/160 [==============================] - 31s 185ms/step - loss: 1.0276 - accuracy: 0.5000 - val_loss: 0.7625 - val_accuracy: 0.5000\n",
            "Epoch 2/6\n",
            "160/160 [==============================] - 29s 181ms/step - loss: 0.7399 - accuracy: 0.5000 - val_loss: 0.7187 - val_accuracy: 0.5000\n",
            "Epoch 3/6\n",
            "160/160 [==============================] - 29s 180ms/step - loss: 0.7135 - accuracy: 0.5000 - val_loss: 0.7077 - val_accuracy: 0.5000\n",
            "Epoch 4/6\n",
            "160/160 [==============================] - 29s 179ms/step - loss: 0.7047 - accuracy: 0.5000 - val_loss: 0.7023 - val_accuracy: 0.5000\n",
            "Epoch 5/6\n",
            "160/160 [==============================] - 29s 180ms/step - loss: 0.7008 - accuracy: 0.5000 - val_loss: 0.7000 - val_accuracy: 0.5000\n",
            "Epoch 6/6\n",
            "160/160 [==============================] - 29s 180ms/step - loss: 0.6981 - accuracy: 0.5000 - val_loss: 0.6978 - val_accuracy: 0.5000\n"
          ]
        }
      ]
    },
    {
      "cell_type": "code",
      "source": [
        "pd.DataFrame(resnet_history.history).plot()"
      ],
      "metadata": {
        "colab": {
          "base_uri": "https://localhost:8080/",
          "height": 445
        },
        "id": "MInZY-s5Mkon",
        "outputId": "c526dff6-6ccf-422c-dd9e-abd33910ab47"
      },
      "execution_count": 56,
      "outputs": [
        {
          "output_type": "execute_result",
          "data": {
            "text/plain": [
              "<Axes: >"
            ]
          },
          "metadata": {},
          "execution_count": 56
        },
        {
          "output_type": "display_data",
          "data": {
            "text/plain": [
              "<Figure size 640x480 with 1 Axes>"
            ],
            "image/png": "[encoded data removed]"
          },
          "metadata": {}
        }
      ]
    },
    {
      "cell_type": "code",
      "source": [
        "effnet_history = effnet_model.fit(\n",
        "    train_data,\n",
        "    epochs = 5,\n",
        "    steps_per_epoch= len(train_data),\n",
        "    validation_data=test_data,\n",
        "    validation_steps = len(test_data),\n",
        "    callbacks=[callback_tb(dir_name='tensorflow_hub',exp_name='effnet')]\n",
        ")"
      ],
      "metadata": {
        "colab": {
          "base_uri": "https://localhost:8080/"
        },
        "id": "MrS06TqLJsG4",
        "outputId": "90250745-efca-4724-a845-e813e098cbfb"
      },
      "execution_count": null,
      "outputs": [
        {
          "output_type": "stream",
          "name": "stdout",
          "text": [
            "Epoch 1/5\n",
            "160/160 [==============================] - 34s 146ms/step - loss: 0.3534 - accuracy: 0.8591 - val_loss: 0.2502 - val_accuracy: 0.9042\n",
            "Epoch 2/5\n",
            "160/160 [==============================] - 20s 128ms/step - loss: 0.2289 - accuracy: 0.9146 - val_loss: 0.2149 - val_accuracy: 0.9172\n",
            "Epoch 3/5\n",
            "160/160 [==============================] - 20s 128ms/step - loss: 0.2011 - accuracy: 0.9242 - val_loss: 0.2002 - val_accuracy: 0.9228\n",
            "Epoch 4/5\n",
            "160/160 [==============================] - ETA: 0s - loss: 0.1852 - accuracy: 0.9310"
          ]
        }
      ]
    },
    {
      "cell_type": "code",
      "source": [
        "pd.DataFrame(effnet_history.history).plot()"
      ],
      "metadata": {
        "id": "lP6RJ3EaMyTU"
      },
      "execution_count": null,
      "outputs": []
    },
    {
      "cell_type": "code",
      "source": [
        "inception_history = inception_model.fit(\n",
        "    train_data,\n",
        "    epochs = 5,\n",
        "    steps_per_epoch= len(train_data),\n",
        "    validation_data=test_data,\n",
        "    validation_steps = len(test_data),\n",
        "    callbacks=[callback_tb(dir_name='tensorflow_hub',exp_name='inceptionV3')]\n",
        ")"
      ],
      "metadata": {
        "id": "KXZN06O9Kjpq"
      },
      "execution_count": null,
      "outputs": []
    },
    {
      "cell_type": "code",
      "source": [
        "pd.DataFrame(inception_history.history).plot()"
      ],
      "metadata": {
        "id": "7hozyAb-MzPC"
      },
      "execution_count": null,
      "outputs": []
    },
    {
      "cell_type": "code",
      "source": [
        "!tensorboard dev upload --logdir /content/tensorflow_hub/ \\\n",
        "--name \"comp\" \\\n",
        "--description \"Compair\" \\\n",
        "--one_shot"
      ],
      "metadata": {
        "id": "6PswTxlLOX_5"
      },
      "execution_count": null,
      "outputs": []
    },
    {
      "cell_type": "code",
      "source": [],
      "metadata": {
        "id": "z1uBanW1Og1B"
      },
      "execution_count": null,
      "outputs": []
    }
  ]
}