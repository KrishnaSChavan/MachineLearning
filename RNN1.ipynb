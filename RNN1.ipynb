{
  "nbformat": 4,
  "nbformat_minor": 0,
  "metadata": {
    "colab": {
      "provenance": [],
      "gpuType": "T4",
      "authorship_tag": "ABX9TyMZlRGvNKe5hmy4ZJrq0wfo",
      "include_colab_link": true
    },
    "kernelspec": {
      "name": "python3",
      "display_name": "Python 3"
    },
    "language_info": {
      "name": "python"
    },
    "accelerator": "GPU"
  },
  "cells": [
    {
      "cell_type": "markdown",
      "metadata": {
        "id": "view-in-github",
        "colab_type": "text"
      },
      "source": [
        "<a href=\"https://colab.research.google.com/github/KrishnaSChavan/MachineLearning/blob/main/RNN1.ipynb\" target=\"_parent\"><img src=\"https://colab.research.google.com/assets/colab-badge.svg\" alt=\"Open In Colab\"/></a>"
      ]
    },
    {
      "cell_type": "markdown",
      "source": [
        "# start"
      ],
      "metadata": {
        "id": "0-tQ3WDsP8PZ"
      }
    },
    {
      "cell_type": "code",
      "source": [
        "!wget https://github.com/LinkedInLearning/recurrent-neural-networks-2478142/archive/refs/heads/main.zip"
      ],
      "metadata": {
        "colab": {
          "base_uri": "https://localhost:8080/"
        },
        "id": "3rFw5ugqt0SG",
        "outputId": "f52d7956-100d-483a-aad7-522a101fc7d5"
      },
      "execution_count": 1,
      "outputs": [
        {
          "output_type": "stream",
          "name": "stdout",
          "text": [
            "--2023-06-27 13:46:52--  https://github.com/LinkedInLearning/recurrent-neural-networks-2478142/archive/refs/heads/main.zip\n",
            "Resolving github.com (github.com)... 140.82.113.3\n",
            "Connecting to github.com (github.com)|140.82.113.3|:443... connected.\n",
            "HTTP request sent, awaiting response... 302 Found\n",
            "Location: https://codeload.github.com/LinkedInLearning/recurrent-neural-networks-2478142/zip/refs/heads/main [following]\n",
            "--2023-06-27 13:46:52--  https://codeload.github.com/LinkedInLearning/recurrent-neural-networks-2478142/zip/refs/heads/main\n",
            "Resolving codeload.github.com (codeload.github.com)... 140.82.112.9\n",
            "Connecting to codeload.github.com (codeload.github.com)|140.82.112.9|:443... connected.\n",
            "HTTP request sent, awaiting response... 200 OK\n",
            "Length: unspecified [application/zip]\n",
            "Saving to: ‘main.zip’\n",
            "\n",
            "main.zip                [   <=>              ]  66.69M  20.4MB/s    in 3.3s    \n",
            "\n",
            "2023-06-27 13:46:55 (20.4 MB/s) - ‘main.zip’ saved [69934022]\n",
            "\n"
          ]
        }
      ]
    },
    {
      "cell_type": "code",
      "source": [
        "import pandas as pd\n",
        "import numpy as np\n",
        "import tensorflow as tf\n",
        "from matplotlib import pyplot as plt\n",
        "from sklearn.preprocessing import StandardScaler"
      ],
      "metadata": {
        "id": "M63_j_36p9TQ"
      },
      "execution_count": 2,
      "outputs": []
    },
    {
      "cell_type": "code",
      "source": [
        "import zipfile\n",
        "\n",
        "zip_ref = zipfile.ZipFile(\"/content/main.zip\", \"r\")\n",
        "zip_ref.extractall()\n",
        "zip_ref.close()"
      ],
      "metadata": {
        "id": "BRGRGxTMrAjo"
      },
      "execution_count": 3,
      "outputs": []
    },
    {
      "cell_type": "code",
      "source": [
        "df = pd.read_csv('/content/recurrent-neural-networks-2478142-main/Exercise Files/FB-stock-prices.csv')"
      ],
      "metadata": {
        "id": "OvJmPJ6audaz"
      },
      "execution_count": 4,
      "outputs": []
    },
    {
      "cell_type": "code",
      "source": [
        "df.head()"
      ],
      "metadata": {
        "colab": {
          "base_uri": "https://localhost:8080/",
          "height": 201
        },
        "id": "SYkQo1xMu9nB",
        "outputId": "452a11f9-8304-4a36-97b5-c8bde0f5938e"
      },
      "execution_count": 5,
      "outputs": [
        {
          "output_type": "execute_result",
          "data": {
            "text/plain": [
              "       Date  Price\n",
              "0  1/4/2021    269\n",
              "1  1/5/2021    271\n",
              "2  1/6/2021    263\n",
              "3  1/7/2021    269\n",
              "4  1/8/2021    268"
            ],
            "text/html": [
              "\n",
              "  <div id=\"df-54e748b2-915e-43e2-9420-33dc6db4682e\">\n",
              "    <div class=\"colab-df-container\">\n",
              "      <div>\n",
              "<style scoped>\n",
              "    .dataframe tbody tr th:only-of-type {\n",
              "        vertical-align: middle;\n",
              "    }\n",
              "\n",
              "    .dataframe tbody tr th {\n",
              "        vertical-align: top;\n",
              "    }\n",
              "\n",
              "    .dataframe thead th {\n",
              "        text-align: right;\n",
              "    }\n",
              "</style>\n",
              "<table border=\"1\" class=\"dataframe\">\n",
              "  <thead>\n",
              "    <tr style=\"text-align: right;\">\n",
              "      <th></th>\n",
              "      <th>Date</th>\n",
              "      <th>Price</th>\n",
              "    </tr>\n",
              "  </thead>\n",
              "  <tbody>\n",
              "    <tr>\n",
              "      <th>0</th>\n",
              "      <td>1/4/2021</td>\n",
              "      <td>269</td>\n",
              "    </tr>\n",
              "    <tr>\n",
              "      <th>1</th>\n",
              "      <td>1/5/2021</td>\n",
              "      <td>271</td>\n",
              "    </tr>\n",
              "    <tr>\n",
              "      <th>2</th>\n",
              "      <td>1/6/2021</td>\n",
              "      <td>263</td>\n",
              "    </tr>\n",
              "    <tr>\n",
              "      <th>3</th>\n",
              "      <td>1/7/2021</td>\n",
              "      <td>269</td>\n",
              "    </tr>\n",
              "    <tr>\n",
              "      <th>4</th>\n",
              "      <td>1/8/2021</td>\n",
              "      <td>268</td>\n",
              "    </tr>\n",
              "  </tbody>\n",
              "</table>\n",
              "</div>\n",
              "      <button class=\"colab-df-convert\" onclick=\"convertToInteractive('df-54e748b2-915e-43e2-9420-33dc6db4682e')\"\n",
              "              title=\"Convert this dataframe to an interactive table.\"\n",
              "              style=\"display:none;\">\n",
              "        \n",
              "  <svg xmlns=\"http://www.w3.org/2000/svg\" height=\"24px\"viewBox=\"0 0 24 24\"\n",
              "       width=\"24px\">\n",
              "    <path d=\"M0 0h24v24H0V0z\" fill=\"none\"/>\n",
              "    <path d=\"M18.56 5.44l.94 2.06.94-2.06 2.06-.94-2.06-.94-.94-2.06-.94 2.06-2.06.94zm-11 1L8.5 8.5l.94-2.06 2.06-.94-2.06-.94L8.5 2.5l-.94 2.06-2.06.94zm10 10l.94 2.06.94-2.06 2.06-.94-2.06-.94-.94-2.06-.94 2.06-2.06.94z\"/><path d=\"M17.41 7.96l-1.37-1.37c-.4-.4-.92-.59-1.43-.59-.52 0-1.04.2-1.43.59L10.3 9.45l-7.72 7.72c-.78.78-.78 2.05 0 2.83L4 21.41c.39.39.9.59 1.41.59.51 0 1.02-.2 1.41-.59l7.78-7.78 2.81-2.81c.8-.78.8-2.07 0-2.86zM5.41 20L4 18.59l7.72-7.72 1.47 1.35L5.41 20z\"/>\n",
              "  </svg>\n",
              "      </button>\n",
              "      \n",
              "  <style>\n",
              "    .colab-df-container {\n",
              "      display:flex;\n",
              "      flex-wrap:wrap;\n",
              "      gap: 12px;\n",
              "    }\n",
              "\n",
              "    .colab-df-convert {\n",
              "      background-color: #E8F0FE;\n",
              "      border: none;\n",
              "      border-radius: 50%;\n",
              "      cursor: pointer;\n",
              "      display: none;\n",
              "      fill: #1967D2;\n",
              "      height: 32px;\n",
              "      padding: 0 0 0 0;\n",
              "      width: 32px;\n",
              "    }\n",
              "\n",
              "    .colab-df-convert:hover {\n",
              "      background-color: #E2EBFA;\n",
              "      box-shadow: 0px 1px 2px rgba(60, 64, 67, 0.3), 0px 1px 3px 1px rgba(60, 64, 67, 0.15);\n",
              "      fill: #174EA6;\n",
              "    }\n",
              "\n",
              "    [theme=dark] .colab-df-convert {\n",
              "      background-color: #3B4455;\n",
              "      fill: #D2E3FC;\n",
              "    }\n",
              "\n",
              "    [theme=dark] .colab-df-convert:hover {\n",
              "      background-color: #434B5C;\n",
              "      box-shadow: 0px 1px 3px 1px rgba(0, 0, 0, 0.15);\n",
              "      filter: drop-shadow(0px 1px 2px rgba(0, 0, 0, 0.3));\n",
              "      fill: #FFFFFF;\n",
              "    }\n",
              "  </style>\n",
              "\n",
              "      <script>\n",
              "        const buttonEl =\n",
              "          document.querySelector('#df-54e748b2-915e-43e2-9420-33dc6db4682e button.colab-df-convert');\n",
              "        buttonEl.style.display =\n",
              "          google.colab.kernel.accessAllowed ? 'block' : 'none';\n",
              "\n",
              "        async function convertToInteractive(key) {\n",
              "          const element = document.querySelector('#df-54e748b2-915e-43e2-9420-33dc6db4682e');\n",
              "          const dataTable =\n",
              "            await google.colab.kernel.invokeFunction('convertToInteractive',\n",
              "                                                     [key], {});\n",
              "          if (!dataTable) return;\n",
              "\n",
              "          const docLinkHtml = 'Like what you see? Visit the ' +\n",
              "            '<a target=\"_blank\" href=https://colab.research.google.com/notebooks/data_table.ipynb>data table notebook</a>'\n",
              "            + ' to learn more about interactive tables.';\n",
              "          element.innerHTML = '';\n",
              "          dataTable['output_type'] = 'display_data';\n",
              "          await google.colab.output.renderOutput(dataTable, element);\n",
              "          const docLink = document.createElement('div');\n",
              "          docLink.innerHTML = docLinkHtml;\n",
              "          element.appendChild(docLink);\n",
              "        }\n",
              "      </script>\n",
              "    </div>\n",
              "  </div>\n",
              "  "
            ]
          },
          "metadata": {},
          "execution_count": 5
        }
      ]
    },
    {
      "cell_type": "code",
      "source": [
        "plt.plot(df['Price'])"
      ],
      "metadata": {
        "colab": {
          "base_uri": "https://localhost:8080/",
          "height": 445
        },
        "id": "EBAw1l_WvOzu",
        "outputId": "b59fc326-9a43-47b9-c9f1-45510ae8c3a9"
      },
      "execution_count": 6,
      "outputs": [
        {
          "output_type": "execute_result",
          "data": {
            "text/plain": [
              "[<matplotlib.lines.Line2D at 0x7f349a36b580>]"
            ]
          },
          "metadata": {},
          "execution_count": 6
        },
        {
          "output_type": "display_data",
          "data": {
            "text/plain": [
              "<Figure size 640x480 with 1 Axes>"
            ],
            "image/png": "[encoded data removed]"
          },
          "metadata": {}
        }
      ]
    },
    {
      "cell_type": "code",
      "source": [
        "scale =StandardScaler()"
      ],
      "metadata": {
        "id": "CPFFW9ZAvgNH"
      },
      "execution_count": 7,
      "outputs": []
    },
    {
      "cell_type": "code",
      "source": [
        "scaled_prices = scale.fit_transform(df[[\"Price\"]].values)"
      ],
      "metadata": {
        "id": "kKrNr49gQy0h"
      },
      "execution_count": 8,
      "outputs": []
    },
    {
      "cell_type": "code",
      "source": [
        "total_size = len(scaled_prices)\n",
        "\n",
        "#Test dataset size\n",
        "test_size = 50\n",
        "\n",
        "#Training dataset size\n",
        "train_size = total_size - test_size\n",
        "print(train_size, test_size)\n",
        "\n",
        "training_prices = scaled_prices[0:train_size,:]\n",
        "test_prices = scaled_prices[train_size:,:]\n",
        "\n",
        "print(training_prices.shape, test_prices.shape)"
      ],
      "metadata": {
        "colab": {
          "base_uri": "https://localhost:8080/"
        },
        "id": "TeQj6jm8ROSN",
        "outputId": "656a4557-8aba-41c2-bb58-5064f46f04ac"
      },
      "execution_count": 9,
      "outputs": [
        {
          "output_type": "stream",
          "name": "stdout",
          "text": [
            "201 50\n",
            "(201, 1) (50, 1)\n"
          ]
        }
      ]
    },
    {
      "cell_type": "code",
      "source": [
        "def rnn(data,lookback=1):\n",
        "\n",
        "    data_x,data_y = [],[]\n",
        "\n",
        "    for i in range(len(data) - lookback - 1):\n",
        "        a = data[i:(i + lookback),0]\n",
        "        data_x.append(a)\n",
        "        data_y.append(data[i + lookback,0])\n",
        "    return np.array(data_x), np.array(data_y)"
      ],
      "metadata": {
        "id": "JsrqLdNBRlib"
      },
      "execution_count": 10,
      "outputs": []
    },
    {
      "cell_type": "code",
      "source": [
        "lookback = 25\n",
        "train_req_x, train_req_y = rnn(training_prices, lookback=25)\n",
        "train_req_x = np.reshape (train_req_x,(train_req_x.shape[0],1,train_req_x.shape[1]))"
      ],
      "metadata": {
        "id": "Dd3Ldnd3TS_X"
      },
      "execution_count": 11,
      "outputs": []
    },
    {
      "cell_type": "code",
      "source": [
        "train_req_x.shape, train_req_y.shape"
      ],
      "metadata": {
        "colab": {
          "base_uri": "https://localhost:8080/"
        },
        "id": "uNR2MhceldRP",
        "outputId": "5b80d23c-d89a-42d9-aa04-664248c21aca"
      },
      "execution_count": 12,
      "outputs": [
        {
          "output_type": "execute_result",
          "data": {
            "text/plain": [
              "((175, 1, 25), (175,))"
            ]
          },
          "metadata": {},
          "execution_count": 12
        }
      ]
    },
    {
      "cell_type": "code",
      "source": [
        "scaled_prices.shape"
      ],
      "metadata": {
        "colab": {
          "base_uri": "https://localhost:8080/"
        },
        "id": "v__26uQKlfMX",
        "outputId": "82a6651a-c941-4c4d-e446-4c17737e9915"
      },
      "execution_count": 13,
      "outputs": [
        {
          "output_type": "execute_result",
          "data": {
            "text/plain": [
              "(251, 1)"
            ]
          },
          "metadata": {},
          "execution_count": 13
        }
      ]
    },
    {
      "cell_type": "code",
      "source": [
        "len(training_prices)"
      ],
      "metadata": {
        "colab": {
          "base_uri": "https://localhost:8080/"
        },
        "id": "uXLPBuY1mMmA",
        "outputId": "86f4a91c-8db7-4a7e-8103-0c6a6b2702b8"
      },
      "execution_count": 14,
      "outputs": [
        {
          "output_type": "execute_result",
          "data": {
            "text/plain": [
              "201"
            ]
          },
          "metadata": {},
          "execution_count": 14
        }
      ]
    },
    {
      "cell_type": "code",
      "source": [
        "training_prices[1:(1+25),0]"
      ],
      "metadata": {
        "colab": {
          "base_uri": "https://localhost:8080/"
        },
        "id": "MV5bT54DmtNn",
        "outputId": "698fd773-892e-4fb7-f1a9-22ce3ab7851a"
      },
      "execution_count": 15,
      "outputs": [
        {
          "output_type": "execute_result",
          "data": {
            "text/plain": [
              "array([-1.4393189 , -1.66896946, -1.49673154, -1.52543786, -1.84120738,\n",
              "       -2.01344531, -1.98473899, -2.15697691, -2.01344531, -1.7263821 ,\n",
              "       -1.55414418, -1.38190626, -1.32449362, -1.23837465, -1.12354937,\n",
              "       -1.41061258, -1.61155682, -1.81250106, -1.69767578, -1.55414418,\n",
              "       -1.55414418, -1.5828505 , -1.52543786, -1.55414418, -1.49673154])"
            ]
          },
          "metadata": {},
          "execution_count": 15
        }
      ]
    },
    {
      "cell_type": "code",
      "source": [
        "q = []"
      ],
      "metadata": {
        "id": "tBs1khyWniB-"
      },
      "execution_count": 16,
      "outputs": []
    },
    {
      "cell_type": "code",
      "source": [
        "q.append(training_prices[0:(0+25),0])"
      ],
      "metadata": {
        "id": "P0xigJY9oMWq"
      },
      "execution_count": 17,
      "outputs": []
    },
    {
      "cell_type": "code",
      "source": [
        "np.array(q)"
      ],
      "metadata": {
        "colab": {
          "base_uri": "https://localhost:8080/"
        },
        "id": "Hn8L_k5roP2k",
        "outputId": "6e2461ca-df87-4526-8273-831c543127fd"
      },
      "execution_count": 18,
      "outputs": [
        {
          "output_type": "execute_result",
          "data": {
            "text/plain": [
              "array([[-1.49673154, -1.4393189 , -1.66896946, -1.49673154, -1.52543786,\n",
              "        -1.84120738, -2.01344531, -1.98473899, -2.15697691, -2.01344531,\n",
              "        -1.7263821 , -1.55414418, -1.38190626, -1.32449362, -1.23837465,\n",
              "        -1.12354937, -1.41061258, -1.61155682, -1.81250106, -1.69767578,\n",
              "        -1.55414418, -1.55414418, -1.5828505 , -1.52543786, -1.55414418]])"
            ]
          },
          "metadata": {},
          "execution_count": 18
        }
      ]
    },
    {
      "cell_type": "code",
      "source": [
        "range(len(training_prices-26))"
      ],
      "metadata": {
        "colab": {
          "base_uri": "https://localhost:8080/"
        },
        "id": "uHdJo0ZWoSVs",
        "outputId": "933eaaea-2ba0-42f4-ad5d-c11daf0ea5fc"
      },
      "execution_count": 19,
      "outputs": [
        {
          "output_type": "execute_result",
          "data": {
            "text/plain": [
              "range(0, 201)"
            ]
          },
          "metadata": {},
          "execution_count": 19
        }
      ]
    },
    {
      "cell_type": "code",
      "source": [
        "train_req_x"
      ],
      "metadata": {
        "colab": {
          "base_uri": "https://localhost:8080/"
        },
        "id": "oeCf1YBLolc4",
        "outputId": "26569a00-7ff0-4842-94cd-724b9b6bc775"
      },
      "execution_count": 20,
      "outputs": [
        {
          "output_type": "execute_result",
          "data": {
            "text/plain": [
              "array([[[-1.49673154, -1.4393189 , -1.66896946, ..., -1.5828505 ,\n",
              "         -1.52543786, -1.55414418]],\n",
              "\n",
              "       [[-1.4393189 , -1.66896946, -1.49673154, ..., -1.52543786,\n",
              "         -1.55414418, -1.49673154]],\n",
              "\n",
              "       [[-1.66896946, -1.49673154, -1.52543786, ..., -1.55414418,\n",
              "         -1.49673154, -1.41061258]],\n",
              "\n",
              "       ...,\n",
              "\n",
              "       [[ 1.63225739,  1.66096372,  1.60355107, ...,  0.11082241,\n",
              "          0.08211609,  0.11082241]],\n",
              "\n",
              "       [[ 1.66096372,  1.60355107,  1.60355107, ...,  0.08211609,\n",
              "          0.11082241,  0.22564769]],\n",
              "\n",
              "       [[ 1.60355107,  1.60355107,  1.51743211, ...,  0.11082241,\n",
              "          0.22564769,  0.11082241]]])"
            ]
          },
          "metadata": {},
          "execution_count": 20
        }
      ]
    },
    {
      "cell_type": "code",
      "source": [
        "from tensorflow.keras.models import Sequential\n",
        "from tensorflow.keras.layers import SimpleRNN, Dense"
      ],
      "metadata": {
        "id": "fvS4wOLYotyD"
      },
      "execution_count": 21,
      "outputs": []
    },
    {
      "cell_type": "code",
      "source": [
        "model = Sequential()\n",
        "model.add(SimpleRNN(32,input_shape=(1,lookback)))\n",
        "model.add(Dense(1))\n",
        "\n",
        "model.compile(\n",
        "    loss = 'mean_squared_error',\n",
        "    optimizer = 'adam',\n",
        "    metrics = ['mse']\n",
        ")"
      ],
      "metadata": {
        "id": "-wLaFhLGpqiy"
      },
      "execution_count": 22,
      "outputs": []
    },
    {
      "cell_type": "code",
      "source": [
        "model.summary()"
      ],
      "metadata": {
        "colab": {
          "base_uri": "https://localhost:8080/"
        },
        "id": "o_yHisYHsOh3",
        "outputId": "c6e82828-38ce-4b27-9c7c-649a0fd0ff5a"
      },
      "execution_count": 23,
      "outputs": [
        {
          "output_type": "stream",
          "name": "stdout",
          "text": [
            "Model: \"sequential\"\n",
            "_________________________________________________________________\n",
            " Layer (type)                Output Shape              Param #   \n",
            "=================================================================\n",
            " simple_rnn (SimpleRNN)      (None, 32)                1856      \n",
            "                                                                 \n",
            " dense (Dense)               (None, 1)                 33        \n",
            "                                                                 \n",
            "=================================================================\n",
            "Total params: 1,889\n",
            "Trainable params: 1,889\n",
            "Non-trainable params: 0\n",
            "_________________________________________________________________\n"
          ]
        }
      ]
    },
    {
      "cell_type": "code",
      "source": [
        "history = model.fit(train_req_x,\n",
        "          train_req_y,\n",
        "          epochs = 10)"
      ],
      "metadata": {
        "colab": {
          "base_uri": "https://localhost:8080/"
        },
        "id": "FKSLf7PZsQ8p",
        "outputId": "cfc10993-63f1-46af-9254-df158c3f63eb"
      },
      "execution_count": 24,
      "outputs": [
        {
          "output_type": "stream",
          "name": "stdout",
          "text": [
            "Epoch 1/10\n",
            "6/6 [==============================] - 6s 6ms/step - loss: 0.5176 - mse: 0.5176\n",
            "Epoch 2/10\n",
            "6/6 [==============================] - 0s 4ms/step - loss: 0.2777 - mse: 0.2777\n",
            "Epoch 3/10\n",
            "6/6 [==============================] - 0s 4ms/step - loss: 0.2470 - mse: 0.2470\n",
            "Epoch 4/10\n",
            "6/6 [==============================] - 0s 4ms/step - loss: 0.1739 - mse: 0.1739\n",
            "Epoch 5/10\n",
            "6/6 [==============================] - 0s 5ms/step - loss: 0.1551 - mse: 0.1551\n",
            "Epoch 6/10\n",
            "6/6 [==============================] - 0s 5ms/step - loss: 0.1218 - mse: 0.1218\n",
            "Epoch 7/10\n",
            "6/6 [==============================] - 0s 6ms/step - loss: 0.1063 - mse: 0.1063\n",
            "Epoch 8/10\n",
            "6/6 [==============================] - 0s 4ms/step - loss: 0.0939 - mse: 0.0939\n",
            "Epoch 9/10\n",
            "6/6 [==============================] - 0s 4ms/step - loss: 0.0850 - mse: 0.0850\n",
            "Epoch 10/10\n",
            "6/6 [==============================] - 0s 4ms/step - loss: 0.0789 - mse: 0.0789\n"
          ]
        }
      ]
    },
    {
      "cell_type": "code",
      "source": [
        "test_x,test_y = rnn(test_prices,lookback=25)"
      ],
      "metadata": {
        "id": "S-iURbV9s10L"
      },
      "execution_count": 25,
      "outputs": []
    },
    {
      "cell_type": "code",
      "source": [
        "test_x.shape,test_y.shape"
      ],
      "metadata": {
        "colab": {
          "base_uri": "https://localhost:8080/"
        },
        "id": "quwhL_n2tUU4",
        "outputId": "a1a121db-83d5-454b-b2e8-95d814a05c4a"
      },
      "execution_count": 26,
      "outputs": [
        {
          "output_type": "execute_result",
          "data": {
            "text/plain": [
              "((24, 25), (24,))"
            ]
          },
          "metadata": {},
          "execution_count": 26
        }
      ]
    },
    {
      "cell_type": "code",
      "source": [
        "test_x = np.reshape(test_x,(test_x.shape[0],1,test_x.shape[1]))"
      ],
      "metadata": {
        "id": "tll6I0YltYN6"
      },
      "execution_count": 27,
      "outputs": []
    },
    {
      "cell_type": "code",
      "source": [
        "test_x.shape"
      ],
      "metadata": {
        "colab": {
          "base_uri": "https://localhost:8080/"
        },
        "id": "rQb0t3i5tyyv",
        "outputId": "8e2aa28b-92ab-4e13-dfd8-63a7f9726ca0"
      },
      "execution_count": 28,
      "outputs": [
        {
          "output_type": "execute_result",
          "data": {
            "text/plain": [
              "(24, 1, 25)"
            ]
          },
          "metadata": {},
          "execution_count": 28
        }
      ]
    },
    {
      "cell_type": "code",
      "source": [
        "model.evaluate(test_x,test_y)"
      ],
      "metadata": {
        "colab": {
          "base_uri": "https://localhost:8080/"
        },
        "id": "UzWTXF0wt7XZ",
        "outputId": "e06aafa2-750f-46d7-df04-8abbc5206310"
      },
      "execution_count": 29,
      "outputs": [
        {
          "output_type": "stream",
          "name": "stdout",
          "text": [
            "1/1 [==============================] - 0s 195ms/step - loss: 0.1369 - mse: 0.1369\n"
          ]
        },
        {
          "output_type": "execute_result",
          "data": {
            "text/plain": [
              "[0.13691537082195282, 0.13691537082195282]"
            ]
          },
          "metadata": {},
          "execution_count": 29
        }
      ]
    },
    {
      "cell_type": "code",
      "source": [
        "pd.DataFrame(history.history).plot()"
      ],
      "metadata": {
        "colab": {
          "base_uri": "https://localhost:8080/",
          "height": 445
        },
        "id": "PCtQfk0cuF-4",
        "outputId": "3f2c653e-ecbd-4a74-e17b-21e5dd30141e"
      },
      "execution_count": 30,
      "outputs": [
        {
          "output_type": "execute_result",
          "data": {
            "text/plain": [
              "<Axes: >"
            ]
          },
          "metadata": {},
          "execution_count": 30
        },
        {
          "output_type": "display_data",
          "data": {
            "text/plain": [
              "<Figure size 640x480 with 1 Axes>"
            ],
            "image/png": "[encoded data removed]"
          },
          "metadata": {}
        }
      ]
    },
    {
      "cell_type": "code",
      "source": [
        "plt.plot(scale.inverse_transform(model.predict(test_x)))"
      ],
      "metadata": {
        "colab": {
          "base_uri": "https://localhost:8080/",
          "height": 462
        },
        "id": "JUm6QiNtudGx",
        "outputId": "cedbbe6c-f8f7-431a-bac6-47760ed24ec0"
      },
      "execution_count": 35,
      "outputs": [
        {
          "output_type": "stream",
          "name": "stdout",
          "text": [
            "1/1 [==============================] - 0s 19ms/step\n"
          ]
        },
        {
          "output_type": "execute_result",
          "data": {
            "text/plain": [
              "[<matplotlib.lines.Line2D at 0x7f3498129ed0>]"
            ]
          },
          "metadata": {},
          "execution_count": 35
        },
        {
          "output_type": "display_data",
          "data": {
            "text/plain": [
              "<Figure size 640x480 with 1 Axes>"
            ],
            "image/png": "[encoded data removed]"
          },
          "metadata": {}
        }
      ]
    },
    {
      "cell_type": "code",
      "source": [
        "test_x[1].shape"
      ],
      "metadata": {
        "id": "DgCON1GAulZc"
      },
      "execution_count": null,
      "outputs": []
    },
    {
      "cell_type": "code",
      "source": [
        "np.reshape(test_x[1],(test_x.shape,1,test_x[1].shape))"
      ],
      "metadata": {
        "id": "K0vb9jCGu0qg"
      },
      "execution_count": null,
      "outputs": []
    },
    {
      "cell_type": "code",
      "source": [
        "plt.plot(scale.inverse_transform(test_prices))"
      ],
      "metadata": {
        "colab": {
          "base_uri": "https://localhost:8080/",
          "height": 450
        },
        "id": "Sy-SJa1DvJbQ",
        "outputId": "300cde08-8c58-44ad-a5a8-9d60a4525d2e"
      },
      "execution_count": 41,
      "outputs": [
        {
          "output_type": "execute_result",
          "data": {
            "text/plain": [
              "[<matplotlib.lines.Line2D at 0x7f340440f730>]"
            ]
          },
          "metadata": {},
          "execution_count": 41
        },
        {
          "output_type": "display_data",
          "data": {
            "text/plain": [
              "<Figure size 640x480 with 1 Axes>"
            ],
            "image/png": "[encoded data removed]"
          },
          "metadata": {}
        }
      ]
    },
    {
      "cell_type": "code",
      "source": [
        "pred = scale.inverse_transform(model.predict(test_x))"
      ],
      "metadata": {
        "colab": {
          "base_uri": "https://localhost:8080/"
        },
        "id": "QMI4XtXJJUvL",
        "outputId": "febb3e21-7043-4ef8-c10b-71a9fd430c72"
      },
      "execution_count": 46,
      "outputs": [
        {
          "output_type": "stream",
          "name": "stdout",
          "text": [
            "1/1 [==============================] - 0s 19ms/step\n"
          ]
        }
      ]
    },
    {
      "cell_type": "code",
      "source": [
        "orig_test_values = df[[ \"Price\"]].loc[total_size-len(pred):]\n",
        "orig_test_values.reset_index(drop=True, inplace=True)\n",
        "plt. figure(figsize=(10,5)). suptitle(\"Plot Predictions for Original Test Data\", fontsize=20)\n",
        "plt.plot(orig_test_values, label=\"Original Price\")\n",
        "plt.plot (scale.inverse_transform(model.predict(test_x)), label=\"Predicted Price\")\n",
        "plt. legend ()\n",
        "plt.show ()"
      ],
      "metadata": {
        "colab": {
          "base_uri": "https://localhost:8080/",
          "height": 510
        },
        "id": "XE7P70vNHiQG",
        "outputId": "21a77270-a664-45e9-b74e-ea2f6074c692"
      },
      "execution_count": 53,
      "outputs": [
        {
          "output_type": "stream",
          "name": "stdout",
          "text": [
            "1/1 [==============================] - 0s 36ms/step\n"
          ]
        },
        {
          "output_type": "display_data",
          "data": {
            "text/plain": [
              "<Figure size 1000x500 with 1 Axes>"
            ],
            "image/png": "[encoded data removed]"
          },
          "metadata": {}
        }
      ]
    },
    {
      "cell_type": "code",
      "source": [
        "new = df[['Price']].loc[len(df)-25:]\n",
        "new = np.array(new,dtype=np.float32)"
      ],
      "metadata": {
        "id": "5pM12gAaH9dS"
      },
      "execution_count": 88,
      "outputs": []
    },
    {
      "cell_type": "code",
      "source": [
        "new.dtype"
      ],
      "metadata": {
        "colab": {
          "base_uri": "https://localhost:8080/"
        },
        "id": "lT40_l0QK6dt",
        "outputId": "3245bfbf-9a4f-4fb5-fe45-a0c2c0fd0f32"
      },
      "execution_count": 89,
      "outputs": [
        {
          "output_type": "execute_result",
          "data": {
            "text/plain": [
              "dtype('float32')"
            ]
          },
          "metadata": {},
          "execution_count": 89
        }
      ]
    },
    {
      "cell_type": "code",
      "source": [
        "new_scale = scale.transform(new)"
      ],
      "metadata": {
        "id": "p9mn5eljK8bT"
      },
      "execution_count": 90,
      "outputs": []
    },
    {
      "cell_type": "code",
      "source": [
        "new_shp = scale.transform(new.reshape(-1,1))"
      ],
      "metadata": {
        "id": "kFBXcAQyMBjx"
      },
      "execution_count": 91,
      "outputs": []
    },
    {
      "cell_type": "code",
      "source": [
        "new_scale.shape,new_shp.shape"
      ],
      "metadata": {
        "colab": {
          "base_uri": "https://localhost:8080/"
        },
        "id": "b4-yIVhNMSV2",
        "outputId": "61c6f169-c155-411c-97ac-7e59a495ca22"
      },
      "execution_count": 92,
      "outputs": [
        {
          "output_type": "execute_result",
          "data": {
            "text/plain": [
              "((25, 1), (25, 1))"
            ]
          },
          "metadata": {},
          "execution_count": 92
        }
      ]
    },
    {
      "cell_type": "code",
      "source": [
        "model_input = np. reshape(new_scale,(new_scale.shape[1],1, new_scale.shape[0]))"
      ],
      "metadata": {
        "id": "iFe7V8jdMV6E"
      },
      "execution_count": 93,
      "outputs": []
    },
    {
      "cell_type": "code",
      "source": [
        "model_input.shape,test_x.shape"
      ],
      "metadata": {
        "colab": {
          "base_uri": "https://localhost:8080/"
        },
        "id": "vG99-pTGOUVr",
        "outputId": "3e247390-630c-4a8e-8010-a46fbdd60283"
      },
      "execution_count": 94,
      "outputs": [
        {
          "output_type": "execute_result",
          "data": {
            "text/plain": [
              "((1, 1, 25), (24, 1, 25))"
            ]
          },
          "metadata": {},
          "execution_count": 94
        }
      ]
    },
    {
      "cell_type": "code",
      "source": [
        "new_pred = model.predict(model_input)"
      ],
      "metadata": {
        "colab": {
          "base_uri": "https://localhost:8080/"
        },
        "id": "m62UeRAfOBvC",
        "outputId": "931e45b3-8a29-4f07-cc5c-5f9dda61e188"
      },
      "execution_count": 95,
      "outputs": [
        {
          "output_type": "stream",
          "name": "stdout",
          "text": [
            "1/1 [==============================] - 0s 22ms/step\n"
          ]
        }
      ]
    },
    {
      "cell_type": "code",
      "source": [
        "scale.inverse_transform(new_pred)"
      ],
      "metadata": {
        "colab": {
          "base_uri": "https://localhost:8080/"
        },
        "id": "1e0qhiRYOMhI",
        "outputId": "c5bcbe45-4186-4222-8c67-4efb1bcfa68c"
      },
      "execution_count": 96,
      "outputs": [
        {
          "output_type": "execute_result",
          "data": {
            "text/plain": [
              "array([[339.3988]], dtype=float32)"
            ]
          },
          "metadata": {},
          "execution_count": 96
        }
      ]
    },
    {
      "cell_type": "code",
      "source": [],
      "metadata": {
        "id": "L8SZdsa6PDmJ"
      },
      "execution_count": null,
      "outputs": []
    }
  ]
}