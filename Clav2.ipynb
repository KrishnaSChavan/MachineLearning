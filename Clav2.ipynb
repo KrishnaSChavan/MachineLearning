{
  "nbformat": 4,
  "nbformat_minor": 0,
  "metadata": {
    "colab": {
      "provenance": [],
      "gpuType": "T4",
      "authorship_tag": "ABX9TyPDYAQNQzp+VcqQ/3M9QNv/",
      "include_colab_link": true
    },
    "kernelspec": {
      "name": "python3",
      "display_name": "Python 3"
    },
    "language_info": {
      "name": "python"
    },
    "accelerator": "GPU"
  },
  "cells": [
    {
      "cell_type": "markdown",
      "metadata": {
        "id": "view-in-github",
        "colab_type": "text"
      },
      "source": [
        "<a href=\"https://colab.research.google.com/github/KrishnaSChavan/MachineLearning/blob/main/Clav2.ipynb\" target=\"_parent\"><img src=\"https://colab.research.google.com/assets/colab-badge.svg\" alt=\"Open In Colab\"/></a>"
      ]
    },
    {
      "cell_type": "code",
      "execution_count": 1,
      "metadata": {
        "colab": {
          "base_uri": "https://localhost:8080/"
        },
        "id": "fccC7CeZh3py",
        "outputId": "d7bdee9a-5842-45bc-96e1-515dd8667456"
      },
      "outputs": [
        {
          "output_type": "stream",
          "name": "stdout",
          "text": [
            "Requirement already satisfied: kaggle in /usr/local/lib/python3.10/dist-packages (1.5.16)\n",
            "Requirement already satisfied: six>=1.10 in /usr/local/lib/python3.10/dist-packages (from kaggle) (1.16.0)\n",
            "Requirement already satisfied: certifi in /usr/local/lib/python3.10/dist-packages (from kaggle) (2023.7.22)\n",
            "Requirement already satisfied: python-dateutil in /usr/local/lib/python3.10/dist-packages (from kaggle) (2.8.2)\n",
            "Requirement already satisfied: requests in /usr/local/lib/python3.10/dist-packages (from kaggle) (2.31.0)\n",
            "Requirement already satisfied: tqdm in /usr/local/lib/python3.10/dist-packages (from kaggle) (4.66.1)\n",
            "Requirement already satisfied: python-slugify in /usr/local/lib/python3.10/dist-packages (from kaggle) (8.0.1)\n",
            "Requirement already satisfied: urllib3 in /usr/local/lib/python3.10/dist-packages (from kaggle) (2.0.7)\n",
            "Requirement already satisfied: bleach in /usr/local/lib/python3.10/dist-packages (from kaggle) (6.1.0)\n",
            "Requirement already satisfied: webencodings in /usr/local/lib/python3.10/dist-packages (from bleach->kaggle) (0.5.1)\n",
            "Requirement already satisfied: text-unidecode>=1.3 in /usr/local/lib/python3.10/dist-packages (from python-slugify->kaggle) (1.3)\n",
            "Requirement already satisfied: charset-normalizer<4,>=2 in /usr/local/lib/python3.10/dist-packages (from requests->kaggle) (3.3.1)\n",
            "Requirement already satisfied: idna<4,>=2.5 in /usr/local/lib/python3.10/dist-packages (from requests->kaggle) (3.4)\n"
          ]
        }
      ],
      "source": [
        "!pip install kaggle"
      ]
    },
    {
      "cell_type": "code",
      "source": [
        "from google. colab import files\n",
        "files.upload()"
      ],
      "metadata": {
        "id": "2u4iG10xh_QR"
      },
      "execution_count": null,
      "outputs": []
    },
    {
      "cell_type": "code",
      "source": [
        "!mkdir ~/.kaggle\n",
        "!cp kaggle.json ~/.kaggle/\n",
        "!chmod 600 ~/.kaggle/kaggle.json"
      ],
      "metadata": {
        "id": "BN4Au9QXiBh0"
      },
      "execution_count": 3,
      "outputs": []
    },
    {
      "cell_type": "code",
      "source": [
        "!kaggle datasets download -d prahladmehandiratta/cervical-cancer-largest-dataset-sipakmed"
      ],
      "metadata": {
        "colab": {
          "base_uri": "https://localhost:8080/"
        },
        "id": "WOEYbEa-iQIp",
        "outputId": "b6293bac-5f5b-45f1-9886-a36b175639f9"
      },
      "execution_count": 4,
      "outputs": [
        {
          "output_type": "stream",
          "name": "stdout",
          "text": [
            "Downloading cervical-cancer-largest-dataset-sipakmed.zip to /content\n",
            "100% 6.40G/6.40G [05:40<00:00, 16.2MB/s]\n",
            "100% 6.40G/6.40G [05:40<00:00, 20.2MB/s]\n"
          ]
        }
      ]
    },
    {
      "cell_type": "code",
      "source": [
        "import zipfile\n",
        "zip_r = zipfile.ZipFile('/content/cervical-cancer-largest-dataset-sipakmed.zip')\n",
        "zip_r.extractall()\n",
        "zip_r.close()"
      ],
      "metadata": {
        "id": "2-WKo-JKiV1N"
      },
      "execution_count": 5,
      "outputs": []
    },
    {
      "cell_type": "code",
      "source": [
        "!mkdir Data"
      ],
      "metadata": {
        "id": "mBak-YmPksrx"
      },
      "execution_count": 6,
      "outputs": []
    },
    {
      "cell_type": "code",
      "source": [
        "one = \"/content/im_Dyskeratotic/im_Dyskeratotic/\"\n",
        "two = \"/content/im_Koilocytotic/im_Koilocytotic/\"\n",
        "three = \"/content/im_Metaplastic/im_Metaplastic/\"\n",
        "four = \"/content/im_Parabasal/im_Parabasal/CROPPED/\"\n",
        "five = \"/content/im_Superficial-Intermediate/im_Superficial-Intermediate/\""
      ],
      "metadata": {
        "id": "QVBCuvdJmXWi"
      },
      "execution_count": 7,
      "outputs": []
    },
    {
      "cell_type": "code",
      "source": [
        "path = [one,two,three,four,five]"
      ],
      "metadata": {
        "id": "EsfKKIcxnD1s"
      },
      "execution_count": 8,
      "outputs": []
    },
    {
      "cell_type": "code",
      "source": [
        "import os\n",
        "import matplotlib.pyplot as plt\n",
        "from PIL import Image\n",
        "import cv2\n",
        "import numpy as np\n",
        "import matplotlib.pyplot as plt\n",
        "import tensorflow as tf"
      ],
      "metadata": {
        "id": "qNiSctGfnHKp"
      },
      "execution_count": 9,
      "outputs": []
    },
    {
      "cell_type": "code",
      "source": [
        "data = []\n",
        "labels = []\n",
        "height = 64\n",
        "width = 64\n",
        "channels = 3\n",
        "classes = 43\n",
        "n_inputs = height * width * channels\n",
        "\n",
        "i = 0\n",
        "for p in path:\n",
        "    Class=os.listdir(p)\n",
        "    for a in Class:\n",
        "        if(a[-1] == 'p'):\n",
        "            labels.append(i)\n",
        "            try:\n",
        "                print(p+a)\n",
        "                image=cv2.imread(p+a)\n",
        "                image_from_array = Image.fromarray(image, 'RGB')\n",
        "                size_image = image_from_array.resize((height, width))\n",
        "                data.append(np.array(size_image))\n",
        "            except:\n",
        "                print('')\n",
        "    i+=1"
      ],
      "metadata": {
        "id": "axAwL3eUnK5S"
      },
      "execution_count": null,
      "outputs": []
    },
    {
      "cell_type": "code",
      "source": [
        "len(data),len(labels)"
      ],
      "metadata": {
        "colab": {
          "base_uri": "https://localhost:8080/"
        },
        "id": "yKj3zHvnnQ6i",
        "outputId": "013c13ce-24c3-4709-8ba9-3b1d2b42c24e"
      },
      "execution_count": 13,
      "outputs": [
        {
          "output_type": "execute_result",
          "data": {
            "text/plain": [
              "(1645, 1645)"
            ]
          },
          "metadata": {},
          "execution_count": 13
        }
      ]
    },
    {
      "cell_type": "code",
      "source": [
        "labels = np.array(labels)\n",
        "data = np.array(data)"
      ],
      "metadata": {
        "id": "io4LTXrIoAlR"
      },
      "execution_count": 14,
      "outputs": []
    },
    {
      "cell_type": "code",
      "source": [
        "data.shape"
      ],
      "metadata": {
        "colab": {
          "base_uri": "https://localhost:8080/"
        },
        "id": "G5Mv4F__oQmL",
        "outputId": "585a5095-310a-4abd-ab99-faac347c8567"
      },
      "execution_count": 15,
      "outputs": [
        {
          "output_type": "execute_result",
          "data": {
            "text/plain": [
              "(1645, 64, 64, 3)"
            ]
          },
          "metadata": {},
          "execution_count": 15
        }
      ]
    },
    {
      "cell_type": "code",
      "source": [
        "labels"
      ],
      "metadata": {
        "colab": {
          "base_uri": "https://localhost:8080/"
        },
        "id": "LQH0xxW7oSK2",
        "outputId": "c056a975-c2f6-45f9-87c5-3b2a95e17e2e"
      },
      "execution_count": 20,
      "outputs": [
        {
          "output_type": "execute_result",
          "data": {
            "text/plain": [
              "array([0, 0, 0, ..., 4, 4, 4])"
            ]
          },
          "metadata": {},
          "execution_count": 20
        }
      ]
    },
    {
      "cell_type": "code",
      "source": [
        "categories = [\"Dyskeratotic\", \"Koilocytotic\", \"Metaplastic\", \"Parabasal\", \"Superficial-Intermediate\"]"
      ],
      "metadata": {
        "id": "o3saonCBqOE8"
      },
      "execution_count": 19,
      "outputs": []
    },
    {
      "cell_type": "code",
      "source": [
        "def img(i):\n",
        "    plt.imshow(data[i])\n",
        "    plt.xlabel(categories[labels[i]])"
      ],
      "metadata": {
        "id": "zAUSyN2zoT6L"
      },
      "execution_count": 17,
      "outputs": []
    },
    {
      "cell_type": "code",
      "source": [
        "np.random.seed(42)\n",
        "s = np.arange(data.shape[0])\n",
        "np.random.shuffle(s)\n",
        "data = data[s]\n",
        "labels = labels[s]"
      ],
      "metadata": {
        "id": "pfoSVaWJoZ0g"
      },
      "execution_count": 30,
      "outputs": []
    },
    {
      "cell_type": "code",
      "source": [
        "from keras.applications.resnet import ResNet50\n",
        "from tensorflow.keras.layers import Dense\n",
        "from tensorflow.keras import Sequential\n",
        "import tensorflow_hub as hub\n",
        "from tensorflow.keras.optimizers import Adam"
      ],
      "metadata": {
        "id": "i6MkhgjrobYQ"
      },
      "execution_count": 49,
      "outputs": []
    },
    {
      "cell_type": "code",
      "source": [
        "resnet = ResNet50(weights='imagenet',include_top = False)"
      ],
      "metadata": {
        "colab": {
          "base_uri": "https://localhost:8080/"
        },
        "id": "xhJZzjV_rGuP",
        "outputId": "4ff1eef1-104c-456d-e93d-ea9579026c6d"
      },
      "execution_count": 32,
      "outputs": [
        {
          "output_type": "stream",
          "name": "stdout",
          "text": [
            "Downloading data from https://storage.googleapis.com/tensorflow/keras-applications/resnet/resnet50_weights_tf_dim_ordering_tf_kernels_notop.h5\n",
            "94765736/94765736 [==============================] - 5s 0us/step\n"
          ]
        }
      ]
    },
    {
      "cell_type": "code",
      "source": [
        "IMAGE_SHAPE = (64,64)\n",
        "def create_model(model_url, num_classes=5):\n",
        "\n",
        "    feature_extraction_layer = hub.KerasLayer(model_url, trainable=False, name=\"feature_extraction\", input_shape=IMAGE_SHAPE+(3,))\n",
        "\n",
        "    # create our own model\n",
        "    model = Sequential()\n",
        "    model.add(feature_extraction_layer)\n",
        "    model.add(Dense(num_classes, activation='softmax', name='output'))\n",
        "\n",
        "    return model"
      ],
      "metadata": {
        "id": "ulU4ouiqrQAb"
      },
      "execution_count": 47,
      "outputs": []
    },
    {
      "cell_type": "code",
      "source": [
        "scaled = data/255."
      ],
      "metadata": {
        "id": "xhZBfNp_u8hg"
      },
      "execution_count": 41,
      "outputs": []
    },
    {
      "cell_type": "code",
      "source": [
        "scaled.shape"
      ],
      "metadata": {
        "colab": {
          "base_uri": "https://localhost:8080/"
        },
        "id": "hL0Tjkr5wLh4",
        "outputId": "5558c91d-6f98-4f84-e973-e6e96ae5bb61"
      },
      "execution_count": 44,
      "outputs": [
        {
          "output_type": "execute_result",
          "data": {
            "text/plain": [
              "(1645, 64, 64, 3)"
            ]
          },
          "metadata": {},
          "execution_count": 44
        }
      ]
    },
    {
      "cell_type": "code",
      "source": [
        "resnet_url = 'https://tfhub.dev/google/imagenet/resnet_v2_50/feature_vector/5'"
      ],
      "metadata": {
        "id": "tjqHB9AlwNmX"
      },
      "execution_count": 45,
      "outputs": []
    },
    {
      "cell_type": "code",
      "source": [
        "resnet_model = create_model(resnet_url)"
      ],
      "metadata": {
        "id": "YKMSxNJ4wdr1"
      },
      "execution_count": 48,
      "outputs": []
    },
    {
      "cell_type": "code",
      "source": [
        "# resnet_model.compile(\n",
        "#     loss = \"categorical_crossentropy\",\n",
        "#     optimizer = Adam(),\n",
        "#     metrics=['accuracy']\n",
        "# )\n",
        "resnet_model.compile(\n",
        "    optimizer='adam',\n",
        "    loss='categorical_crossentropy',  # Make sure this loss is appropriate for your task\n",
        "    metrics=['accuracy'],\n",
        "    run_eagerly=True  # Set to True to execute the model eagerly\n",
        ")\n"
      ],
      "metadata": {
        "id": "J3MkrC-wwlPW"
      },
      "execution_count": 69,
      "outputs": []
    },
    {
      "cell_type": "code",
      "source": [],
      "metadata": {
        "id": "Db_LLLf14Pzb"
      },
      "execution_count": null,
      "outputs": []
    },
    {
      "cell_type": "code",
      "source": [
        "from sklearn.model_selection import train_test_split\n",
        "X_train, X_test, y_train, y_test = train_test_split(scaled, labels, test_size = 0.2, random_state = 1)\n",
        "\n",
        "print(X_train.shape)\n",
        "print(X_test.shape)\n",
        "print(y_train.shape)\n",
        "print(y_test.shape)"
      ],
      "metadata": {
        "colab": {
          "base_uri": "https://localhost:8080/"
        },
        "id": "W_JfJmATxzyF",
        "outputId": "7f1fcc04-517c-401f-c357-9e21d5765ab6"
      },
      "execution_count": 50,
      "outputs": [
        {
          "output_type": "stream",
          "name": "stdout",
          "text": [
            "(1316, 64, 64, 3)\n",
            "(329, 64, 64, 3)\n",
            "(1316,)\n",
            "(329,)\n"
          ]
        }
      ]
    },
    {
      "cell_type": "code",
      "source": [
        "import datetime\n",
        "\n",
        "def create_tensorboard_callback(dir_name,experiment_name):\n",
        "    log_dir = dir_name+'/'+experiment_name+datetime.datetime.now().strftime(\"%Y%m%d-%H%M%S\")\n",
        "    tensorboard_callback = tf.keras.callbacks.TensorBoard(log_dir=log_dir)\n",
        "    print(f\"saving tensorboard file to {log_dir}\")\n",
        "    return tensorboard_callback"
      ],
      "metadata": {
        "id": "fWWkLI8eyrxq"
      },
      "execution_count": 51,
      "outputs": []
    },
    {
      "cell_type": "code",
      "source": [
        "from keras.utils import to_categorical\n",
        "\n",
        "y_train_encoded = to_categorical(y_train, num_classes=5)\n",
        "y_test_encoded = to_categorical(y_test, num_classes=5)\n",
        "y = to_categorical(labels, num_classes=5)"
      ],
      "metadata": {
        "id": "bTtOtTo03rxu"
      },
      "execution_count": 86,
      "outputs": []
    },
    {
      "cell_type": "code",
      "source": [
        "# resnet_history=resnet_model.fit(\n",
        "#             X_train,\n",
        "#             y_test,\n",
        "#             epochs = 10,\n",
        "#             steps_per_epoch =len(X_train),\n",
        "#             validation_data=X_test,\n",
        "#             validation_steps=len(X_test),\n",
        "#             callbacks=[create_tensorboard_callback(dir_name='tensorflow_hub',experiment_name='resnet50 v2')]\n",
        "# )\n",
        "resnet_history = resnet_model.fit(\n",
        "    tdt,  # Assuming y_train contains the corresponding labels for X_train\n",
        "    epochs=10,\n",
        ")\n"
      ],
      "metadata": {
        "colab": {
          "base_uri": "https://localhost:8080/"
        },
        "id": "uSWcWID5yNQS",
        "outputId": "9fbd86f7-1cab-4a9c-a4ba-6176d99d1213"
      },
      "execution_count": 90,
      "outputs": [
        {
          "output_type": "stream",
          "name": "stdout",
          "text": [
            "Epoch 1/10\n",
            "52/52 [==============================] - 9s 121ms/step - loss: 1.0072 - accuracy: 0.6717\n",
            "Epoch 2/10\n",
            "52/52 [==============================] - 6s 115ms/step - loss: 0.4406 - accuracy: 0.8298\n",
            "Epoch 3/10\n",
            "52/52 [==============================] - 5s 102ms/step - loss: 0.3451 - accuracy: 0.8717\n",
            "Epoch 4/10\n",
            "52/52 [==============================] - 6s 114ms/step - loss: 0.3010 - accuracy: 0.8942\n",
            "Epoch 5/10\n",
            "52/52 [==============================] - 6s 106ms/step - loss: 0.2632 - accuracy: 0.9058\n",
            "Epoch 6/10\n",
            "52/52 [==============================] - 6s 115ms/step - loss: 0.2429 - accuracy: 0.9185\n",
            "Epoch 7/10\n",
            "52/52 [==============================] - 5s 103ms/step - loss: 0.2235 - accuracy: 0.9246\n",
            "Epoch 8/10\n",
            "52/52 [==============================] - 5s 104ms/step - loss: 0.2114 - accuracy: 0.9343\n",
            "Epoch 9/10\n",
            "52/52 [==============================] - 6s 112ms/step - loss: 0.1997 - accuracy: 0.9368\n",
            "Epoch 10/10\n",
            "52/52 [==============================] - 8s 149ms/step - loss: 0.1884 - accuracy: 0.9398\n"
          ]
        }
      ]
    },
    {
      "cell_type": "code",
      "source": [
        "x_flattened = np.reshape(data, (data.shape[0], -1))"
      ],
      "metadata": {
        "id": "MrqeVhNE55cW"
      },
      "execution_count": 78,
      "outputs": []
    },
    {
      "cell_type": "code",
      "source": [
        "\n",
        "\n",
        "X_train, X_test, Y_train, Y_test = train_test_split(x_flattened , labels, test_size=0.2, random_state=42)\n",
        "\n",
        "X_train = np.reshape(X_train, (-1, data.shape[1], data.shape[2], data.shape[3]))\n",
        "X_test = np.reshape(X_test, (-1, data.shape[1], data.shape[2], data.shape[3]))"
      ],
      "metadata": {
        "id": "b2v7Yo-5yvNg"
      },
      "execution_count": 79,
      "outputs": []
    },
    {
      "cell_type": "code",
      "source": [
        "X_train.shape"
      ],
      "metadata": {
        "colab": {
          "base_uri": "https://localhost:8080/"
        },
        "id": "_Rn_isU8z4ul",
        "outputId": "3f265cbc-6726-4b0c-f90c-134baeea685a"
      },
      "execution_count": 56,
      "outputs": [
        {
          "output_type": "execute_result",
          "data": {
            "text/plain": [
              "(1316, 64, 64, 3)"
            ]
          },
          "metadata": {},
          "execution_count": 56
        }
      ]
    },
    {
      "cell_type": "code",
      "source": [
        "from tensorflow.keras.preprocessing.image import ImageDataGenerator"
      ],
      "metadata": {
        "id": "XVt8Dxicz9Sn"
      },
      "execution_count": 57,
      "outputs": []
    },
    {
      "cell_type": "code",
      "source": [
        "from sklearn.utils import shuffle\n",
        "IMAGE_SHAPE = (64,64)\n",
        "BATCH_SIZE = 32\n",
        "data_gen = ImageDataGenerator(rescale=(1/255.))\n",
        "\n",
        "tdt = data_gen.flow(\n",
        "    x = data,\n",
        "    y=y,\n",
        "    batch_size=BATCH_SIZE,\n",
        "    shuffle=False\n",
        ")"
      ],
      "metadata": {
        "id": "BNmsn3Wj1WnM"
      },
      "execution_count": 87,
      "outputs": []
    },
    {
      "cell_type": "code",
      "source": [
        "len(tdt)"
      ],
      "metadata": {
        "colab": {
          "base_uri": "https://localhost:8080/"
        },
        "id": "bQ60k30l2bwq",
        "outputId": "54ff4289-472f-42cc-de27-dbe09d058e3e"
      },
      "execution_count": 88,
      "outputs": [
        {
          "output_type": "execute_result",
          "data": {
            "text/plain": [
              "52"
            ]
          },
          "metadata": {},
          "execution_count": 88
        }
      ]
    },
    {
      "cell_type": "code",
      "source": [
        "X_train.shape"
      ],
      "metadata": {
        "colab": {
          "base_uri": "https://localhost:8080/"
        },
        "id": "WtmagNXU29KN",
        "outputId": "98c2825c-a618-434a-d7f4-22ab216d53f0"
      },
      "execution_count": 72,
      "outputs": [
        {
          "output_type": "execute_result",
          "data": {
            "text/plain": [
              "(1316, 64, 64, 3)"
            ]
          },
          "metadata": {},
          "execution_count": 72
        }
      ]
    },
    {
      "cell_type": "code",
      "source": [
        "from sklearn.decomposition import PCA\n",
        "pca = PCA(n_components = 0.95)\n",
        "pca.fit(x_flattened)\n",
        "principal_X = pca.transform(x_flattened)"
      ],
      "metadata": {
        "id": "4mjnkX_o5Veu"
      },
      "execution_count": 73,
      "outputs": []
    },
    {
      "cell_type": "code",
      "source": [
        "zzz = cv2.imread(\"/content/im_Dyskeratotic/im_Dyskeratotic/001.bmp\")\n",
        "image_from_array = Image.fromarray(zzz, 'RGB')\n",
        "aaa = image_from_array.resize((height, width))"
      ],
      "metadata": {
        "id": "V-Z_42fw6Ed8"
      },
      "execution_count": 100,
      "outputs": []
    },
    {
      "cell_type": "code",
      "source": [
        "aaa = np.array(aaa)"
      ],
      "metadata": {
        "id": "2AtSClYk9OwX"
      },
      "execution_count": 101,
      "outputs": []
    },
    {
      "cell_type": "code",
      "source": [
        "aaa.shape"
      ],
      "metadata": {
        "colab": {
          "base_uri": "https://localhost:8080/"
        },
        "id": "m2QsZtj9-VFh",
        "outputId": "a3315b9b-7944-4eff-fd0d-c4e70e773631"
      },
      "execution_count": 106,
      "outputs": [
        {
          "output_type": "execute_result",
          "data": {
            "text/plain": [
              "(64, 64, 3)"
            ]
          },
          "metadata": {},
          "execution_count": 106
        }
      ]
    },
    {
      "cell_type": "code",
      "source": [
        "aaa = aaa/255."
      ],
      "metadata": {
        "id": "UK4UWpqB-icA"
      },
      "execution_count": 107,
      "outputs": []
    },
    {
      "cell_type": "code",
      "source": [
        "reshaped_aaa = np.reshape(aaa, (-1, 64, 64, 3))\n"
      ],
      "metadata": {
        "id": "lIFc_sCG-ulD"
      },
      "execution_count": 109,
      "outputs": []
    },
    {
      "cell_type": "code",
      "source": [
        "asd = resnet_model.predict(reshaped_aaa)"
      ],
      "metadata": {
        "colab": {
          "base_uri": "https://localhost:8080/"
        },
        "id": "yc_Gr_LH8-Pr",
        "outputId": "e402676b-24da-4e0b-e814-731c02995b78"
      },
      "execution_count": 112,
      "outputs": [
        {
          "output_type": "stream",
          "name": "stdout",
          "text": [
            "1/1 [==============================] - 0s 26ms/step\n"
          ]
        }
      ]
    },
    {
      "cell_type": "code",
      "source": [
        "zzz = np.array(zzz)"
      ],
      "metadata": {
        "id": "_OpuyFUg9aFF"
      },
      "execution_count": 97,
      "outputs": []
    },
    {
      "cell_type": "code",
      "source": [
        "zzz.shape"
      ],
      "metadata": {
        "colab": {
          "base_uri": "https://localhost:8080/"
        },
        "id": "9txD4NSD9dUN",
        "outputId": "c090a16a-7bb4-40c3-e8d2-1f6c426461d7"
      },
      "execution_count": 98,
      "outputs": [
        {
          "output_type": "execute_result",
          "data": {
            "text/plain": [
              "()"
            ]
          },
          "metadata": {},
          "execution_count": 98
        }
      ]
    },
    {
      "cell_type": "code",
      "source": [
        "np.argmax(asd, axis=1)"
      ],
      "metadata": {
        "colab": {
          "base_uri": "https://localhost:8080/"
        },
        "id": "2OMpTf-i9p0I",
        "outputId": "e01d96dd-6810-4d74-d79d-efab11b24ca3"
      },
      "execution_count": 113,
      "outputs": [
        {
          "output_type": "execute_result",
          "data": {
            "text/plain": [
              "array([0])"
            ]
          },
          "metadata": {},
          "execution_count": 113
        }
      ]
    },
    {
      "cell_type": "code",
      "source": [
        "resnet_model.save(\"CLAV\")"
      ],
      "metadata": {
        "id": "RGOND-jg_Fg9"
      },
      "execution_count": 114,
      "outputs": []
    },
    {
      "cell_type": "code",
      "source": [
        "resnet_model.save(\"CLAV2\",save_format=\"tf\")"
      ],
      "metadata": {
        "id": "vhkhTa0ZANpN"
      },
      "execution_count": 115,
      "outputs": []
    },
    {
      "cell_type": "code",
      "source": [
        "resnet_model.save('CLAV3.h5')"
      ],
      "metadata": {
        "colab": {
          "base_uri": "https://localhost:8080/"
        },
        "id": "hcOv2wYTAWMx",
        "outputId": "ce882812-c371-44a1-e569-52f5cade2df9"
      },
      "execution_count": 116,
      "outputs": [
        {
          "output_type": "stream",
          "name": "stderr",
          "text": [
            "/usr/local/lib/python3.10/dist-packages/keras/src/engine/training.py:3079: UserWarning: You are saving your model as an HDF5 file via `model.save()`. This file format is considered legacy. We recommend using instead the native Keras format, e.g. `model.save('my_model.keras')`.\n",
            "  saving_api.save_model(\n"
          ]
        }
      ]
    },
    {
      "cell_type": "code",
      "source": [
        "loaded_model = tf.keras.models.load_model(\"CLAV3.h5\")"
      ],
      "metadata": {
        "colab": {
          "base_uri": "https://localhost:8080/",
          "height": 342
        },
        "id": "No5KoE4rAxUq",
        "outputId": "7259829b-51d6-46ce-9135-5856e49c780e"
      },
      "execution_count": 125,
      "outputs": [
        {
          "output_type": "error",
          "ename": "ValueError",
          "evalue": "ignored",
          "traceback": [
            "\u001b[0;31m---------------------------------------------------------------------------\u001b[0m",
            "\u001b[0;31mValueError\u001b[0m                                Traceback (most recent call last)",
            "\u001b[0;32m<ipython-input-125-8722a6dd9825>\u001b[0m in \u001b[0;36m<cell line: 1>\u001b[0;34m()\u001b[0m\n\u001b[0;32m----> 1\u001b[0;31m \u001b[0mloaded_model\u001b[0m \u001b[0;34m=\u001b[0m \u001b[0mtf\u001b[0m\u001b[0;34m.\u001b[0m\u001b[0mkeras\u001b[0m\u001b[0;34m.\u001b[0m\u001b[0mmodels\u001b[0m\u001b[0;34m.\u001b[0m\u001b[0mload_model\u001b[0m\u001b[0;34m(\u001b[0m\u001b[0;34m\"CLAV3.h5\"\u001b[0m\u001b[0;34m)\u001b[0m\u001b[0;34m\u001b[0m\u001b[0;34m\u001b[0m\u001b[0m\n\u001b[0m",
            "\u001b[0;32m/usr/local/lib/python3.10/dist-packages/keras/src/saving/saving_api.py\u001b[0m in \u001b[0;36mload_model\u001b[0;34m(filepath, custom_objects, compile, safe_mode, **kwargs)\u001b[0m\n\u001b[1;32m    260\u001b[0m \u001b[0;34m\u001b[0m\u001b[0m\n\u001b[1;32m    261\u001b[0m     \u001b[0;31m# Legacy case.\u001b[0m\u001b[0;34m\u001b[0m\u001b[0;34m\u001b[0m\u001b[0m\n\u001b[0;32m--> 262\u001b[0;31m     return legacy_sm_saving_lib.load_model(\n\u001b[0m\u001b[1;32m    263\u001b[0m         \u001b[0mfilepath\u001b[0m\u001b[0;34m,\u001b[0m \u001b[0mcustom_objects\u001b[0m\u001b[0;34m=\u001b[0m\u001b[0mcustom_objects\u001b[0m\u001b[0;34m,\u001b[0m \u001b[0mcompile\u001b[0m\u001b[0;34m=\u001b[0m\u001b[0mcompile\u001b[0m\u001b[0;34m,\u001b[0m \u001b[0;34m**\u001b[0m\u001b[0mkwargs\u001b[0m\u001b[0;34m\u001b[0m\u001b[0;34m\u001b[0m\u001b[0m\n\u001b[1;32m    264\u001b[0m     )\n",
            "\u001b[0;32m/usr/local/lib/python3.10/dist-packages/keras/src/utils/traceback_utils.py\u001b[0m in \u001b[0;36merror_handler\u001b[0;34m(*args, **kwargs)\u001b[0m\n\u001b[1;32m     68\u001b[0m             \u001b[0;31m# To get the full stack trace, call:\u001b[0m\u001b[0;34m\u001b[0m\u001b[0;34m\u001b[0m\u001b[0m\n\u001b[1;32m     69\u001b[0m             \u001b[0;31m# `tf.debugging.disable_traceback_filtering()`\u001b[0m\u001b[0;34m\u001b[0m\u001b[0;34m\u001b[0m\u001b[0m\n\u001b[0;32m---> 70\u001b[0;31m             \u001b[0;32mraise\u001b[0m \u001b[0me\u001b[0m\u001b[0;34m.\u001b[0m\u001b[0mwith_traceback\u001b[0m\u001b[0;34m(\u001b[0m\u001b[0mfiltered_tb\u001b[0m\u001b[0;34m)\u001b[0m \u001b[0;32mfrom\u001b[0m \u001b[0;32mNone\u001b[0m\u001b[0;34m\u001b[0m\u001b[0;34m\u001b[0m\u001b[0m\n\u001b[0m\u001b[1;32m     71\u001b[0m         \u001b[0;32mfinally\u001b[0m\u001b[0;34m:\u001b[0m\u001b[0;34m\u001b[0m\u001b[0;34m\u001b[0m\u001b[0m\n\u001b[1;32m     72\u001b[0m             \u001b[0;32mdel\u001b[0m \u001b[0mfiltered_tb\u001b[0m\u001b[0;34m\u001b[0m\u001b[0;34m\u001b[0m\u001b[0m\n",
            "\u001b[0;32m/usr/local/lib/python3.10/dist-packages/keras/src/saving/legacy/serialization.py\u001b[0m in \u001b[0;36mclass_and_config_for_serialized_keras_object\u001b[0;34m(config, module_objects, custom_objects, printable_module_name)\u001b[0m\n\u001b[1;32m    363\u001b[0m     )\n\u001b[1;32m    364\u001b[0m     \u001b[0;32mif\u001b[0m \u001b[0mcls\u001b[0m \u001b[0;32mis\u001b[0m \u001b[0;32mNone\u001b[0m\u001b[0;34m:\u001b[0m\u001b[0;34m\u001b[0m\u001b[0;34m\u001b[0m\u001b[0m\n\u001b[0;32m--> 365\u001b[0;31m         raise ValueError(\n\u001b[0m\u001b[1;32m    366\u001b[0m             \u001b[0;34mf\"Unknown {printable_module_name}: '{class_name}'. \"\u001b[0m\u001b[0;34m\u001b[0m\u001b[0;34m\u001b[0m\u001b[0m\n\u001b[1;32m    367\u001b[0m             \u001b[0;34m\"Please ensure you are using a `keras.utils.custom_object_scope` \"\u001b[0m\u001b[0;34m\u001b[0m\u001b[0;34m\u001b[0m\u001b[0m\n",
            "\u001b[0;31mValueError\u001b[0m: Unknown layer: 'KerasLayer'. Please ensure you are using a `keras.utils.custom_object_scope` and that this object is included in the scope. See https://www.tensorflow.org/guide/keras/save_and_serialize#registering_the_custom_object for details."
          ]
        }
      ]
    },
    {
      "cell_type": "code",
      "source": [
        "new_model = tf.keras.models.load_model('CLAV')"
      ],
      "metadata": {
        "id": "HGkWlQLQA3-A"
      },
      "execution_count": 120,
      "outputs": []
    },
    {
      "cell_type": "code",
      "source": [
        "import zipfile\n",
        "\n",
        "# File or directory to be zipped\n",
        "file_or_directory_to_zip = '/content/CLAV2'\n",
        "\n",
        "# Name for the zip file\n",
        "zip_filename = 'CLAVZ2.zip'\n",
        "\n",
        "# Create a ZipFile object in write mode\n",
        "with zipfile.ZipFile(zip_filename, 'w', zipfile.ZIP_DEFLATED) as zipf:\n",
        "    if os.path.isfile(file_or_directory_to_zip):\n",
        "        # If it's a single file, add it to the archive\n",
        "        zipf.write(file_or_directory_to_zip, os.path.basename(file_or_directory_to_zip))\n",
        "    elif os.path.isdir(file_or_directory_to_zip):\n",
        "        # If it's a directory, add all files within the directory and its subdirectories\n",
        "        for root, dirs, files in os.walk(file_or_directory_to_zip):\n",
        "            for file in files:\n",
        "                file_to_zip = os.path.join(root, file)\n",
        "                archive_name = os.path.relpath(file_to_zip, file_or_directory_to_zip)\n",
        "                zipf.write(file_to_zip, archive_name)\n",
        "\n",
        "# The zip archive is created with the specified name\n"
      ],
      "metadata": {
        "id": "j6DjPzoABRkD"
      },
      "execution_count": 136,
      "outputs": []
    },
    {
      "cell_type": "code",
      "source": [
        "import zipfile\n",
        "zip_r = zipfile.ZipFile('/content/CLAVZ.zip')\n",
        "zip_r.extractall()\n",
        "zip_r.close()"
      ],
      "metadata": {
        "id": "vhkJ_cUXDHHk"
      },
      "execution_count": 127,
      "outputs": []
    },
    {
      "cell_type": "code",
      "source": [
        "!mkdir CLAVZ"
      ],
      "metadata": {
        "id": "d-14xT1KDY4-"
      },
      "execution_count": 128,
      "outputs": []
    },
    {
      "cell_type": "code",
      "source": [
        "!cd CLAVZ"
      ],
      "metadata": {
        "id": "W_Xx_rT2DhEG"
      },
      "execution_count": 129,
      "outputs": []
    },
    {
      "cell_type": "code",
      "source": [
        "import zipfile\n",
        "zip_r = zipfile.ZipFile('/content/CLAVZ.zip')\n",
        "zip_r.extractall()\n",
        "zip_r.close()"
      ],
      "metadata": {
        "id": "g_qIsF7ZDjL0"
      },
      "execution_count": 130,
      "outputs": []
    },
    {
      "cell_type": "code",
      "source": [
        "new_model_1 = tf.keras.models.load_model('/content/CLAVZ')"
      ],
      "metadata": {
        "id": "pYBJLhrRDk1I"
      },
      "execution_count": 135,
      "outputs": []
    },
    {
      "cell_type": "code",
      "source": [],
      "metadata": {
        "colab": {
          "base_uri": "https://localhost:8080/"
        },
        "id": "2vGSgq0pEJ0i",
        "outputId": "85dab802-0b55-4b47-f630-cdb685e06b00"
      },
      "execution_count": 133,
      "outputs": [
        {
          "output_type": "stream",
          "name": "stdout",
          "text": [
            "/content\n"
          ]
        }
      ]
    },
    {
      "cell_type": "code",
      "source": [
        "from google.colab import drive\n",
        "drive.mount('/content/drive')"
      ],
      "metadata": {
        "id": "qWjKswGyFU-c"
      },
      "execution_count": null,
      "outputs": []
    },
    {
      "cell_type": "code",
      "source": [
        "import zipfile\n",
        "zip_r = zipfile.ZipFile('/content/CLAVZ.zip')\n",
        "zip_r.extractall()\n",
        "zip_r.close()"
      ],
      "metadata": {
        "id": "lq7KVEf9Eqhc"
      },
      "execution_count": null,
      "outputs": []
    }
  ]
}