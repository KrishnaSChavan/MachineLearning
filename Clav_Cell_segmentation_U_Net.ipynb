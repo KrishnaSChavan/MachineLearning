{
  "nbformat": 4,
  "nbformat_minor": 0,
  "metadata": {
    "colab": {
      "provenance": [],
      "gpuType": "T4",
      "authorship_tag": "ABX9TyNJBO4ujmDw2mSbAIJojR5P",
      "include_colab_link": true
    },
    "kernelspec": {
      "name": "python3",
      "display_name": "Python 3"
    },
    "language_info": {
      "name": "python"
    },
    "accelerator": "GPU"
  },
  "cells": [
    {
      "cell_type": "markdown",
      "metadata": {
        "id": "view-in-github",
        "colab_type": "text"
      },
      "source": [
        "<a href=\"https://colab.research.google.com/github/KrishnaSChavan/MachineLearning/blob/main/Clav_Cell_segmentation_U_Net.ipynb\" target=\"_parent\"><img src=\"https://colab.research.google.com/assets/colab-badge.svg\" alt=\"Open In Colab\"/></a>"
      ]
    },
    {
      "cell_type": "code",
      "execution_count": 132,
      "metadata": {
        "id": "V4rqgMcKsT-r"
      },
      "outputs": [],
      "source": [
        "from tensorflow.keras.layers import Conv2D,BatchNormalization,Activation,MaxPool2D,Conv2DTranspose,Concatenate,Input,Dense\n",
        "from tensorflow.keras.models import Model,Sequential\n",
        "import tensorflow as tf\n",
        "import pandas as pd\n",
        "import numpy as np\n",
        "import matplotlib.pyplot as plt\n",
        "import os\n",
        "from PIL import Image\n",
        "import cv2\n",
        "from tensorflow.keras.preprocessing.image import ImageDataGenerator\n",
        "from sklearn.utils import shuffle\n",
        "from sklearn.model_selection import train_test_split\n",
        "from keras.applications.resnet import ResNet50\n",
        "import tensorflow_hub as hub\n",
        "from keras.utils import to_categorical"
      ]
    },
    {
      "cell_type": "code",
      "source": [
        "from google. colab import files\n",
        "files.upload()"
      ],
      "metadata": {
        "colab": {
          "base_uri": "https://localhost:8080/",
          "height": 84
        },
        "id": "j7isNbq0tRGs",
        "outputId": "11f4781b-0c57-4e0d-d579-d6b6603ff749"
      },
      "execution_count": 2,
      "outputs": [
        {
          "output_type": "display_data",
          "data": {
            "text/plain": [
              "<IPython.core.display.HTML object>"
            ],
            "text/html": [
              "\n",
              "     <input type=\"file\" id=\"files-0e9ac697-a724-4f2c-a036-67ee50c75f67\" name=\"files[]\" multiple disabled\n",
              "        style=\"border:none\" />\n",
              "     <output id=\"result-0e9ac697-a724-4f2c-a036-67ee50c75f67\">\n",
              "      Upload widget is only available when the cell has been executed in the\n",
              "      current browser session. Please rerun this cell to enable.\n",
              "      </output>\n",
              "      <script>// Copyright 2017 Google LLC\n",
              "//\n",
              "// Licensed under the Apache License, Version 2.0 (the \"License\");\n",
              "// you may not use this file except in compliance with the License.\n",
              "// You may obtain a copy of the License at\n",
              "//\n",
              "//      http://www.apache.org/licenses/LICENSE-2.0\n",
              "//\n",
              "// Unless required by applicable law or agreed to in writing, software\n",
              "// distributed under the License is distributed on an \"AS IS\" BASIS,\n",
              "// WITHOUT WARRANTIES OR CONDITIONS OF ANY KIND, either express or implied.\n",
              "// See the License for the specific language governing permissions and\n",
              "// limitations under the License.\n",
              "\n",
              "/**\n",
              " * @fileoverview Helpers for google.colab Python module.\n",
              " */\n",
              "(function(scope) {\n",
              "function span(text, styleAttributes = {}) {\n",
              "  const element = document.createElement('span');\n",
              "  element.textContent = text;\n",
              "  for (const key of Object.keys(styleAttributes)) {\n",
              "    element.style[key] = styleAttributes[key];\n",
              "  }\n",
              "  return element;\n",
              "}\n",
              "\n",
              "// Max number of bytes which will be uploaded at a time.\n",
              "const MAX_PAYLOAD_SIZE = 100 * 1024;\n",
              "\n",
              "function _uploadFiles(inputId, outputId) {\n",
              "  const steps = uploadFilesStep(inputId, outputId);\n",
              "  const outputElement = document.getElementById(outputId);\n",
              "  // Cache steps on the outputElement to make it available for the next call\n",
              "  // to uploadFilesContinue from Python.\n",
              "  outputElement.steps = steps;\n",
              "\n",
              "  return _uploadFilesContinue(outputId);\n",
              "}\n",
              "\n",
              "// This is roughly an async generator (not supported in the browser yet),\n",
              "// where there are multiple asynchronous steps and the Python side is going\n",
              "// to poll for completion of each step.\n",
              "// This uses a Promise to block the python side on completion of each step,\n",
              "// then passes the result of the previous step as the input to the next step.\n",
              "function _uploadFilesContinue(outputId) {\n",
              "  const outputElement = document.getElementById(outputId);\n",
              "  const steps = outputElement.steps;\n",
              "\n",
              "  const next = steps.next(outputElement.lastPromiseValue);\n",
              "  return Promise.resolve(next.value.promise).then((value) => {\n",
              "    // Cache the last promise value to make it available to the next\n",
              "    // step of the generator.\n",
              "    outputElement.lastPromiseValue = value;\n",
              "    return next.value.response;\n",
              "  });\n",
              "}\n",
              "\n",
              "/**\n",
              " * Generator function which is called between each async step of the upload\n",
              " * process.\n",
              " * @param {string} inputId Element ID of the input file picker element.\n",
              " * @param {string} outputId Element ID of the output display.\n",
              " * @return {!Iterable<!Object>} Iterable of next steps.\n",
              " */\n",
              "function* uploadFilesStep(inputId, outputId) {\n",
              "  const inputElement = document.getElementById(inputId);\n",
              "  inputElement.disabled = false;\n",
              "\n",
              "  const outputElement = document.getElementById(outputId);\n",
              "  outputElement.innerHTML = '';\n",
              "\n",
              "  const pickedPromise = new Promise((resolve) => {\n",
              "    inputElement.addEventListener('change', (e) => {\n",
              "      resolve(e.target.files);\n",
              "    });\n",
              "  });\n",
              "\n",
              "  const cancel = document.createElement('button');\n",
              "  inputElement.parentElement.appendChild(cancel);\n",
              "  cancel.textContent = 'Cancel upload';\n",
              "  const cancelPromise = new Promise((resolve) => {\n",
              "    cancel.onclick = () => {\n",
              "      resolve(null);\n",
              "    };\n",
              "  });\n",
              "\n",
              "  // Wait for the user to pick the files.\n",
              "  const files = yield {\n",
              "    promise: Promise.race([pickedPromise, cancelPromise]),\n",
              "    response: {\n",
              "      action: 'starting',\n",
              "    }\n",
              "  };\n",
              "\n",
              "  cancel.remove();\n",
              "\n",
              "  // Disable the input element since further picks are not allowed.\n",
              "  inputElement.disabled = true;\n",
              "\n",
              "  if (!files) {\n",
              "    return {\n",
              "      response: {\n",
              "        action: 'complete',\n",
              "      }\n",
              "    };\n",
              "  }\n",
              "\n",
              "  for (const file of files) {\n",
              "    const li = document.createElement('li');\n",
              "    li.append(span(file.name, {fontWeight: 'bold'}));\n",
              "    li.append(span(\n",
              "        `(${file.type || 'n/a'}) - ${file.size} bytes, ` +\n",
              "        `last modified: ${\n",
              "            file.lastModifiedDate ? file.lastModifiedDate.toLocaleDateString() :\n",
              "                                    'n/a'} - `));\n",
              "    const percent = span('0% done');\n",
              "    li.appendChild(percent);\n",
              "\n",
              "    outputElement.appendChild(li);\n",
              "\n",
              "    const fileDataPromise = new Promise((resolve) => {\n",
              "      const reader = new FileReader();\n",
              "      reader.onload = (e) => {\n",
              "        resolve(e.target.result);\n",
              "      };\n",
              "      reader.readAsArrayBuffer(file);\n",
              "    });\n",
              "    // Wait for the data to be ready.\n",
              "    let fileData = yield {\n",
              "      promise: fileDataPromise,\n",
              "      response: {\n",
              "        action: 'continue',\n",
              "      }\n",
              "    };\n",
              "\n",
              "    // Use a chunked sending to avoid message size limits. See b/62115660.\n",
              "    let position = 0;\n",
              "    do {\n",
              "      const length = Math.min(fileData.byteLength - position, MAX_PAYLOAD_SIZE);\n",
              "      const chunk = new Uint8Array(fileData, position, length);\n",
              "      position += length;\n",
              "\n",
              "      const base64 = btoa(String.fromCharCode.apply(null, chunk));\n",
              "      yield {\n",
              "        response: {\n",
              "          action: 'append',\n",
              "          file: file.name,\n",
              "          data: base64,\n",
              "        },\n",
              "      };\n",
              "\n",
              "      let percentDone = fileData.byteLength === 0 ?\n",
              "          100 :\n",
              "          Math.round((position / fileData.byteLength) * 100);\n",
              "      percent.textContent = `${percentDone}% done`;\n",
              "\n",
              "    } while (position < fileData.byteLength);\n",
              "  }\n",
              "\n",
              "  // All done.\n",
              "  yield {\n",
              "    response: {\n",
              "      action: 'complete',\n",
              "    }\n",
              "  };\n",
              "}\n",
              "\n",
              "scope.google = scope.google || {};\n",
              "scope.google.colab = scope.google.colab || {};\n",
              "scope.google.colab._files = {\n",
              "  _uploadFiles,\n",
              "  _uploadFilesContinue,\n",
              "};\n",
              "})(self);\n",
              "</script> "
            ]
          },
          "metadata": {}
        },
        {
          "output_type": "stream",
          "name": "stdout",
          "text": [
            "Saving kaggle.json to kaggle.json\n"
          ]
        },
        {
          "output_type": "execute_result",
          "data": {
            "text/plain": [
              "{'kaggle.json': b'{\"username\":\"krishnaschavan\",\"key\":\"6f1c6fc054fb8d6259f3b6411ea6191e\"}'}"
            ]
          },
          "metadata": {},
          "execution_count": 2
        }
      ]
    },
    {
      "cell_type": "code",
      "source": [
        "!mkdir ~/.kaggle\n",
        "!cp kaggle.json ~/.kaggle/\n",
        "!chmod 600 ~/.kaggle/kaggle.json"
      ],
      "metadata": {
        "id": "-NlHgBfKtqPm"
      },
      "execution_count": 3,
      "outputs": []
    },
    {
      "cell_type": "code",
      "source": [
        "!kaggle datasets download -d prahladmehandiratta/cervical-cancer-largest-dataset-sipakmed"
      ],
      "metadata": {
        "colab": {
          "base_uri": "https://localhost:8080/"
        },
        "id": "WHUrHswstvs2",
        "outputId": "b092d5cf-2838-4c96-be52-770866eeda58"
      },
      "execution_count": 4,
      "outputs": [
        {
          "output_type": "stream",
          "name": "stdout",
          "text": [
            "Downloading cervical-cancer-largest-dataset-sipakmed.zip to /content\n",
            "100% 6.40G/6.40G [03:39<00:00, 23.3MB/s]\n",
            "100% 6.40G/6.40G [03:40<00:00, 31.2MB/s]\n"
          ]
        }
      ]
    },
    {
      "cell_type": "code",
      "source": [
        "import zipfile\n",
        "zip_r = zipfile.ZipFile('/content/cervical-cancer-largest-dataset-sipakmed.zip')\n",
        "zip_r.extractall()\n",
        "zip_r.close()"
      ],
      "metadata": {
        "id": "vKoip_N4t2Ue"
      },
      "execution_count": 5,
      "outputs": []
    },
    {
      "cell_type": "code",
      "source": [
        "one = \"/content/im_Dyskeratotic/im_Dyskeratotic/\"\n",
        "two = \"/content/im_Koilocytotic/im_Koilocytotic/\"\n",
        "three = \"/content/im_Metaplastic/im_Metaplastic/\"\n",
        "four = \"/content/im_Parabasal/im_Parabasal/CROPPED/\"\n",
        "five = \"/content/im_Superficial-Intermediate/im_Superficial-Intermediate/\""
      ],
      "metadata": {
        "id": "Wyb7vlADu0t2"
      },
      "execution_count": 6,
      "outputs": []
    },
    {
      "cell_type": "code",
      "source": [
        "path = [one,two,three,four,five]"
      ],
      "metadata": {
        "id": "e_IzfwDnvUBk"
      },
      "execution_count": 7,
      "outputs": []
    },
    {
      "cell_type": "code",
      "source": [
        "data = []\n",
        "labels = []\n",
        "height = 64\n",
        "width = 64\n",
        "channels = 3\n",
        "classes = 43\n",
        "n_inputs = height * width * channels\n",
        "\n",
        "i = 0\n",
        "for p in path:\n",
        "    Class=os.listdir(p)\n",
        "    for a in Class:\n",
        "        if(a[-1] == 'p'):\n",
        "            labels.append(i)\n",
        "            try:\n",
        "                print(p+a)\n",
        "\n",
        "                image=cv2.imread(p+a)\n",
        "\n",
        "\n",
        "                image_from_array = Image.fromarray(image, 'RGB')\n",
        "\n",
        "                size_image = image_from_array.resize((height, width))\n",
        "                data.append(np.array(size_image))\n",
        "            except:\n",
        "                print('')\n",
        "    i+=1"
      ],
      "metadata": {
        "id": "-JM7-JQPvWbf"
      },
      "execution_count": null,
      "outputs": []
    },
    {
      "cell_type": "code",
      "source": [
        "len(data)"
      ],
      "metadata": {
        "colab": {
          "base_uri": "https://localhost:8080/"
        },
        "id": "LB_KJq__wf8L",
        "outputId": "635dbf68-942d-45b7-9770-69ca143032dd"
      },
      "execution_count": 9,
      "outputs": [
        {
          "output_type": "execute_result",
          "data": {
            "text/plain": [
              "1645"
            ]
          },
          "metadata": {},
          "execution_count": 9
        }
      ]
    },
    {
      "cell_type": "code",
      "source": [
        "data = np.array(data)"
      ],
      "metadata": {
        "id": "yHDnE1wvyf3g"
      },
      "execution_count": 11,
      "outputs": []
    },
    {
      "cell_type": "code",
      "source": [
        "labels = np.array(labels)"
      ],
      "metadata": {
        "id": "rdi8lNqQMkE8"
      },
      "execution_count": 114,
      "outputs": []
    },
    {
      "cell_type": "code",
      "source": [
        "data.dtype,data.shape"
      ],
      "metadata": {
        "colab": {
          "base_uri": "https://localhost:8080/"
        },
        "id": "88o89KWLykIm",
        "outputId": "a954ae2b-4578-4e2b-fcaf-50f13b2d30ab"
      },
      "execution_count": 12,
      "outputs": [
        {
          "output_type": "execute_result",
          "data": {
            "text/plain": [
              "(dtype('uint8'), (1645, 64, 64, 3))"
            ]
          },
          "metadata": {},
          "execution_count": 12
        }
      ]
    },
    {
      "cell_type": "markdown",
      "source": [
        "# Mask"
      ],
      "metadata": {
        "id": "LcHuxz3SMXb8"
      }
    },
    {
      "cell_type": "code",
      "source": [
        "def preprocess_image(image):\n",
        "\n",
        "    image_gray = cv2.cvtColor(image, cv2.COLOR_BGR2GRAY)\n",
        "\n",
        "\n",
        "    image_uint8 = cv2.convertScaleAbs(image_gray)\n",
        "\n",
        "\n",
        "    ret, thresh1 = cv2.threshold(image_uint8, 0, 255, cv2.THRESH_BINARY + cv2.THRESH_OTSU)\n",
        "\n",
        "    binary_image = np.expand_dims(thresh1, axis=-1)\n",
        "\n",
        "    return binary_image"
      ],
      "metadata": {
        "id": "_rg7mmjzypgF"
      },
      "execution_count": 21,
      "outputs": []
    },
    {
      "cell_type": "code",
      "source": [
        "mask = []\n",
        "\n",
        "for image in data:\n",
        "    binary_image = preprocess_image(image)\n",
        "    mask.append(binary_image)"
      ],
      "metadata": {
        "id": "JIAC_ZOQzMJI"
      },
      "execution_count": 22,
      "outputs": []
    },
    {
      "cell_type": "code",
      "source": [
        "mask = np.array(mask)"
      ],
      "metadata": {
        "id": "BBWc1tF22sqX"
      },
      "execution_count": 28,
      "outputs": []
    },
    {
      "cell_type": "code",
      "source": [
        "data.dtype"
      ],
      "metadata": {
        "colab": {
          "base_uri": "https://localhost:8080/"
        },
        "id": "RI0RWuCx1Y5k",
        "outputId": "b452f6ca-a390-49e4-96d6-a5e86c5a08eb"
      },
      "execution_count": 26,
      "outputs": [
        {
          "output_type": "execute_result",
          "data": {
            "text/plain": [
              "dtype('uint8')"
            ]
          },
          "metadata": {},
          "execution_count": 26
        }
      ]
    },
    {
      "cell_type": "code",
      "source": [
        "mask.dtype"
      ],
      "metadata": {
        "colab": {
          "base_uri": "https://localhost:8080/"
        },
        "id": "eJiL2Stz2pGr",
        "outputId": "32c2e854-4554-463d-f3e4-f71e14ee5115"
      },
      "execution_count": 29,
      "outputs": [
        {
          "output_type": "execute_result",
          "data": {
            "text/plain": [
              "dtype('uint8')"
            ]
          },
          "metadata": {},
          "execution_count": 29
        }
      ]
    },
    {
      "cell_type": "code",
      "source": [
        "data.shape"
      ],
      "metadata": {
        "colab": {
          "base_uri": "https://localhost:8080/"
        },
        "id": "AYSdsc2C2qhP",
        "outputId": "a1b18a7a-6ad3-4844-8e3d-c9aae32d4ff7"
      },
      "execution_count": 30,
      "outputs": [
        {
          "output_type": "execute_result",
          "data": {
            "text/plain": [
              "(1645, 64, 64, 3)"
            ]
          },
          "metadata": {},
          "execution_count": 30
        }
      ]
    },
    {
      "cell_type": "code",
      "source": [
        "mask.shape"
      ],
      "metadata": {
        "colab": {
          "base_uri": "https://localhost:8080/"
        },
        "id": "rEUStJKR2xr3",
        "outputId": "2cc7fb98-8364-4c58-d957-f75b70ccaec1"
      },
      "execution_count": 31,
      "outputs": [
        {
          "output_type": "execute_result",
          "data": {
            "text/plain": [
              "(1645, 64, 64, 1)"
            ]
          },
          "metadata": {},
          "execution_count": 31
        }
      ]
    },
    {
      "cell_type": "code",
      "source": [
        "data_three_channels = np.repeat(mask[1:5], 3, axis=-1)"
      ],
      "metadata": {
        "id": "6-e8UW3A2y0t"
      },
      "execution_count": 33,
      "outputs": []
    },
    {
      "cell_type": "code",
      "source": [
        "data_three_channels.shape"
      ],
      "metadata": {
        "colab": {
          "base_uri": "https://localhost:8080/"
        },
        "id": "JKkp7f2d4wfP",
        "outputId": "cad30506-271f-453b-c247-eb0a92508401"
      },
      "execution_count": 35,
      "outputs": [
        {
          "output_type": "execute_result",
          "data": {
            "text/plain": [
              "(4, 64, 64, 3)"
            ]
          },
          "metadata": {},
          "execution_count": 35
        }
      ]
    },
    {
      "cell_type": "markdown",
      "source": [
        "# U-Net"
      ],
      "metadata": {
        "id": "b7B5en08MSew"
      }
    },
    {
      "cell_type": "code",
      "source": [
        "def conv_block(inputs,num_filters):\n",
        "    x = Conv2D(num_filters,3,padding='same')(inputs)\n",
        "    x = BatchNormalization()(x)\n",
        "    x = Activation('relu')(x)\n",
        "\n",
        "\n",
        "    x = Conv2D(num_filters,3,padding='same')(inputs)\n",
        "    x = BatchNormalization()(x)\n",
        "    x = Activation('relu')(x)\n",
        "\n",
        "    return x\n",
        "\n",
        "def encoder(inputs,num_filters):\n",
        "    x = conv_block(inputs,num_filters)\n",
        "    p = MaxPool2D((2,2))(x)\n",
        "\n",
        "    return x,p\n",
        "def decoder(inputs,skip_features,num_filters):\n",
        "    x = Conv2DTranspose(num_filters,(2,2),strides=2,padding='same')(inputs)\n",
        "    x = Concatenate()([x,skip_features])\n",
        "    x = conv_block(x,num_filters)\n",
        "\n",
        "    return x"
      ],
      "metadata": {
        "id": "UDe_4JXj5gJV"
      },
      "execution_count": 41,
      "outputs": []
    },
    {
      "cell_type": "code",
      "source": [
        "def unet(input_shape):\n",
        "    inputs = Input(input_shape)\n",
        "\n",
        "    # encoders\n",
        "    s0,p0 = encoder(inputs,32)\n",
        "    s1,p1 = encoder(p0,64)   # p = 256\n",
        "    s2,p2 = encoder(p1,128)      # p = 128\n",
        "    s3,p3 = encoder(p2,256)      # p = 64\n",
        "    s4,p4 = encoder(p3,512)      # p = 32\n",
        "\n",
        "    # Bridge\n",
        "    b1 = conv_block(p4,1024)\n",
        "\n",
        "    #decoder\n",
        "\n",
        "    d1 = decoder(b1,s4,512)      # p = 32\n",
        "    d2 = decoder(d1,s3,256)      # p = 64\n",
        "    d3 = decoder(d2,s2,128)      # p = 128\n",
        "    d4 = decoder(d3,s1,64)       # p = 256\n",
        "    d5 = decoder(d4,s0,32)\n",
        "\n",
        "    #output\n",
        "\n",
        "    outputs = Conv2D(3,(1,1),padding=\"same\",activation = \"sigmoid\")(d5)\n",
        "\n",
        "    model = Model(inputs,outputs,name='U-Net')\n",
        "\n",
        "    return model"
      ],
      "metadata": {
        "id": "lwS9lb8454Q1"
      },
      "execution_count": 42,
      "outputs": []
    },
    {
      "cell_type": "code",
      "source": [
        "input_shape = (256,256,3)\n",
        "model = unet(input_shape=input_shape)"
      ],
      "metadata": {
        "id": "-bl8c5aF56_M"
      },
      "execution_count": 43,
      "outputs": []
    },
    {
      "cell_type": "code",
      "source": [
        "np.random.seed(42)\n",
        "s = np.arange(data.shape[0])\n",
        "np.random.shuffle(s)\n",
        "Data = data[s]\n",
        "Mask = mask[s]"
      ],
      "metadata": {
        "id": "cJJtQP5x6Z2n"
      },
      "execution_count": 45,
      "outputs": []
    },
    {
      "cell_type": "code",
      "source": [
        "Mask_3 = np.repeat(Mask, 3, axis=-1)"
      ],
      "metadata": {
        "id": "YO3FIDDc8Lli"
      },
      "execution_count": 47,
      "outputs": []
    },
    {
      "cell_type": "code",
      "source": [
        "Mask_3.shape"
      ],
      "metadata": {
        "colab": {
          "base_uri": "https://localhost:8080/"
        },
        "id": "XT7alj8X8cWT",
        "outputId": "64bd613e-b78f-47fd-a3d1-66319fc27828"
      },
      "execution_count": 48,
      "outputs": [
        {
          "output_type": "execute_result",
          "data": {
            "text/plain": [
              "(1645, 64, 64, 3)"
            ]
          },
          "metadata": {},
          "execution_count": 48
        }
      ]
    },
    {
      "cell_type": "code",
      "source": [
        "plt.imshow(Mask_3[1])"
      ],
      "metadata": {
        "id": "7pFDDnMZ8eSr"
      },
      "execution_count": null,
      "outputs": []
    },
    {
      "cell_type": "code",
      "source": [
        "plt.imshow(Data[1])"
      ],
      "metadata": {
        "id": "VEr4eTp28mAm"
      },
      "execution_count": null,
      "outputs": []
    },
    {
      "cell_type": "code",
      "source": [
        "X_train, X_test, y_train, y_test = train_test_split(Data, Mask_3, test_size = 0.2, random_state = 1)\n",
        "\n",
        "print(X_train.shape)\n",
        "print(X_test.shape)\n",
        "print(y_train.shape)\n",
        "print(y_test.shape)"
      ],
      "metadata": {
        "colab": {
          "base_uri": "https://localhost:8080/"
        },
        "id": "wzrlAhD78ndq",
        "outputId": "c9dec5a3-4746-46e3-d545-82f78548d183"
      },
      "execution_count": 51,
      "outputs": [
        {
          "output_type": "stream",
          "name": "stdout",
          "text": [
            "(1316, 64, 64, 3)\n",
            "(329, 64, 64, 3)\n",
            "(1316, 64, 64, 3)\n",
            "(329, 64, 64, 3)\n"
          ]
        }
      ]
    },
    {
      "cell_type": "code",
      "source": [
        "plt.imshow(X_train[1])"
      ],
      "metadata": {
        "id": "q2bpj5zp9Wss"
      },
      "execution_count": null,
      "outputs": []
    },
    {
      "cell_type": "code",
      "source": [
        "plt.imshow(y_train[1])"
      ],
      "metadata": {
        "id": "dNN1qo-u9fts"
      },
      "execution_count": null,
      "outputs": []
    },
    {
      "cell_type": "code",
      "source": [
        "IMAGE_SHAPE = (256,256)\n",
        "BATCH_SIZE = 32\n",
        "data_gen = ImageDataGenerator(rescale=(1/255.))\n",
        "\n",
        "train_data = data_gen.flow(\n",
        "    x = X_train,\n",
        "    y=y_train,\n",
        "    batch_size=BATCH_SIZE,\n",
        "    shuffle=False\n",
        ")\n",
        "\n",
        "test_data = data_gen.flow(\n",
        "    x = X_test,\n",
        "    y=y_test,\n",
        "    batch_size=BATCH_SIZE,\n",
        "    shuffle=False\n",
        ")"
      ],
      "metadata": {
        "id": "WovOhOQi9iT6"
      },
      "execution_count": 57,
      "outputs": []
    },
    {
      "cell_type": "code",
      "source": [
        "model.compile(optimizer=tf.keras.optimizers.Adam(learning_rate=0.001), loss='categorical_crossentropy', metrics=['accuracy'])"
      ],
      "metadata": {
        "id": "zICz1cCQ_VQB"
      },
      "execution_count": 86,
      "outputs": []
    },
    {
      "cell_type": "code",
      "source": [
        "history_1 = model.fit(\n",
        "                train_data,\n",
        "                epochs = 40,\n",
        "                validation_data=test_data\n",
        ")"
      ],
      "metadata": {
        "id": "Saay_ck0-dns"
      },
      "execution_count": null,
      "outputs": []
    },
    {
      "cell_type": "code",
      "source": [
        "xyz = np.reshape(data[465],(data.shape[1],data.shape[2],data.shape[3]))"
      ],
      "metadata": {
        "id": "waFXhrU2-puq"
      },
      "execution_count": 101,
      "outputs": []
    },
    {
      "cell_type": "code",
      "source": [
        "pree = cv2.resize(xyz, (256, 256))"
      ],
      "metadata": {
        "id": "AYg2ivRYABJF"
      },
      "execution_count": 89,
      "outputs": []
    },
    {
      "cell_type": "code",
      "source": [
        "image_from_array = Image.fromarray(xyz, 'RGB')\n",
        "size_change = image_from_array.resize((256, 256))"
      ],
      "metadata": {
        "id": "xds7AuJqBWT4"
      },
      "execution_count": 102,
      "outputs": []
    },
    {
      "cell_type": "code",
      "source": [
        "yelllow = np.array(size_change)"
      ],
      "metadata": {
        "id": "3FKkeT6WB4Gk"
      },
      "execution_count": 103,
      "outputs": []
    },
    {
      "cell_type": "code",
      "source": [
        "yelllow.shape"
      ],
      "metadata": {
        "colab": {
          "base_uri": "https://localhost:8080/"
        },
        "id": "VbjMQiACCDGB",
        "outputId": "35e2b788-a751-4ae9-b812-af9c0422d9fd"
      },
      "execution_count": 104,
      "outputs": [
        {
          "output_type": "execute_result",
          "data": {
            "text/plain": [
              "(256, 256, 3)"
            ]
          },
          "metadata": {},
          "execution_count": 104
        }
      ]
    },
    {
      "cell_type": "code",
      "source": [
        "finall = np.reshape(yelllow,(-1,yelllow.shape[0],yelllow.shape[1],yelllow.shape[2]))"
      ],
      "metadata": {
        "id": "NBesPgv_CK08"
      },
      "execution_count": 105,
      "outputs": []
    },
    {
      "cell_type": "code",
      "source": [
        "finall.shape"
      ],
      "metadata": {
        "colab": {
          "base_uri": "https://localhost:8080/"
        },
        "id": "15855_OACbY_",
        "outputId": "baefcd90-fad6-4a0d-88ab-3ecdca5bf8b9"
      },
      "execution_count": 106,
      "outputs": [
        {
          "output_type": "execute_result",
          "data": {
            "text/plain": [
              "(1, 256, 256, 3)"
            ]
          },
          "metadata": {},
          "execution_count": 106
        }
      ]
    },
    {
      "cell_type": "code",
      "source": [
        "my_pred = model.predict(finall/255.)"
      ],
      "metadata": {
        "colab": {
          "base_uri": "https://localhost:8080/"
        },
        "id": "0iim83GtCSTu",
        "outputId": "15355def-834d-43db-a9a3-369e43511fa0"
      },
      "execution_count": 107,
      "outputs": [
        {
          "output_type": "stream",
          "name": "stdout",
          "text": [
            "1/1 [==============================] - 0s 29ms/step\n"
          ]
        }
      ]
    },
    {
      "cell_type": "code",
      "source": [
        "plt.imshow(np.reshape(my_pred,(yelllow.shape[0],yelllow.shape[1],yelllow.shape[2])))"
      ],
      "metadata": {
        "colab": {
          "base_uri": "https://localhost:8080/",
          "height": 450
        },
        "id": "t6EKSCcRCdqE",
        "outputId": "d111f5bb-d2d3-453f-f633-73e08ea1e44b"
      },
      "execution_count": 108,
      "outputs": [
        {
          "output_type": "execute_result",
          "data": {
            "text/plain": [
              "<matplotlib.image.AxesImage at 0x7a6671072740>"
            ]
          },
          "metadata": {},
          "execution_count": 108
        },
        {
          "output_type": "display_data",
          "data": {
            "text/plain": [
              "<Figure size 640x480 with 1 Axes>"
            ],
            "image/png": "[encoded data removed]"
          },
          "metadata": {}
        }
      ]
    },
    {
      "cell_type": "code",
      "source": [
        "plt.imshow(yelllow)"
      ],
      "metadata": {
        "colab": {
          "base_uri": "https://localhost:8080/",
          "height": 450
        },
        "id": "5ik0N-dSCzEy",
        "outputId": "381d2d07-6644-4046-dc58-67efee833924"
      },
      "execution_count": 113,
      "outputs": [
        {
          "output_type": "execute_result",
          "data": {
            "text/plain": [
              "<matplotlib.image.AxesImage at 0x7a6670ef7a90>"
            ]
          },
          "metadata": {},
          "execution_count": 113
        },
        {
          "output_type": "display_data",
          "data": {
            "text/plain": [
              "<Figure size 640x480 with 1 Axes>"
            ],
            "image/png": "[encoded data removed]"
          },
          "metadata": {}
        }
      ]
    },
    {
      "cell_type": "markdown",
      "source": [
        "# Resnet"
      ],
      "metadata": {
        "id": "dSC6h_d6L9nn"
      }
    },
    {
      "cell_type": "code",
      "source": [
        "np.random.seed(42)\n",
        "s = np.arange(data.shape[0])\n",
        "np.random.shuffle(s)\n",
        "Data_r = data[s]\n",
        "labels = labels[s]"
      ],
      "metadata": {
        "id": "mPyErVBJC74v"
      },
      "execution_count": 115,
      "outputs": []
    },
    {
      "cell_type": "code",
      "source": [
        "resnet_url = 'https://tfhub.dev/google/imagenet/resnet_v2_50/feature_vector/5'"
      ],
      "metadata": {
        "id": "ubxebXawMsu_"
      },
      "execution_count": 116,
      "outputs": []
    },
    {
      "cell_type": "code",
      "source": [
        "IMAGE_SHAPE = (64,64)\n",
        "def create_model(model_url, num_classes=5):\n",
        "\n",
        "    feature_extraction_layer = hub.KerasLayer(model_url, trainable=False, name=\"feature_extraction\", input_shape=IMAGE_SHAPE+(3,))\n",
        "\n",
        "    # create our own model\n",
        "    model = Sequential()\n",
        "    model.add(feature_extraction_layer)\n",
        "    model.add(Dense(num_classes, activation='softmax', name='output'))\n",
        "\n",
        "    return model"
      ],
      "metadata": {
        "id": "hjLvQx3yM5GF"
      },
      "execution_count": 122,
      "outputs": []
    },
    {
      "cell_type": "code",
      "source": [
        "resnet_model = create_model(resnet_url)"
      ],
      "metadata": {
        "id": "6ckY1zRgM-Tg"
      },
      "execution_count": 123,
      "outputs": []
    },
    {
      "cell_type": "code",
      "source": [
        "resnet_model.compile(\n",
        "    optimizer='adam',\n",
        "    loss='categorical_crossentropy',\n",
        "    metrics=['accuracy'],\n",
        "    run_eagerly=True\n",
        ")\n"
      ],
      "metadata": {
        "id": "_Z8ZqJ6WNZsk"
      },
      "execution_count": 124,
      "outputs": []
    },
    {
      "cell_type": "code",
      "source": [
        "one_hot_labels = to_categorical(labels, num_classes=5)"
      ],
      "metadata": {
        "id": "Ia5pR8H0PmKO"
      },
      "execution_count": 133,
      "outputs": []
    },
    {
      "cell_type": "code",
      "source": [
        "X_train_r, X_test_r, y_train_r, y_test_r = train_test_split(Data_r, one_hot_labels, test_size = 0.2, random_state = 1)\n",
        "\n",
        "print(X_train_r.shape)\n",
        "print(X_test_r.shape)\n",
        "print(y_train_r.shape)\n",
        "print(y_test_r.shape)"
      ],
      "metadata": {
        "colab": {
          "base_uri": "https://localhost:8080/"
        },
        "id": "ixDMuLMSN294",
        "outputId": "6e7fabf0-6f05-494a-d3b0-0782ce35cdc0"
      },
      "execution_count": 136,
      "outputs": [
        {
          "output_type": "stream",
          "name": "stdout",
          "text": [
            "(1316, 64, 64, 3)\n",
            "(329, 64, 64, 3)\n",
            "(1316, 5)\n",
            "(329, 5)\n"
          ]
        }
      ]
    },
    {
      "cell_type": "code",
      "source": [
        "BATCH_SIZE = 32\n",
        "data_gen = ImageDataGenerator(rescale=(1/255.))\n",
        "\n",
        "train_data = data_gen.flow(\n",
        "    x = X_train_r,\n",
        "    y=y_train_r,\n",
        "    batch_size=BATCH_SIZE,\n",
        "    shuffle=False\n",
        ")\n",
        "\n",
        "test_data = data_gen.flow(\n",
        "    x = X_test_r,\n",
        "    y=y_test_r,\n",
        "    batch_size=BATCH_SIZE,\n",
        "    shuffle=False\n",
        ")"
      ],
      "metadata": {
        "id": "VQlINb-hOVsi"
      },
      "execution_count": 137,
      "outputs": []
    },
    {
      "cell_type": "code",
      "source": [
        "resnet_history = resnet_model.fit(\n",
        "    train_data,\n",
        "    validation_data=test_data,\n",
        "    epochs=10\n",
        ")"
      ],
      "metadata": {
        "colab": {
          "base_uri": "https://localhost:8080/"
        },
        "id": "NVbJQbSqO_H-",
        "outputId": "83982f65-c408-46af-acd5-4f0e8940b22f"
      },
      "execution_count": 138,
      "outputs": [
        {
          "output_type": "stream",
          "name": "stdout",
          "text": [
            "Epoch 1/10\n",
            "42/42 [==============================] - 37s 108ms/step - loss: 0.9976 - accuracy: 0.6216 - val_loss: 0.6732 - val_accuracy: 0.7295\n",
            "Epoch 2/10\n",
            "42/42 [==============================] - 3s 80ms/step - loss: 0.5070 - accuracy: 0.8100 - val_loss: 0.5794 - val_accuracy: 0.7599\n",
            "Epoch 3/10\n",
            "42/42 [==============================] - 3s 77ms/step - loss: 0.3971 - accuracy: 0.8579 - val_loss: 0.5397 - val_accuracy: 0.7751\n",
            "Epoch 4/10\n",
            "42/42 [==============================] - 3s 68ms/step - loss: 0.3340 - accuracy: 0.8860 - val_loss: 0.5153 - val_accuracy: 0.7903\n",
            "Epoch 5/10\n",
            "42/42 [==============================] - 3s 77ms/step - loss: 0.2976 - accuracy: 0.9065 - val_loss: 0.4903 - val_accuracy: 0.7903\n",
            "Epoch 6/10\n",
            "42/42 [==============================] - 3s 75ms/step - loss: 0.2550 - accuracy: 0.9286 - val_loss: 0.4907 - val_accuracy: 0.7994\n",
            "Epoch 7/10\n",
            "42/42 [==============================] - 3s 68ms/step - loss: 0.2294 - accuracy: 0.9324 - val_loss: 0.4840 - val_accuracy: 0.7994\n",
            "Epoch 8/10\n",
            "42/42 [==============================] - 3s 67ms/step - loss: 0.2056 - accuracy: 0.9453 - val_loss: 0.4770 - val_accuracy: 0.8146\n",
            "Epoch 9/10\n",
            "42/42 [==============================] - 3s 81ms/step - loss: 0.1853 - accuracy: 0.9536 - val_loss: 0.4810 - val_accuracy: 0.8024\n",
            "Epoch 10/10\n",
            "42/42 [==============================] - 3s 72ms/step - loss: 0.1678 - accuracy: 0.9612 - val_loss: 0.4786 - val_accuracy: 0.8085\n"
          ]
        }
      ]
    },
    {
      "cell_type": "code",
      "source": [
        "classifier_pred = resnet_model.predict(np.reshape(data[123], (-1, data.shape[1], data.shape[2], data.shape[3])))"
      ],
      "metadata": {
        "colab": {
          "base_uri": "https://localhost:8080/"
        },
        "id": "cbnAT0ExPebg",
        "outputId": "322b093d-ed87-4a7b-a042-dbbc637a5067"
      },
      "execution_count": 141,
      "outputs": [
        {
          "output_type": "stream",
          "name": "stdout",
          "text": [
            "1/1 [==============================] - 1s 845ms/step\n"
          ]
        }
      ]
    },
    {
      "cell_type": "code",
      "source": [
        "classifier_pred"
      ],
      "metadata": {
        "colab": {
          "base_uri": "https://localhost:8080/"
        },
        "id": "Ys3GeQCYP33U",
        "outputId": "702f8879-214a-4bef-c078-150d8bb5e6bc"
      },
      "execution_count": 145,
      "outputs": [
        {
          "output_type": "execute_result",
          "data": {
            "text/plain": [
              "array([[0., 0., 0., 1., 0.]], dtype=float32)"
            ]
          },
          "metadata": {},
          "execution_count": 145
        }
      ]
    },
    {
      "cell_type": "code",
      "source": [],
      "metadata": {
        "id": "nrSWQb7iRSJb"
      },
      "execution_count": 144,
      "outputs": []
    }
  ]
}