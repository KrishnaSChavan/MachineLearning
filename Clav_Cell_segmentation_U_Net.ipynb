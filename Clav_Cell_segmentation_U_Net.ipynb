{
  "nbformat": 4,
  "nbformat_minor": 0,
  "metadata": {
    "colab": {
      "provenance": [],
      "gpuType": "T4",
      "authorship_tag": "ABX9TyNiaerIovbZquIQH0HJwr3u",
      "include_colab_link": true
    },
    "kernelspec": {
      "name": "python3",
      "display_name": "Python 3"
    },
    "language_info": {
      "name": "python"
    },
    "accelerator": "GPU"
  },
  "cells": [
    {
      "cell_type": "markdown",
      "metadata": {
        "id": "view-in-github",
        "colab_type": "text"
      },
      "source": [
        "<a href=\"https://colab.research.google.com/github/KrishnaSChavan/MachineLearning/blob/main/Clav_Cell_segmentation_U_Net.ipynb\" target=\"_parent\"><img src=\"https://colab.research.google.com/assets/colab-badge.svg\" alt=\"Open In Colab\"/></a>"
      ]
    },
    {
      "cell_type": "code",
      "execution_count": 54,
      "metadata": {
        "id": "V4rqgMcKsT-r"
      },
      "outputs": [],
      "source": [
        "from tensorflow.keras.layers import Conv2D,BatchNormalization,Activation,MaxPool2D,Conv2DTranspose,Concatenate,Input\n",
        "from tensorflow.keras.models import Model\n",
        "import tensorflow as tf\n",
        "import pandas as pd\n",
        "import numpy as np\n",
        "import matplotlib.pyplot as plt\n",
        "import os\n",
        "from PIL import Image\n",
        "import cv2\n",
        "from tensorflow.keras.preprocessing.image import ImageDataGenerator\n",
        "from sklearn.utils import shuffle\n",
        "from sklearn.model_selection import train_test_split"
      ]
    },
    {
      "cell_type": "code",
      "source": [
        "from google. colab import files\n",
        "files.upload()"
      ],
      "metadata": {
        "colab": {
          "base_uri": "https://localhost:8080/",
          "height": 84
        },
        "id": "j7isNbq0tRGs",
        "outputId": "11f4781b-0c57-4e0d-d579-d6b6603ff749"
      },
      "execution_count": 2,
      "outputs": [
        {
          "output_type": "display_data",
          "data": {
            "text/plain": [
              "<IPython.core.display.HTML object>"
            ],
            "text/html": [
              "\n",
              "     <input type=\"file\" id=\"files-0e9ac697-a724-4f2c-a036-67ee50c75f67\" name=\"files[]\" multiple disabled\n",
              "        style=\"border:none\" />\n",
              "     <output id=\"result-0e9ac697-a724-4f2c-a036-67ee50c75f67\">\n",
              "      Upload widget is only available when the cell has been executed in the\n",
              "      current browser session. Please rerun this cell to enable.\n",
              "      </output>\n",
              "      <script>// Copyright 2017 Google LLC\n",
              "//\n",
              "// Licensed under the Apache License, Version 2.0 (the \"License\");\n",
              "// you may not use this file except in compliance with the License.\n",
              "// You may obtain a copy of the License at\n",
              "//\n",
              "//      http://www.apache.org/licenses/LICENSE-2.0\n",
              "//\n",
              "// Unless required by applicable law or agreed to in writing, software\n",
              "// distributed under the License is distributed on an \"AS IS\" BASIS,\n",
              "// WITHOUT WARRANTIES OR CONDITIONS OF ANY KIND, either express or implied.\n",
              "// See the License for the specific language governing permissions and\n",
              "// limitations under the License.\n",
              "\n",
              "/**\n",
              " * @fileoverview Helpers for google.colab Python module.\n",
              " */\n",
              "(function(scope) {\n",
              "function span(text, styleAttributes = {}) {\n",
              "  const element = document.createElement('span');\n",
              "  element.textContent = text;\n",
              "  for (const key of Object.keys(styleAttributes)) {\n",
              "    element.style[key] = styleAttributes[key];\n",
              "  }\n",
              "  return element;\n",
              "}\n",
              "\n",
              "// Max number of bytes which will be uploaded at a time.\n",
              "const MAX_PAYLOAD_SIZE = 100 * 1024;\n",
              "\n",
              "function _uploadFiles(inputId, outputId) {\n",
              "  const steps = uploadFilesStep(inputId, outputId);\n",
              "  const outputElement = document.getElementById(outputId);\n",
              "  // Cache steps on the outputElement to make it available for the next call\n",
              "  // to uploadFilesContinue from Python.\n",
              "  outputElement.steps = steps;\n",
              "\n",
              "  return _uploadFilesContinue(outputId);\n",
              "}\n",
              "\n",
              "// This is roughly an async generator (not supported in the browser yet),\n",
              "// where there are multiple asynchronous steps and the Python side is going\n",
              "// to poll for completion of each step.\n",
              "// This uses a Promise to block the python side on completion of each step,\n",
              "// then passes the result of the previous step as the input to the next step.\n",
              "function _uploadFilesContinue(outputId) {\n",
              "  const outputElement = document.getElementById(outputId);\n",
              "  const steps = outputElement.steps;\n",
              "\n",
              "  const next = steps.next(outputElement.lastPromiseValue);\n",
              "  return Promise.resolve(next.value.promise).then((value) => {\n",
              "    // Cache the last promise value to make it available to the next\n",
              "    // step of the generator.\n",
              "    outputElement.lastPromiseValue = value;\n",
              "    return next.value.response;\n",
              "  });\n",
              "}\n",
              "\n",
              "/**\n",
              " * Generator function which is called between each async step of the upload\n",
              " * process.\n",
              " * @param {string} inputId Element ID of the input file picker element.\n",
              " * @param {string} outputId Element ID of the output display.\n",
              " * @return {!Iterable<!Object>} Iterable of next steps.\n",
              " */\n",
              "function* uploadFilesStep(inputId, outputId) {\n",
              "  const inputElement = document.getElementById(inputId);\n",
              "  inputElement.disabled = false;\n",
              "\n",
              "  const outputElement = document.getElementById(outputId);\n",
              "  outputElement.innerHTML = '';\n",
              "\n",
              "  const pickedPromise = new Promise((resolve) => {\n",
              "    inputElement.addEventListener('change', (e) => {\n",
              "      resolve(e.target.files);\n",
              "    });\n",
              "  });\n",
              "\n",
              "  const cancel = document.createElement('button');\n",
              "  inputElement.parentElement.appendChild(cancel);\n",
              "  cancel.textContent = 'Cancel upload';\n",
              "  const cancelPromise = new Promise((resolve) => {\n",
              "    cancel.onclick = () => {\n",
              "      resolve(null);\n",
              "    };\n",
              "  });\n",
              "\n",
              "  // Wait for the user to pick the files.\n",
              "  const files = yield {\n",
              "    promise: Promise.race([pickedPromise, cancelPromise]),\n",
              "    response: {\n",
              "      action: 'starting',\n",
              "    }\n",
              "  };\n",
              "\n",
              "  cancel.remove();\n",
              "\n",
              "  // Disable the input element since further picks are not allowed.\n",
              "  inputElement.disabled = true;\n",
              "\n",
              "  if (!files) {\n",
              "    return {\n",
              "      response: {\n",
              "        action: 'complete',\n",
              "      }\n",
              "    };\n",
              "  }\n",
              "\n",
              "  for (const file of files) {\n",
              "    const li = document.createElement('li');\n",
              "    li.append(span(file.name, {fontWeight: 'bold'}));\n",
              "    li.append(span(\n",
              "        `(${file.type || 'n/a'}) - ${file.size} bytes, ` +\n",
              "        `last modified: ${\n",
              "            file.lastModifiedDate ? file.lastModifiedDate.toLocaleDateString() :\n",
              "                                    'n/a'} - `));\n",
              "    const percent = span('0% done');\n",
              "    li.appendChild(percent);\n",
              "\n",
              "    outputElement.appendChild(li);\n",
              "\n",
              "    const fileDataPromise = new Promise((resolve) => {\n",
              "      const reader = new FileReader();\n",
              "      reader.onload = (e) => {\n",
              "        resolve(e.target.result);\n",
              "      };\n",
              "      reader.readAsArrayBuffer(file);\n",
              "    });\n",
              "    // Wait for the data to be ready.\n",
              "    let fileData = yield {\n",
              "      promise: fileDataPromise,\n",
              "      response: {\n",
              "        action: 'continue',\n",
              "      }\n",
              "    };\n",
              "\n",
              "    // Use a chunked sending to avoid message size limits. See b/62115660.\n",
              "    let position = 0;\n",
              "    do {\n",
              "      const length = Math.min(fileData.byteLength - position, MAX_PAYLOAD_SIZE);\n",
              "      const chunk = new Uint8Array(fileData, position, length);\n",
              "      position += length;\n",
              "\n",
              "      const base64 = btoa(String.fromCharCode.apply(null, chunk));\n",
              "      yield {\n",
              "        response: {\n",
              "          action: 'append',\n",
              "          file: file.name,\n",
              "          data: base64,\n",
              "        },\n",
              "      };\n",
              "\n",
              "      let percentDone = fileData.byteLength === 0 ?\n",
              "          100 :\n",
              "          Math.round((position / fileData.byteLength) * 100);\n",
              "      percent.textContent = `${percentDone}% done`;\n",
              "\n",
              "    } while (position < fileData.byteLength);\n",
              "  }\n",
              "\n",
              "  // All done.\n",
              "  yield {\n",
              "    response: {\n",
              "      action: 'complete',\n",
              "    }\n",
              "  };\n",
              "}\n",
              "\n",
              "scope.google = scope.google || {};\n",
              "scope.google.colab = scope.google.colab || {};\n",
              "scope.google.colab._files = {\n",
              "  _uploadFiles,\n",
              "  _uploadFilesContinue,\n",
              "};\n",
              "})(self);\n",
              "</script> "
            ]
          },
          "metadata": {}
        },
        {
          "output_type": "stream",
          "name": "stdout",
          "text": [
            "Saving kaggle.json to kaggle.json\n"
          ]
        },
        {
          "output_type": "execute_result",
          "data": {
            "text/plain": [
              "{'kaggle.json': b'{\"username\":\"krishnaschavan\",\"key\":\"6f1c6fc054fb8d6259f3b6411ea6191e\"}'}"
            ]
          },
          "metadata": {},
          "execution_count": 2
        }
      ]
    },
    {
      "cell_type": "code",
      "source": [
        "!mkdir ~/.kaggle\n",
        "!cp kaggle.json ~/.kaggle/\n",
        "!chmod 600 ~/.kaggle/kaggle.json"
      ],
      "metadata": {
        "id": "-NlHgBfKtqPm"
      },
      "execution_count": 3,
      "outputs": []
    },
    {
      "cell_type": "code",
      "source": [
        "!kaggle datasets download -d prahladmehandiratta/cervical-cancer-largest-dataset-sipakmed"
      ],
      "metadata": {
        "colab": {
          "base_uri": "https://localhost:8080/"
        },
        "id": "WHUrHswstvs2",
        "outputId": "b092d5cf-2838-4c96-be52-770866eeda58"
      },
      "execution_count": 4,
      "outputs": [
        {
          "output_type": "stream",
          "name": "stdout",
          "text": [
            "Downloading cervical-cancer-largest-dataset-sipakmed.zip to /content\n",
            "100% 6.40G/6.40G [03:39<00:00, 23.3MB/s]\n",
            "100% 6.40G/6.40G [03:40<00:00, 31.2MB/s]\n"
          ]
        }
      ]
    },
    {
      "cell_type": "code",
      "source": [
        "import zipfile\n",
        "zip_r = zipfile.ZipFile('/content/cervical-cancer-largest-dataset-sipakmed.zip')\n",
        "zip_r.extractall()\n",
        "zip_r.close()"
      ],
      "metadata": {
        "id": "vKoip_N4t2Ue"
      },
      "execution_count": 5,
      "outputs": []
    },
    {
      "cell_type": "code",
      "source": [
        "one = \"/content/im_Dyskeratotic/im_Dyskeratotic/\"\n",
        "two = \"/content/im_Koilocytotic/im_Koilocytotic/\"\n",
        "three = \"/content/im_Metaplastic/im_Metaplastic/\"\n",
        "four = \"/content/im_Parabasal/im_Parabasal/CROPPED/\"\n",
        "five = \"/content/im_Superficial-Intermediate/im_Superficial-Intermediate/\""
      ],
      "metadata": {
        "id": "Wyb7vlADu0t2"
      },
      "execution_count": 6,
      "outputs": []
    },
    {
      "cell_type": "code",
      "source": [
        "path = [one,two,three,four,five]"
      ],
      "metadata": {
        "id": "e_IzfwDnvUBk"
      },
      "execution_count": 7,
      "outputs": []
    },
    {
      "cell_type": "code",
      "source": [
        "data = []\n",
        "labels = []\n",
        "height = 64\n",
        "width = 64\n",
        "channels = 3\n",
        "classes = 43\n",
        "n_inputs = height * width * channels\n",
        "\n",
        "i = 0\n",
        "for p in path:\n",
        "    Class=os.listdir(p)\n",
        "    for a in Class:\n",
        "        if(a[-1] == 'p'):\n",
        "            labels.append(i)\n",
        "            try:\n",
        "                print(p+a)\n",
        "\n",
        "                image=cv2.imread(p+a)\n",
        "\n",
        "\n",
        "                image_from_array = Image.fromarray(image, 'RGB')\n",
        "\n",
        "                size_image = image_from_array.resize((height, width))\n",
        "                data.append(np.array(size_image))\n",
        "            except:\n",
        "                print('')\n",
        "    i+=1"
      ],
      "metadata": {
        "id": "-JM7-JQPvWbf"
      },
      "execution_count": null,
      "outputs": []
    },
    {
      "cell_type": "code",
      "source": [
        "len(data)"
      ],
      "metadata": {
        "colab": {
          "base_uri": "https://localhost:8080/"
        },
        "id": "LB_KJq__wf8L",
        "outputId": "635dbf68-942d-45b7-9770-69ca143032dd"
      },
      "execution_count": 9,
      "outputs": [
        {
          "output_type": "execute_result",
          "data": {
            "text/plain": [
              "1645"
            ]
          },
          "metadata": {},
          "execution_count": 9
        }
      ]
    },
    {
      "cell_type": "code",
      "source": [
        "data = np.array(data)"
      ],
      "metadata": {
        "id": "yHDnE1wvyf3g"
      },
      "execution_count": 11,
      "outputs": []
    },
    {
      "cell_type": "code",
      "source": [
        "data.dtype,data.shape"
      ],
      "metadata": {
        "colab": {
          "base_uri": "https://localhost:8080/"
        },
        "id": "88o89KWLykIm",
        "outputId": "a954ae2b-4578-4e2b-fcaf-50f13b2d30ab"
      },
      "execution_count": 12,
      "outputs": [
        {
          "output_type": "execute_result",
          "data": {
            "text/plain": [
              "(dtype('uint8'), (1645, 64, 64, 3))"
            ]
          },
          "metadata": {},
          "execution_count": 12
        }
      ]
    },
    {
      "cell_type": "code",
      "source": [
        "def preprocess_image(image):\n",
        "\n",
        "    image_gray = cv2.cvtColor(image, cv2.COLOR_BGR2GRAY)\n",
        "\n",
        "\n",
        "    image_uint8 = cv2.convertScaleAbs(image_gray)\n",
        "\n",
        "\n",
        "    ret, thresh1 = cv2.threshold(image_uint8, 0, 255, cv2.THRESH_BINARY + cv2.THRESH_OTSU)\n",
        "\n",
        "    binary_image = np.expand_dims(thresh1, axis=-1)\n",
        "\n",
        "    return binary_image"
      ],
      "metadata": {
        "id": "_rg7mmjzypgF"
      },
      "execution_count": 21,
      "outputs": []
    },
    {
      "cell_type": "code",
      "source": [
        "mask = []\n",
        "\n",
        "for image in data:\n",
        "    binary_image = preprocess_image(image)\n",
        "    mask.append(binary_image)"
      ],
      "metadata": {
        "id": "JIAC_ZOQzMJI"
      },
      "execution_count": 22,
      "outputs": []
    },
    {
      "cell_type": "code",
      "source": [
        "mask = np.array(mask)"
      ],
      "metadata": {
        "id": "BBWc1tF22sqX"
      },
      "execution_count": 28,
      "outputs": []
    },
    {
      "cell_type": "code",
      "source": [
        "data.dtype"
      ],
      "metadata": {
        "colab": {
          "base_uri": "https://localhost:8080/"
        },
        "id": "RI0RWuCx1Y5k",
        "outputId": "b452f6ca-a390-49e4-96d6-a5e86c5a08eb"
      },
      "execution_count": 26,
      "outputs": [
        {
          "output_type": "execute_result",
          "data": {
            "text/plain": [
              "dtype('uint8')"
            ]
          },
          "metadata": {},
          "execution_count": 26
        }
      ]
    },
    {
      "cell_type": "code",
      "source": [
        "mask.dtype"
      ],
      "metadata": {
        "colab": {
          "base_uri": "https://localhost:8080/"
        },
        "id": "eJiL2Stz2pGr",
        "outputId": "32c2e854-4554-463d-f3e4-f71e14ee5115"
      },
      "execution_count": 29,
      "outputs": [
        {
          "output_type": "execute_result",
          "data": {
            "text/plain": [
              "dtype('uint8')"
            ]
          },
          "metadata": {},
          "execution_count": 29
        }
      ]
    },
    {
      "cell_type": "code",
      "source": [
        "data.shape"
      ],
      "metadata": {
        "colab": {
          "base_uri": "https://localhost:8080/"
        },
        "id": "AYSdsc2C2qhP",
        "outputId": "a1b18a7a-6ad3-4844-8e3d-c9aae32d4ff7"
      },
      "execution_count": 30,
      "outputs": [
        {
          "output_type": "execute_result",
          "data": {
            "text/plain": [
              "(1645, 64, 64, 3)"
            ]
          },
          "metadata": {},
          "execution_count": 30
        }
      ]
    },
    {
      "cell_type": "code",
      "source": [
        "mask.shape"
      ],
      "metadata": {
        "colab": {
          "base_uri": "https://localhost:8080/"
        },
        "id": "rEUStJKR2xr3",
        "outputId": "2cc7fb98-8364-4c58-d957-f75b70ccaec1"
      },
      "execution_count": 31,
      "outputs": [
        {
          "output_type": "execute_result",
          "data": {
            "text/plain": [
              "(1645, 64, 64, 1)"
            ]
          },
          "metadata": {},
          "execution_count": 31
        }
      ]
    },
    {
      "cell_type": "code",
      "source": [
        "data_three_channels = np.repeat(mask[1:5], 3, axis=-1)"
      ],
      "metadata": {
        "id": "6-e8UW3A2y0t"
      },
      "execution_count": 33,
      "outputs": []
    },
    {
      "cell_type": "code",
      "source": [
        "data_three_channels.shape"
      ],
      "metadata": {
        "colab": {
          "base_uri": "https://localhost:8080/"
        },
        "id": "JKkp7f2d4wfP",
        "outputId": "cad30506-271f-453b-c247-eb0a92508401"
      },
      "execution_count": 35,
      "outputs": [
        {
          "output_type": "execute_result",
          "data": {
            "text/plain": [
              "(4, 64, 64, 3)"
            ]
          },
          "metadata": {},
          "execution_count": 35
        }
      ]
    },
    {
      "cell_type": "code",
      "source": [
        "def conv_block(inputs,num_filters):\n",
        "    x = Conv2D(num_filters,3,padding='same')(inputs)\n",
        "    x = BatchNormalization()(x)\n",
        "    x = Activation('relu')(x)\n",
        "\n",
        "\n",
        "    x = Conv2D(num_filters,3,padding='same')(inputs)\n",
        "    x = BatchNormalization()(x)\n",
        "    x = Activation('relu')(x)\n",
        "\n",
        "    return x\n",
        "\n",
        "def encoder(inputs,num_filters):\n",
        "    x = conv_block(inputs,num_filters)\n",
        "    p = MaxPool2D((2,2))(x)\n",
        "\n",
        "    return x,p\n",
        "def decoder(inputs,skip_features,num_filters):\n",
        "    x = Conv2DTranspose(num_filters,(2,2),strides=2,padding='same')(inputs)\n",
        "    x = Concatenate()([x,skip_features])\n",
        "    x = conv_block(x,num_filters)\n",
        "\n",
        "    return x"
      ],
      "metadata": {
        "id": "UDe_4JXj5gJV"
      },
      "execution_count": 41,
      "outputs": []
    },
    {
      "cell_type": "code",
      "source": [
        "def unet(input_shape):\n",
        "    inputs = Input(input_shape)\n",
        "\n",
        "    # encoders\n",
        "    s0,p0 = encoder(inputs,32)\n",
        "    s1,p1 = encoder(p0,64)   # p = 256\n",
        "    s2,p2 = encoder(p1,128)      # p = 128\n",
        "    s3,p3 = encoder(p2,256)      # p = 64\n",
        "    s4,p4 = encoder(p3,512)      # p = 32\n",
        "\n",
        "    # Bridge\n",
        "    b1 = conv_block(p4,1024)\n",
        "\n",
        "    #decoder\n",
        "\n",
        "    d1 = decoder(b1,s4,512)      # p = 32\n",
        "    d2 = decoder(d1,s3,256)      # p = 64\n",
        "    d3 = decoder(d2,s2,128)      # p = 128\n",
        "    d4 = decoder(d3,s1,64)       # p = 256\n",
        "    d5 = decoder(d4,s0,32)\n",
        "\n",
        "    #output\n",
        "\n",
        "    outputs = Conv2D(3,(1,1),padding=\"same\",activation = \"sigmoid\")(d5)\n",
        "\n",
        "    model = Model(inputs,outputs,name='U-Net')\n",
        "\n",
        "    return model"
      ],
      "metadata": {
        "id": "lwS9lb8454Q1"
      },
      "execution_count": 42,
      "outputs": []
    },
    {
      "cell_type": "code",
      "source": [
        "input_shape = (256,256,3)\n",
        "model = unet(input_shape=input_shape)"
      ],
      "metadata": {
        "id": "-bl8c5aF56_M"
      },
      "execution_count": 43,
      "outputs": []
    },
    {
      "cell_type": "code",
      "source": [
        "np.random.seed(42)\n",
        "s = np.arange(data.shape[0])\n",
        "np.random.shuffle(s)\n",
        "Data = data[s]\n",
        "Mask = mask[s]"
      ],
      "metadata": {
        "id": "cJJtQP5x6Z2n"
      },
      "execution_count": 45,
      "outputs": []
    },
    {
      "cell_type": "code",
      "source": [
        "Mask_3 = np.repeat(Mask, 3, axis=-1)"
      ],
      "metadata": {
        "id": "YO3FIDDc8Lli"
      },
      "execution_count": 47,
      "outputs": []
    },
    {
      "cell_type": "code",
      "source": [
        "Mask_3.shape"
      ],
      "metadata": {
        "colab": {
          "base_uri": "https://localhost:8080/"
        },
        "id": "XT7alj8X8cWT",
        "outputId": "64bd613e-b78f-47fd-a3d1-66319fc27828"
      },
      "execution_count": 48,
      "outputs": [
        {
          "output_type": "execute_result",
          "data": {
            "text/plain": [
              "(1645, 64, 64, 3)"
            ]
          },
          "metadata": {},
          "execution_count": 48
        }
      ]
    },
    {
      "cell_type": "code",
      "source": [
        "plt.imshow(Mask_3[1])"
      ],
      "metadata": {
        "id": "7pFDDnMZ8eSr"
      },
      "execution_count": null,
      "outputs": []
    },
    {
      "cell_type": "code",
      "source": [
        "plt.imshow(Data[1])"
      ],
      "metadata": {
        "id": "VEr4eTp28mAm"
      },
      "execution_count": null,
      "outputs": []
    },
    {
      "cell_type": "code",
      "source": [
        "X_train, X_test, y_train, y_test = train_test_split(Data, Mask_3, test_size = 0.2, random_state = 1)\n",
        "\n",
        "print(X_train.shape)\n",
        "print(X_test.shape)\n",
        "print(y_train.shape)\n",
        "print(y_test.shape)"
      ],
      "metadata": {
        "colab": {
          "base_uri": "https://localhost:8080/"
        },
        "id": "wzrlAhD78ndq",
        "outputId": "c9dec5a3-4746-46e3-d545-82f78548d183"
      },
      "execution_count": 51,
      "outputs": [
        {
          "output_type": "stream",
          "name": "stdout",
          "text": [
            "(1316, 64, 64, 3)\n",
            "(329, 64, 64, 3)\n",
            "(1316, 64, 64, 3)\n",
            "(329, 64, 64, 3)\n"
          ]
        }
      ]
    },
    {
      "cell_type": "code",
      "source": [
        "plt.imshow(X_train[1])"
      ],
      "metadata": {
        "id": "q2bpj5zp9Wss"
      },
      "execution_count": null,
      "outputs": []
    },
    {
      "cell_type": "code",
      "source": [
        "plt.imshow(y_train[1])"
      ],
      "metadata": {
        "id": "dNN1qo-u9fts"
      },
      "execution_count": null,
      "outputs": []
    },
    {
      "cell_type": "code",
      "source": [
        "IMAGE_SHAPE = (256,256)\n",
        "BATCH_SIZE = 32\n",
        "data_gen = ImageDataGenerator(rescale=(1/255.))\n",
        "\n",
        "train_data = data_gen.flow(\n",
        "    x = X_train,\n",
        "    y=y_train,\n",
        "    batch_size=BATCH_SIZE,\n",
        "    shuffle=False\n",
        ")\n",
        "\n",
        "test_data = data_gen.flow(\n",
        "    x = X_test,\n",
        "    y=y_test,\n",
        "    batch_size=BATCH_SIZE,\n",
        "    shuffle=False\n",
        ")"
      ],
      "metadata": {
        "id": "WovOhOQi9iT6"
      },
      "execution_count": 57,
      "outputs": []
    },
    {
      "cell_type": "code",
      "source": [
        "model.compile(optimizer=tf.keras.optimizers.Adam(learning_rate=0.001), loss='categorical_crossentropy', metrics=['accuracy'])"
      ],
      "metadata": {
        "id": "zICz1cCQ_VQB"
      },
      "execution_count": 86,
      "outputs": []
    },
    {
      "cell_type": "code",
      "source": [
        "history_1 = model.fit(\n",
        "                train_data,\n",
        "                epochs = 40,\n",
        "                validation_data=test_data\n",
        ")"
      ],
      "metadata": {
        "colab": {
          "base_uri": "https://localhost:8080/"
        },
        "id": "Saay_ck0-dns",
        "outputId": "6d277471-0374-4751-f481-1d1f7227d863"
      },
      "execution_count": 87,
      "outputs": [
        {
          "output_type": "stream",
          "name": "stdout",
          "text": [
            "Epoch 1/40\n",
            "42/42 [==============================] - 10s 67ms/step - loss: 952.6008 - accuracy: 0.4590 - val_loss: 1734.0502 - val_accuracy: 0.9662\n",
            "Epoch 2/40\n",
            "42/42 [==============================] - 2s 58ms/step - loss: 959.5468 - accuracy: 0.2519 - val_loss: 664.6031 - val_accuracy: 0.6870\n",
            "Epoch 3/40\n",
            "42/42 [==============================] - 2s 50ms/step - loss: 1032.1859 - accuracy: 0.3378 - val_loss: 831.5042 - val_accuracy: 0.5275\n",
            "Epoch 4/40\n",
            "42/42 [==============================] - 2s 49ms/step - loss: 1003.9819 - accuracy: 0.3055 - val_loss: 629.1127 - val_accuracy: 0.9607\n",
            "Epoch 5/40\n",
            "42/42 [==============================] - 2s 49ms/step - loss: 999.2949 - accuracy: 0.3840 - val_loss: 584.6249 - val_accuracy: 0.9350\n",
            "Epoch 6/40\n",
            "42/42 [==============================] - 2s 49ms/step - loss: 1008.8787 - accuracy: 0.3908 - val_loss: 611.0878 - val_accuracy: 0.8176\n",
            "Epoch 7/40\n",
            "42/42 [==============================] - 2s 49ms/step - loss: 1036.2766 - accuracy: 0.3810 - val_loss: 725.1825 - val_accuracy: 0.6780\n",
            "Epoch 8/40\n",
            "42/42 [==============================] - 2s 56ms/step - loss: 1065.7412 - accuracy: 0.3795 - val_loss: 668.5036 - val_accuracy: 0.7106\n",
            "Epoch 9/40\n",
            "42/42 [==============================] - 2s 51ms/step - loss: 1083.0840 - accuracy: 0.3920 - val_loss: 913.0662 - val_accuracy: 0.5314\n",
            "Epoch 10/40\n",
            "42/42 [==============================] - 2s 49ms/step - loss: 1109.5527 - accuracy: 0.3912 - val_loss: 759.8239 - val_accuracy: 0.6494\n",
            "Epoch 11/40\n",
            "42/42 [==============================] - 2s 50ms/step - loss: 1115.8611 - accuracy: 0.3866 - val_loss: 715.2682 - val_accuracy: 0.6685\n",
            "Epoch 12/40\n",
            "42/42 [==============================] - 2s 49ms/step - loss: 1136.3521 - accuracy: 0.3814 - val_loss: 859.2593 - val_accuracy: 0.6169\n",
            "Epoch 13/40\n",
            "42/42 [==============================] - 2s 49ms/step - loss: 1162.0211 - accuracy: 0.3780 - val_loss: 845.7469 - val_accuracy: 0.6389\n",
            "Epoch 14/40\n",
            "42/42 [==============================] - 2s 53ms/step - loss: 1190.6907 - accuracy: 0.3765 - val_loss: 1071.8289 - val_accuracy: 0.4482\n",
            "Epoch 15/40\n",
            "42/42 [==============================] - 2s 52ms/step - loss: 1221.3242 - accuracy: 0.3759 - val_loss: 895.4370 - val_accuracy: 0.5331\n",
            "Epoch 16/40\n",
            "42/42 [==============================] - 2s 50ms/step - loss: 1253.7216 - accuracy: 0.3730 - val_loss: 942.8318 - val_accuracy: 0.6149\n",
            "Epoch 17/40\n",
            "42/42 [==============================] - 2s 50ms/step - loss: 1287.8375 - accuracy: 0.3701 - val_loss: 1082.7468 - val_accuracy: 0.4949\n",
            "Epoch 18/40\n",
            "42/42 [==============================] - 2s 50ms/step - loss: 1324.7654 - accuracy: 0.3666 - val_loss: 988.3176 - val_accuracy: 0.4605\n",
            "Epoch 19/40\n",
            "42/42 [==============================] - 2s 50ms/step - loss: 1361.1345 - accuracy: 0.3646 - val_loss: 1258.9437 - val_accuracy: 0.4374\n",
            "Epoch 20/40\n",
            "42/42 [==============================] - 3s 69ms/step - loss: 1399.0375 - accuracy: 0.3627 - val_loss: 1254.6338 - val_accuracy: 0.4031\n",
            "Epoch 21/40\n",
            "42/42 [==============================] - 3s 61ms/step - loss: 1437.3729 - accuracy: 0.3611 - val_loss: 1398.3452 - val_accuracy: 0.3758\n",
            "Epoch 22/40\n",
            "42/42 [==============================] - 2s 53ms/step - loss: 1476.4537 - accuracy: 0.3629 - val_loss: 1261.6299 - val_accuracy: 0.3958\n",
            "Epoch 23/40\n",
            "42/42 [==============================] - 2s 50ms/step - loss: 1516.1520 - accuracy: 0.3593 - val_loss: 1206.3152 - val_accuracy: 0.4754\n",
            "Epoch 24/40\n",
            "42/42 [==============================] - 2s 50ms/step - loss: 1557.0170 - accuracy: 0.3578 - val_loss: 1494.7787 - val_accuracy: 0.3834\n",
            "Epoch 25/40\n",
            "42/42 [==============================] - 2s 50ms/step - loss: 1599.4122 - accuracy: 0.3576 - val_loss: 1518.3271 - val_accuracy: 0.3601\n",
            "Epoch 26/40\n",
            "42/42 [==============================] - 2s 51ms/step - loss: 1640.0266 - accuracy: 0.3579 - val_loss: 1565.6984 - val_accuracy: 0.3813\n",
            "Epoch 27/40\n",
            "42/42 [==============================] - 3s 63ms/step - loss: 1682.2111 - accuracy: 0.3568 - val_loss: 1444.0631 - val_accuracy: 0.4071\n",
            "Epoch 28/40\n",
            "42/42 [==============================] - 2s 54ms/step - loss: 1725.6992 - accuracy: 0.3555 - val_loss: 1537.5624 - val_accuracy: 0.3997\n",
            "Epoch 29/40\n",
            "42/42 [==============================] - 2s 51ms/step - loss: 1767.5342 - accuracy: 0.3558 - val_loss: 1600.0546 - val_accuracy: 0.4241\n",
            "Epoch 30/40\n",
            "42/42 [==============================] - 2s 50ms/step - loss: 1811.6332 - accuracy: 0.3543 - val_loss: 1573.7814 - val_accuracy: 0.3818\n",
            "Epoch 31/40\n",
            "42/42 [==============================] - 2s 51ms/step - loss: 1853.5724 - accuracy: 0.3538 - val_loss: 1741.5323 - val_accuracy: 0.3938\n",
            "Epoch 32/40\n",
            "42/42 [==============================] - 2s 51ms/step - loss: 1895.6605 - accuracy: 0.3541 - val_loss: 1787.1924 - val_accuracy: 0.3964\n",
            "Epoch 33/40\n",
            "42/42 [==============================] - 2s 56ms/step - loss: 1940.7308 - accuracy: 0.3538 - val_loss: 1654.5940 - val_accuracy: 0.4115\n",
            "Epoch 34/40\n",
            "42/42 [==============================] - 2s 58ms/step - loss: 1981.7852 - accuracy: 0.3529 - val_loss: 1801.6305 - val_accuracy: 0.4279\n",
            "Epoch 35/40\n",
            "42/42 [==============================] - 3s 60ms/step - loss: 2026.2545 - accuracy: 0.3537 - val_loss: 1989.7018 - val_accuracy: 0.3550\n",
            "Epoch 36/40\n",
            "42/42 [==============================] - 2s 53ms/step - loss: 2069.5383 - accuracy: 0.3526 - val_loss: 1934.9711 - val_accuracy: 0.3630\n",
            "Epoch 37/40\n",
            "42/42 [==============================] - 2s 52ms/step - loss: 2114.1692 - accuracy: 0.3530 - val_loss: 2019.3173 - val_accuracy: 0.3948\n",
            "Epoch 38/40\n",
            "42/42 [==============================] - 2s 51ms/step - loss: 2158.0308 - accuracy: 0.3527 - val_loss: 2133.0510 - val_accuracy: 0.4007\n",
            "Epoch 39/40\n",
            "42/42 [==============================] - 2s 56ms/step - loss: 2202.5637 - accuracy: 0.3522 - val_loss: 2027.8448 - val_accuracy: 0.3958\n",
            "Epoch 40/40\n",
            "42/42 [==============================] - 2s 56ms/step - loss: 2248.2764 - accuracy: 0.2929 - val_loss: 2058.0417 - val_accuracy: 6.0924e-04\n"
          ]
        }
      ]
    },
    {
      "cell_type": "code",
      "source": [
        "model.predict(data[1]/255.)"
      ],
      "metadata": {
        "colab": {
          "base_uri": "https://localhost:8080/",
          "height": 556
        },
        "id": "2rvkrSrV-nUO",
        "outputId": "bdfea37b-5092-4e32-b663-65c9988c09dd"
      },
      "execution_count": 63,
      "outputs": [
        {
          "output_type": "error",
          "ename": "ValueError",
          "evalue": "ignored",
          "traceback": [
            "\u001b[0;31m---------------------------------------------------------------------------\u001b[0m",
            "\u001b[0;31mValueError\u001b[0m                                Traceback (most recent call last)",
            "\u001b[0;32m<ipython-input-63-6170a91a19bc>\u001b[0m in \u001b[0;36m<cell line: 1>\u001b[0;34m()\u001b[0m\n\u001b[0;32m----> 1\u001b[0;31m \u001b[0mmodel\u001b[0m\u001b[0;34m.\u001b[0m\u001b[0mpredict\u001b[0m\u001b[0;34m(\u001b[0m\u001b[0mdata\u001b[0m\u001b[0;34m[\u001b[0m\u001b[0;36m1\u001b[0m\u001b[0;34m]\u001b[0m\u001b[0;34m/\u001b[0m\u001b[0;36m255.\u001b[0m\u001b[0;34m)\u001b[0m\u001b[0;34m\u001b[0m\u001b[0;34m\u001b[0m\u001b[0m\n\u001b[0m",
            "\u001b[0;32m/usr/local/lib/python3.10/dist-packages/keras/src/utils/traceback_utils.py\u001b[0m in \u001b[0;36merror_handler\u001b[0;34m(*args, **kwargs)\u001b[0m\n\u001b[1;32m     68\u001b[0m             \u001b[0;31m# To get the full stack trace, call:\u001b[0m\u001b[0;34m\u001b[0m\u001b[0;34m\u001b[0m\u001b[0m\n\u001b[1;32m     69\u001b[0m             \u001b[0;31m# `tf.debugging.disable_traceback_filtering()`\u001b[0m\u001b[0;34m\u001b[0m\u001b[0;34m\u001b[0m\u001b[0m\n\u001b[0;32m---> 70\u001b[0;31m             \u001b[0;32mraise\u001b[0m \u001b[0me\u001b[0m\u001b[0;34m.\u001b[0m\u001b[0mwith_traceback\u001b[0m\u001b[0;34m(\u001b[0m\u001b[0mfiltered_tb\u001b[0m\u001b[0;34m)\u001b[0m \u001b[0;32mfrom\u001b[0m \u001b[0;32mNone\u001b[0m\u001b[0;34m\u001b[0m\u001b[0;34m\u001b[0m\u001b[0m\n\u001b[0m\u001b[1;32m     71\u001b[0m         \u001b[0;32mfinally\u001b[0m\u001b[0;34m:\u001b[0m\u001b[0;34m\u001b[0m\u001b[0;34m\u001b[0m\u001b[0m\n\u001b[1;32m     72\u001b[0m             \u001b[0;32mdel\u001b[0m \u001b[0mfiltered_tb\u001b[0m\u001b[0;34m\u001b[0m\u001b[0;34m\u001b[0m\u001b[0m\n",
            "\u001b[0;32m/usr/local/lib/python3.10/dist-packages/keras/src/engine/training.py\u001b[0m in \u001b[0;36mtf__predict_function\u001b[0;34m(iterator)\u001b[0m\n\u001b[1;32m     13\u001b[0m                 \u001b[0;32mtry\u001b[0m\u001b[0;34m:\u001b[0m\u001b[0;34m\u001b[0m\u001b[0;34m\u001b[0m\u001b[0m\n\u001b[1;32m     14\u001b[0m                     \u001b[0mdo_return\u001b[0m \u001b[0;34m=\u001b[0m \u001b[0;32mTrue\u001b[0m\u001b[0;34m\u001b[0m\u001b[0;34m\u001b[0m\u001b[0m\n\u001b[0;32m---> 15\u001b[0;31m                     \u001b[0mretval_\u001b[0m \u001b[0;34m=\u001b[0m \u001b[0mag__\u001b[0m\u001b[0;34m.\u001b[0m\u001b[0mconverted_call\u001b[0m\u001b[0;34m(\u001b[0m\u001b[0mag__\u001b[0m\u001b[0;34m.\u001b[0m\u001b[0mld\u001b[0m\u001b[0;34m(\u001b[0m\u001b[0mstep_function\u001b[0m\u001b[0;34m)\u001b[0m\u001b[0;34m,\u001b[0m \u001b[0;34m(\u001b[0m\u001b[0mag__\u001b[0m\u001b[0;34m.\u001b[0m\u001b[0mld\u001b[0m\u001b[0;34m(\u001b[0m\u001b[0mself\u001b[0m\u001b[0;34m)\u001b[0m\u001b[0;34m,\u001b[0m \u001b[0mag__\u001b[0m\u001b[0;34m.\u001b[0m\u001b[0mld\u001b[0m\u001b[0;34m(\u001b[0m\u001b[0miterator\u001b[0m\u001b[0;34m)\u001b[0m\u001b[0;34m)\u001b[0m\u001b[0;34m,\u001b[0m \u001b[0;32mNone\u001b[0m\u001b[0;34m,\u001b[0m \u001b[0mfscope\u001b[0m\u001b[0;34m)\u001b[0m\u001b[0;34m\u001b[0m\u001b[0;34m\u001b[0m\u001b[0m\n\u001b[0m\u001b[1;32m     16\u001b[0m                 \u001b[0;32mexcept\u001b[0m\u001b[0;34m:\u001b[0m\u001b[0;34m\u001b[0m\u001b[0;34m\u001b[0m\u001b[0m\n\u001b[1;32m     17\u001b[0m                     \u001b[0mdo_return\u001b[0m \u001b[0;34m=\u001b[0m \u001b[0;32mFalse\u001b[0m\u001b[0;34m\u001b[0m\u001b[0;34m\u001b[0m\u001b[0m\n",
            "\u001b[0;31mValueError\u001b[0m: in user code:\n\n    File \"/usr/local/lib/python3.10/dist-packages/keras/src/engine/training.py\", line 2416, in predict_function  *\n        return step_function(self, iterator)\n    File \"/usr/local/lib/python3.10/dist-packages/keras/src/engine/training.py\", line 2401, in step_function  **\n        outputs = model.distribute_strategy.run(run_step, args=(data,))\n    File \"/usr/local/lib/python3.10/dist-packages/keras/src/engine/training.py\", line 2389, in run_step  **\n        outputs = model.predict_step(data)\n    File \"/usr/local/lib/python3.10/dist-packages/keras/src/engine/training.py\", line 2357, in predict_step\n        return self(x, training=False)\n    File \"/usr/local/lib/python3.10/dist-packages/keras/src/utils/traceback_utils.py\", line 70, in error_handler\n        raise e.with_traceback(filtered_tb) from None\n    File \"/usr/local/lib/python3.10/dist-packages/keras/src/engine/input_spec.py\", line 298, in assert_input_compatibility\n        raise ValueError(\n\n    ValueError: Input 0 of layer \"U-Net\" is incompatible with the layer: expected shape=(None, 256, 256, 3), found shape=(32, 64, 3)\n"
          ]
        }
      ]
    },
    {
      "cell_type": "code",
      "source": [
        "xyz = np.reshape(data[123],(data.shape[1],data.shape[2],data.shape[3]))"
      ],
      "metadata": {
        "id": "waFXhrU2-puq"
      },
      "execution_count": 88,
      "outputs": []
    },
    {
      "cell_type": "code",
      "source": [
        "model.predict(xyz/255.)"
      ],
      "metadata": {
        "colab": {
          "base_uri": "https://localhost:8080/",
          "height": 556
        },
        "id": "Ugp3RWxX_5Zb",
        "outputId": "b3c222ec-9cf6-4013-83de-441c8de9f4fb"
      },
      "execution_count": 66,
      "outputs": [
        {
          "output_type": "error",
          "ename": "ValueError",
          "evalue": "ignored",
          "traceback": [
            "\u001b[0;31m---------------------------------------------------------------------------\u001b[0m",
            "\u001b[0;31mValueError\u001b[0m                                Traceback (most recent call last)",
            "\u001b[0;32m<ipython-input-66-b2aad0118181>\u001b[0m in \u001b[0;36m<cell line: 1>\u001b[0;34m()\u001b[0m\n\u001b[0;32m----> 1\u001b[0;31m \u001b[0mmodel\u001b[0m\u001b[0;34m.\u001b[0m\u001b[0mpredict\u001b[0m\u001b[0;34m(\u001b[0m\u001b[0mxyz\u001b[0m\u001b[0;34m/\u001b[0m\u001b[0;36m255.\u001b[0m\u001b[0;34m)\u001b[0m\u001b[0;34m\u001b[0m\u001b[0;34m\u001b[0m\u001b[0m\n\u001b[0m",
            "\u001b[0;32m/usr/local/lib/python3.10/dist-packages/keras/src/utils/traceback_utils.py\u001b[0m in \u001b[0;36merror_handler\u001b[0;34m(*args, **kwargs)\u001b[0m\n\u001b[1;32m     68\u001b[0m             \u001b[0;31m# To get the full stack trace, call:\u001b[0m\u001b[0;34m\u001b[0m\u001b[0;34m\u001b[0m\u001b[0m\n\u001b[1;32m     69\u001b[0m             \u001b[0;31m# `tf.debugging.disable_traceback_filtering()`\u001b[0m\u001b[0;34m\u001b[0m\u001b[0;34m\u001b[0m\u001b[0m\n\u001b[0;32m---> 70\u001b[0;31m             \u001b[0;32mraise\u001b[0m \u001b[0me\u001b[0m\u001b[0;34m.\u001b[0m\u001b[0mwith_traceback\u001b[0m\u001b[0;34m(\u001b[0m\u001b[0mfiltered_tb\u001b[0m\u001b[0;34m)\u001b[0m \u001b[0;32mfrom\u001b[0m \u001b[0;32mNone\u001b[0m\u001b[0;34m\u001b[0m\u001b[0;34m\u001b[0m\u001b[0m\n\u001b[0m\u001b[1;32m     71\u001b[0m         \u001b[0;32mfinally\u001b[0m\u001b[0;34m:\u001b[0m\u001b[0;34m\u001b[0m\u001b[0;34m\u001b[0m\u001b[0m\n\u001b[1;32m     72\u001b[0m             \u001b[0;32mdel\u001b[0m \u001b[0mfiltered_tb\u001b[0m\u001b[0;34m\u001b[0m\u001b[0;34m\u001b[0m\u001b[0m\n",
            "\u001b[0;32m/usr/local/lib/python3.10/dist-packages/keras/src/engine/training.py\u001b[0m in \u001b[0;36mtf__predict_function\u001b[0;34m(iterator)\u001b[0m\n\u001b[1;32m     13\u001b[0m                 \u001b[0;32mtry\u001b[0m\u001b[0;34m:\u001b[0m\u001b[0;34m\u001b[0m\u001b[0;34m\u001b[0m\u001b[0m\n\u001b[1;32m     14\u001b[0m                     \u001b[0mdo_return\u001b[0m \u001b[0;34m=\u001b[0m \u001b[0;32mTrue\u001b[0m\u001b[0;34m\u001b[0m\u001b[0;34m\u001b[0m\u001b[0m\n\u001b[0;32m---> 15\u001b[0;31m                     \u001b[0mretval_\u001b[0m \u001b[0;34m=\u001b[0m \u001b[0mag__\u001b[0m\u001b[0;34m.\u001b[0m\u001b[0mconverted_call\u001b[0m\u001b[0;34m(\u001b[0m\u001b[0mag__\u001b[0m\u001b[0;34m.\u001b[0m\u001b[0mld\u001b[0m\u001b[0;34m(\u001b[0m\u001b[0mstep_function\u001b[0m\u001b[0;34m)\u001b[0m\u001b[0;34m,\u001b[0m \u001b[0;34m(\u001b[0m\u001b[0mag__\u001b[0m\u001b[0;34m.\u001b[0m\u001b[0mld\u001b[0m\u001b[0;34m(\u001b[0m\u001b[0mself\u001b[0m\u001b[0;34m)\u001b[0m\u001b[0;34m,\u001b[0m \u001b[0mag__\u001b[0m\u001b[0;34m.\u001b[0m\u001b[0mld\u001b[0m\u001b[0;34m(\u001b[0m\u001b[0miterator\u001b[0m\u001b[0;34m)\u001b[0m\u001b[0;34m)\u001b[0m\u001b[0;34m,\u001b[0m \u001b[0;32mNone\u001b[0m\u001b[0;34m,\u001b[0m \u001b[0mfscope\u001b[0m\u001b[0;34m)\u001b[0m\u001b[0;34m\u001b[0m\u001b[0;34m\u001b[0m\u001b[0m\n\u001b[0m\u001b[1;32m     16\u001b[0m                 \u001b[0;32mexcept\u001b[0m\u001b[0;34m:\u001b[0m\u001b[0;34m\u001b[0m\u001b[0;34m\u001b[0m\u001b[0m\n\u001b[1;32m     17\u001b[0m                     \u001b[0mdo_return\u001b[0m \u001b[0;34m=\u001b[0m \u001b[0;32mFalse\u001b[0m\u001b[0;34m\u001b[0m\u001b[0;34m\u001b[0m\u001b[0m\n",
            "\u001b[0;31mValueError\u001b[0m: in user code:\n\n    File \"/usr/local/lib/python3.10/dist-packages/keras/src/engine/training.py\", line 2416, in predict_function  *\n        return step_function(self, iterator)\n    File \"/usr/local/lib/python3.10/dist-packages/keras/src/engine/training.py\", line 2401, in step_function  **\n        outputs = model.distribute_strategy.run(run_step, args=(data,))\n    File \"/usr/local/lib/python3.10/dist-packages/keras/src/engine/training.py\", line 2389, in run_step  **\n        outputs = model.predict_step(data)\n    File \"/usr/local/lib/python3.10/dist-packages/keras/src/engine/training.py\", line 2357, in predict_step\n        return self(x, training=False)\n    File \"/usr/local/lib/python3.10/dist-packages/keras/src/utils/traceback_utils.py\", line 70, in error_handler\n        raise e.with_traceback(filtered_tb) from None\n    File \"/usr/local/lib/python3.10/dist-packages/keras/src/engine/input_spec.py\", line 298, in assert_input_compatibility\n        raise ValueError(\n\n    ValueError: Input 0 of layer \"U-Net\" is incompatible with the layer: expected shape=(None, 256, 256, 3), found shape=(None, 64, 64, 3)\n"
          ]
        }
      ]
    },
    {
      "cell_type": "code",
      "source": [
        "pree = cv2.resize(xyz, (256, 256))"
      ],
      "metadata": {
        "id": "AYg2ivRYABJF"
      },
      "execution_count": 89,
      "outputs": []
    },
    {
      "cell_type": "code",
      "source": [
        "image_from_array = Image.fromarray(xyz, 'RGB')\n",
        "size_change = image_from_array.resize((256, 256))"
      ],
      "metadata": {
        "id": "xds7AuJqBWT4"
      },
      "execution_count": 90,
      "outputs": []
    },
    {
      "cell_type": "code",
      "source": [
        "yelllow = np.array(size_change)"
      ],
      "metadata": {
        "id": "3FKkeT6WB4Gk"
      },
      "execution_count": 91,
      "outputs": []
    },
    {
      "cell_type": "code",
      "source": [
        "yelllow.shape"
      ],
      "metadata": {
        "colab": {
          "base_uri": "https://localhost:8080/"
        },
        "id": "VbjMQiACCDGB",
        "outputId": "c7436208-3fd4-4635-c2b1-43d5323c2be2"
      },
      "execution_count": 92,
      "outputs": [
        {
          "output_type": "execute_result",
          "data": {
            "text/plain": [
              "(256, 256, 3)"
            ]
          },
          "metadata": {},
          "execution_count": 92
        }
      ]
    },
    {
      "cell_type": "code",
      "source": [
        "finall = np.reshape(yelllow,(-1,yelllow.shape[0],yelllow.shape[1],yelllow.shape[2]))"
      ],
      "metadata": {
        "id": "NBesPgv_CK08"
      },
      "execution_count": 93,
      "outputs": []
    },
    {
      "cell_type": "code",
      "source": [
        "finall.shape"
      ],
      "metadata": {
        "colab": {
          "base_uri": "https://localhost:8080/"
        },
        "id": "15855_OACbY_",
        "outputId": "ac89c8f7-2b5c-4467-eabc-71c3813c0d7c"
      },
      "execution_count": 94,
      "outputs": [
        {
          "output_type": "execute_result",
          "data": {
            "text/plain": [
              "(1, 256, 256, 3)"
            ]
          },
          "metadata": {},
          "execution_count": 94
        }
      ]
    },
    {
      "cell_type": "code",
      "source": [
        "my_pred = model.predict(finall/255.)"
      ],
      "metadata": {
        "colab": {
          "base_uri": "https://localhost:8080/"
        },
        "id": "0iim83GtCSTu",
        "outputId": "32241d17-2f6a-4f6b-c651-87414be325f9"
      },
      "execution_count": 95,
      "outputs": [
        {
          "output_type": "stream",
          "name": "stdout",
          "text": [
            "1/1 [==============================] - 0s 308ms/step\n"
          ]
        }
      ]
    },
    {
      "cell_type": "code",
      "source": [
        "plt.imshow(np.reshape(my_pred,(yelllow.shape[0],yelllow.shape[1],yelllow.shape[2])))"
      ],
      "metadata": {
        "colab": {
          "base_uri": "https://localhost:8080/",
          "height": 450
        },
        "id": "t6EKSCcRCdqE",
        "outputId": "fe772f93-fece-4393-d271-b2c06e0ff484"
      },
      "execution_count": 96,
      "outputs": [
        {
          "output_type": "execute_result",
          "data": {
            "text/plain": [
              "<matplotlib.image.AxesImage at 0x7a667153c250>"
            ]
          },
          "metadata": {},
          "execution_count": 96
        },
        {
          "output_type": "display_data",
          "data": {
            "text/plain": [
              "<Figure size 640x480 with 1 Axes>"
            ],
            "image/png": "[encoded data removed]"
          },
          "metadata": {}
        }
      ]
    },
    {
      "cell_type": "code",
      "source": [
        "plt.imshow(yelllow)"
      ],
      "metadata": {
        "colab": {
          "base_uri": "https://localhost:8080/",
          "height": 450
        },
        "id": "5ik0N-dSCzEy",
        "outputId": "31fd9b92-766c-497b-e705-a576032710b7"
      },
      "execution_count": 98,
      "outputs": [
        {
          "output_type": "execute_result",
          "data": {
            "text/plain": [
              "<matplotlib.image.AxesImage at 0x7a6673010b50>"
            ]
          },
          "metadata": {},
          "execution_count": 98
        },
        {
          "output_type": "display_data",
          "data": {
            "text/plain": [
              "<Figure size 640x480 with 1 Axes>"
            ],
            "image/png": "[encoded data removed]"
          },
          "metadata": {}
        }
      ]
    },
    {
      "cell_type": "code",
      "source": [],
      "metadata": {
        "id": "mPyErVBJC74v"
      },
      "execution_count": null,
      "outputs": []
    }
  ]
}